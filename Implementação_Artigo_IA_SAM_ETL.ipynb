{
  "cells": [
    {
      "cell_type": "markdown",
      "metadata": {
        "id": "view-in-github",
        "colab_type": "text"
      },
      "source": [
        "<a href=\"https://colab.research.google.com/github/douglasfrtoledo/doutorado/blob/main/Implementa%C3%A7%C3%A3o_Artigo_IA_SAM_ETL.ipynb\" target=\"_parent\"><img src=\"https://colab.research.google.com/assets/colab-badge.svg\" alt=\"Open In Colab\"/></a>"
      ]
    },
    {
      "cell_type": "markdown",
      "metadata": {
        "id": "Xly-ZEdwH211"
      },
      "source": [
        "# **SUMARIZAÇÃO** **AUTOMÁTICA**"
      ]
    },
    {
      "cell_type": "markdown",
      "metadata": {
        "id": "SCnjiU_J8Nh0"
      },
      "source": [
        "Fazendo o download dos pacotes necessários da biblioteca NLTK"
      ]
    },
    {
      "cell_type": "code",
      "execution_count": 23,
      "metadata": {
        "colab": {
          "base_uri": "https://localhost:8080/",
          "height": 1000
        },
        "collapsed": true,
        "id": "4m7JfVZn8WYW",
        "outputId": "616e580f-8641-450c-b774-cc763ccce9cf"
      },
      "outputs": [
        {
          "name": "stdout",
          "output_type": "stream",
          "text": [
            "NLTK Downloader\n",
            "---------------------------------------------------------------------------\n",
            "    d) Download   l) List    u) Update   c) Config   h) Help   q) Quit\n",
            "---------------------------------------------------------------------------\n",
            "Downloader> d\n",
            "\n",
            "Download which package (l=list; x=cancel)?\n",
            "  Identifier> averaged_perceptron_tagger\n"
          ]
        },
        {
          "output_type": "stream",
          "name": "stderr",
          "text": [
            "    Downloading package averaged_perceptron_tagger to\n",
            "        /root/nltk_data...\n",
            "      Package averaged_perceptron_tagger is already up-to-date!\n"
          ]
        },
        {
          "name": "stdout",
          "output_type": "stream",
          "text": [
            "\n",
            "---------------------------------------------------------------------------\n",
            "    d) Download   l) List    u) Update   c) Config   h) Help   q) Quit\n",
            "---------------------------------------------------------------------------\n",
            "Downloader> d\n",
            "\n",
            "Download which package (l=list; x=cancel)?\n",
            "  Identifier> floresta\n"
          ]
        },
        {
          "output_type": "stream",
          "name": "stderr",
          "text": [
            "    Downloading package floresta to /root/nltk_data...\n",
            "      Package floresta is already up-to-date!\n"
          ]
        },
        {
          "name": "stdout",
          "output_type": "stream",
          "text": [
            "\n",
            "---------------------------------------------------------------------------\n",
            "    d) Download   l) List    u) Update   c) Config   h) Help   q) Quit\n",
            "---------------------------------------------------------------------------\n",
            "Downloader> d\n",
            "\n",
            "Download which package (l=list; x=cancel)?\n",
            "  Identifier> mac_morpho\n"
          ]
        },
        {
          "output_type": "stream",
          "name": "stderr",
          "text": [
            "    Downloading package mac_morpho to /root/nltk_data...\n",
            "      Package mac_morpho is already up-to-date!\n"
          ]
        },
        {
          "name": "stdout",
          "output_type": "stream",
          "text": [
            "\n",
            "---------------------------------------------------------------------------\n",
            "    d) Download   l) List    u) Update   c) Config   h) Help   q) Quit\n",
            "---------------------------------------------------------------------------\n",
            "Downloader> d\n",
            "\n",
            "Download which package (l=list; x=cancel)?\n",
            "  Identifier> machado\n"
          ]
        },
        {
          "output_type": "stream",
          "name": "stderr",
          "text": [
            "    Downloading package machado to /root/nltk_data...\n",
            "      Package machado is already up-to-date!\n"
          ]
        },
        {
          "name": "stdout",
          "output_type": "stream",
          "text": [
            "\n",
            "---------------------------------------------------------------------------\n",
            "    d) Download   l) List    u) Update   c) Config   h) Help   q) Quit\n",
            "---------------------------------------------------------------------------\n",
            "Downloader> d\n",
            "\n",
            "Download which package (l=list; x=cancel)?\n",
            "  Identifier> punkt\n"
          ]
        },
        {
          "output_type": "stream",
          "name": "stderr",
          "text": [
            "    Downloading package punkt to /root/nltk_data...\n",
            "      Package punkt is already up-to-date!\n"
          ]
        },
        {
          "name": "stdout",
          "output_type": "stream",
          "text": [
            "\n",
            "---------------------------------------------------------------------------\n",
            "    d) Download   l) List    u) Update   c) Config   h) Help   q) Quit\n",
            "---------------------------------------------------------------------------\n",
            "Downloader> d\n",
            "\n",
            "Download which package (l=list; x=cancel)?\n",
            "  Identifier> stopwords\n"
          ]
        },
        {
          "output_type": "stream",
          "name": "stderr",
          "text": [
            "    Downloading package stopwords to /root/nltk_data...\n",
            "      Package stopwords is already up-to-date!\n"
          ]
        },
        {
          "name": "stdout",
          "output_type": "stream",
          "text": [
            "\n",
            "---------------------------------------------------------------------------\n",
            "    d) Download   l) List    u) Update   c) Config   h) Help   q) Quit\n",
            "---------------------------------------------------------------------------\n",
            "Downloader> d\n",
            "\n",
            "Download which package (l=list; x=cancel)?\n",
            "  Identifier> wordnet\n"
          ]
        },
        {
          "output_type": "stream",
          "name": "stderr",
          "text": [
            "    Downloading package wordnet to /root/nltk_data...\n",
            "      Package wordnet is already up-to-date!\n"
          ]
        },
        {
          "name": "stdout",
          "output_type": "stream",
          "text": [
            "\n",
            "---------------------------------------------------------------------------\n",
            "    d) Download   l) List    u) Update   c) Config   h) Help   q) Quit\n",
            "---------------------------------------------------------------------------\n",
            "Downloader> d\n",
            "\n",
            "Download which package (l=list; x=cancel)?\n",
            "  Identifier> words\n"
          ]
        },
        {
          "output_type": "stream",
          "name": "stderr",
          "text": [
            "    Downloading package words to /root/nltk_data...\n",
            "      Package words is already up-to-date!\n"
          ]
        },
        {
          "name": "stdout",
          "output_type": "stream",
          "text": [
            "\n",
            "---------------------------------------------------------------------------\n",
            "    d) Download   l) List    u) Update   c) Config   h) Help   q) Quit\n",
            "---------------------------------------------------------------------------\n",
            "Downloader> q\n"
          ]
        },
        {
          "output_type": "execute_result",
          "data": {
            "text/plain": [
              "'\\nPacotes para instalação\\n- averaged_perceptron_tagger\\n- floresta\\n- mac_morpho\\n- machado\\n- punkt\\n- stopwords\\n- wordnet\\n- words\\n\\n'"
            ],
            "application/vnd.google.colaboratory.intrinsic+json": {
              "type": "string"
            }
          },
          "metadata": {},
          "execution_count": 23
        }
      ],
      "source": [
        "import nltk\n",
        "\n",
        "nltk.download()\n",
        "\n",
        "\"\"\"\n",
        "Pacotes para instalação\n",
        "- averaged_perceptron_tagger\n",
        "- floresta\n",
        "- mac_morpho\n",
        "- machado\n",
        "- punkt\n",
        "- stopwords\n",
        "- wordnet\n",
        "- words\n",
        "\n",
        "\"\"\"\n"
      ]
    },
    {
      "cell_type": "markdown",
      "metadata": {
        "id": "Z_u0N0dmaWjR"
      },
      "source": [
        "Importando o texto completo das páginas\n",
        "\n"
      ]
    },
    {
      "cell_type": "code",
      "execution_count": 24,
      "metadata": {
        "colab": {
          "base_uri": "https://localhost:8080/"
        },
        "id": "bxLSUkFrZycU",
        "outputId": "f0581964-ed5f-4cba-f15c-7c8f38cb8258"
      },
      "outputs": [
        {
          "output_type": "execute_result",
          "data": {
            "text/plain": [
              "65"
            ]
          },
          "metadata": {},
          "execution_count": 24
        }
      ],
      "source": [
        "from urllib.request import Request, urlopen\n",
        "\n",
        "paginas = []\n",
        "\n",
        "links = []\n",
        "\n",
        "\n",
        "\"\"\"\n",
        "Notícios extraídas do site oficial do IFMS - ifms.edu.br\n",
        "Busca realizada:\n",
        "  - Termos: \"engenharia\" + \"computação\" (pois o nome pode estar diferente entre de e da: Engenharia de Computação e Engenharia da Computação)\n",
        "  - Filtro: apenas notícias\n",
        "  - Período: desde sempre (nos baseamos até a data de abertura do curso)\n",
        "  - Resultado: 166 itens\n",
        "\"\"\"\n",
        "\n",
        "links.append(\"https://www.ifms.edu.br/noticias/2024/seguem-abertas-inscricoes-para-vagas-na-graduacao\")\n",
        "links.append(\"https://www.ifms.edu.br/noticias/2024/ofertadas-110-vagas-para-cursos-de-graduacao\")\n",
        "links.append(\"https://www.ifms.edu.br/noticias/2024/governo-federal-anuncia-dois-novos-campi-do-ifms\")\n",
        "links.append(\"https://www.ifms.edu.br/noticias/2024/sisu-abre-inscricoes-com-320-vagas-para-o-ifms\")\n",
        "links.append(\"https://www.ifms.edu.br/noticias/2024/seguem-inscricoes-para-portador-de-diploma-reingresso-e-transferencias\")\n",
        "links.append(\"https://www.ifms.edu.br/noticias/2024/ofertadas-320-vagas-para-cursos-de-graduacao-no-2o-semestre\")\n",
        "links.append(\"https://www.ifms.edu.br/noticias/2023/abertas-inscricoes-para-portador-de-diploma-transferencias-e-reingresso\")\n",
        "links.append(\"https://www.ifms.edu.br/noticias/2022/abertas-1-080-vagas-em-cursos-de-graduacao\")\n",
        "links.append(\"https://www.ifms.edu.br/noticias/2021/inscricoes-para-cursos-de-graduacao-vao-ate-quarta-feira\")\n",
        "links.append(\"https://www.ifms.edu.br/noticias/2021/aplicativo-auxilia-familiares-no-tratamento-de-autismo\")\n",
        "links.append(\"https://www.ifms.edu.br/noticias/2021/abertas-482-vagas-em-cursos-de-graduacao\")\n",
        "links.append(\"https://www.ifms.edu.br/noticias/2023/abertas-vagas-para-graduacao-gratuita-em-oito-municipios\")\n",
        "links.append(\"https://www.ifms.edu.br/noticias/2023/sistemas-para-internet-recebe-nota-maxima-do-mec\")\n",
        "links.append(\"https://www.ifms.edu.br/noticias/2023/prorrogadas-inscricoes-para-cursos-de-graduacao\")\n",
        "links.append(\"https://www.ifms.edu.br/noticias/2023/curso-de-jogos-digitais-recebe-nota-maxima-do-mec\")\n",
        "links.append(\"https://www.ifms.edu.br/noticias/2023/abertas-inscricoes-para-760-vagas-em-cursos-de-graduacao\")\n",
        "links.append(\"https://www.ifms.edu.br/noticias/2023/mais-dois-cursos-recebem-conceito-maximo-do-mec\")\n",
        "links.append(\"https://www.ifms.edu.br/noticias/2023/relatorio-traz-os-resultados-institucionais-de-2022\")\n",
        "links.append(\"https://www.ifms.edu.br/noticias/2022/curso-de-graduacao-obtem-nota-maxima-do-mec\")\n",
        "links.append(\"https://www.ifms.edu.br/noticias/2022/publicado-resultado-da-selecao-de-eventos-empreendedorismo-e-inovacao\")\n",
        "links.append(\"https://www.ifms.edu.br/noticias/2022/abertas-inscricoes-para-1-080-vagas-na-graduacao\")\n",
        "links.append(\"https://www.ifms.edu.br/noticias/2022/abertas-532-vagas-na-graduacao-em-dez-municipios\")\n",
        "links.append(\"https://www.ifms.edu.br/noticias/2022/abertas-inscricoes-para-532-vagas-no-ensino-superior\")\n",
        "links.append(\"https://www.ifms.edu.br/noticias/2022/inscricao-para-cursos-de-graduacao-termina-na-6a-feira\")\n",
        "links.append(\"https://www.ifms.edu.br/noticias/2022/abertas-novas-inscricoes-para-318-vagas-na-graduacao-em-9-campi\")\n",
        "links.append(\"https://www.ifms.edu.br/noticias/2022/abertas-462-vagas-para-portador-de-diploma-reingresso-e-transferencia\")\n",
        "links.append(\"https://www.ifms.edu.br/noticias/2021/abertas-482-vagas-em-cursos-de-graduacao\")\n",
        "links.append(\"https://www.ifms.edu.br/noticias/2021/aplicativo-auxilia-familiares-no-tratamento-de-autismo\")\n",
        "links.append(\"https://www.ifms.edu.br/noticias/2021/inscricoes-para-cursos-de-graduacao-vao-ate-quarta-feira\")\n",
        "links.append(\"https://www.ifms.edu.br/noticias/2022/abertas-1-080-vagas-em-cursos-de-graduacao\")\n",
        "links.append(\"https://www.ifms.edu.br/noticias/2021/abertas-120-vagas-para-graduacao-em-tres-lagoas\")\n",
        "links.append(\"https://www.ifms.edu.br/noticias/2021/ultima-semana-de-inscricoes-para-cursos-de-graduacao\")\n",
        "links.append(\"https://www.ifms.edu.br/noticias/2021/candidatos-da-graduacao-sao-convocados-para-heteroidentificacao\")\n",
        "links.append(\"https://www.ifms.edu.br/noticias/2021/publicado-resultado-de-heteroidentificacao-e-convocacao-para-matricula\")\n",
        "links.append(\"https://www.ifms.edu.br/noticias/2021/abertas-400-vagas-em-cursos-superiores-em-dez-municipios\")\n",
        "links.append(\"https://www.ifms.edu.br/noticias/2021/abertas-inscricoes-para-265-vagas-remanescentes-nos-10-campi\")\n",
        "links.append(\"https://www.ifms.edu.br/noticias/2021/inscricoes-para-vagas-remanescentes-na-graduacao-terminam-terca\")\n",
        "links.append(\"https://www.ifms.edu.br/noticias/2021/inscricao-para-portador-de-diploma-e-transferencia-vai-ate-terca-feira\")\n",
        "links.append(\"https://www.ifms.edu.br/noticias/2021/crie-e-governo-do-estado-firmam-convenio-para-estagios\")\n",
        "links.append(\"https://www.ifms.edu.br/noticias/2021/inscricoes-para-cursos-de-graduacao-seguem-ate-marco\")\n",
        "links.append(\"https://www.ifms.edu.br/noticias/2021/ampliado-numero-de-vagas-ofertadas-para-graduacao\")\n",
        "links.append(\"https://www.ifms.edu.br/noticias/2021/inscricoes-para-cursos-de-graduacao-terminam-no-domingo\")\n",
        "links.append(\"https://www.ifms.edu.br/noticias/2020/abertas-479-vagas-para-portadores-de-diploma-transferencia-e-reingresso\")\n",
        "links.append(\"https://www.ifms.edu.br/noticias/2020/abertas-inscricoes-para-479-vagas-em-cursos-de-graduacao\")\n",
        "links.append(\"https://www.ifms.edu.br/noticias/2020/inscricoes-para-cursos-de-graduacao-terminam-na-segunda-feira\")\n",
        "links.append(\"https://www.ifms.edu.br/noticias/2020/divulgado-resultado-para-ingresso-na-graduacao\")\n",
        "links.append(\"https://www.ifms.edu.br/noticias/2021/abertas-mais-de-400-vagas-para-graduacao-em-dez-municipios\")\n",
        "links.append(\"https://www.ifms.edu.br/noticias/2020/abertas-344-vagas-para-portadores-de-diploma-e-transferencias\")\n",
        "links.append(\"https://www.ifms.edu.br/noticias/2020/abertas-inscricoes-para-960-vagas-em-cursos-de-graduacao\")\n",
        "links.append(\"https://www.ifms.edu.br/noticias/2020/inscricoes-para-portadores-de-diploma-e-transferencias-comecam-na-2a\")\n",
        "links.append(\"https://www.ifms.edu.br/noticias/2020/inscricoes-para-graduacao-devem-ser-feitas-ate-quinta-feira\")\n",
        "links.append(\"https://www.ifms.edu.br/noticias/2020/divulgada-lista-de-propostas-de-empresas-juniores-inscritas\")\n",
        "links.append(\"https://www.ifms.edu.br/noticias/2020/seis-projetos-receberao-apoio-para-criar-empresas-juniores\")\n",
        "links.append(\"https://www.ifms.edu.br/noticias/ifms-ofertara-960-vagas-em-cursos-de-graduacao\")\n",
        "links.append(\"https://www.ifms.edu.br/noticias/ifms-abre-960-vagas-em-cursos-de-graduacao\")\n",
        "links.append(\"https://www.ifms.edu.br/noticias/2020/inscricoes-para-cursos-de-graduacao-abrem-no-dia-21\")\n",
        "links.append(\"https://www.ifms.edu.br/noticias/abertas-330-vagas-para-portador-de-diploma-e-transferencias\")\n",
        "links.append(\"https://www.ifms.edu.br/noticias/publicado-resultado-de-selecao-para-portadores-de-diploma-e-transferencias\")\n",
        "links.append(\"https://www.ifms.edu.br/noticias/ifms-recebe-inscricoes-de-candidatos-de-todo-o-pais\")\n",
        "links.append(\"https://www.ifms.edu.br/noticias/prorrogado-prazo-de-inscricao-para-cursos-de-graduacao\")\n",
        "links.append(\"https://www.ifms.edu.br/noticias/divulgada-1a-chamada-para-cursos-de-graduacao\")\n",
        "links.append(\"https://www.ifms.edu.br/noticias/abertas-inscricoes-para-vagas-remanescentes-do-sisu\")\n",
        "links.append(\"https://www.ifms.edu.br/noticias/abertas-inscricoes-para-cursos-de-graduacao\")\n",
        "links.append(\"https://www.ifms.edu.br/noticias/ifms-abre-mil-vagas-em-cursos-de-graduacao\")\n",
        "links.append(\"https://www.ifms.edu.br/noticias/ifms-vai-abrir-mil-vagas-na-graduacao-em-2019\")\n",
        "\n",
        "\n",
        "for link in links:\n",
        "  l = Request(link,\n",
        "               headers={'User-Agent': 'Mozilla/5.0'})\n",
        "  paginas.append(urlopen(l).read().decode('utf-8', 'ignore'))\n",
        "\n",
        "\n",
        "len(paginas)\n"
      ]
    },
    {
      "cell_type": "markdown",
      "metadata": {
        "id": "GIq_IjtGahKX"
      },
      "source": [
        "Detectando o texto dentro da página"
      ]
    },
    {
      "cell_type": "code",
      "execution_count": 25,
      "metadata": {
        "id": "L2e78BzCavpo"
      },
      "outputs": [],
      "source": [
        "from bs4 import BeautifulSoup\n",
        "\n",
        "texto = \"\"\n",
        "\n",
        "for pagina in paginas:\n",
        "  soup = BeautifulSoup(pagina, \"lxml\")\n",
        "  texto += soup.find(id=\"content\").text\n"
      ]
    },
    {
      "cell_type": "markdown",
      "metadata": {
        "id": "R7yL28yscx9Q"
      },
      "source": [
        "Normalizando o texto para minúsculas e sem acentuação e caracteres especiais\n",
        "\n"
      ]
    },
    {
      "cell_type": "code",
      "execution_count": 26,
      "metadata": {
        "id": "GkqigTEjc5Dd"
      },
      "outputs": [],
      "source": [
        "import unicodedata\n",
        "import re\n",
        "\n",
        "def removerAcentosECaracteresEspeciais(text):\n",
        "\n",
        "    # Unicode normalize transforma um caracter em seu equivalente em latin.\n",
        "    nfkd = unicodedata.normalize('NFKD', text)\n",
        "\n",
        "    textSemAcento = u\"\".join([c for c in nfkd if not unicodedata.combining(c)])\n",
        "\n",
        "    # Usa expressão regular para retornar a palavra apenas com números, letras e espaço\n",
        "    return re.sub('[^a-zA-Z0-9\\. \\\\\\]', '', textSemAcento)\n",
        "\n",
        "\n",
        "texto_normalizado = removerAcentosECaracteresEspeciais(texto)\n",
        "\n",
        "texto_normalizado = texto_normalizado.lower()\n"
      ]
    },
    {
      "cell_type": "markdown",
      "metadata": {
        "id": "rQfvsNHOa-gu"
      },
      "source": [
        "Quebrando o texto em sentenças e palavras"
      ]
    },
    {
      "cell_type": "code",
      "execution_count": 27,
      "metadata": {
        "colab": {
          "base_uri": "https://localhost:8080/"
        },
        "id": "ILLLKNApbB13",
        "outputId": "00618e4c-7a26-4c20-f7d3-fdecc3329431"
      },
      "outputs": [
        {
          "output_type": "stream",
          "name": "stdout",
          "text": [
            "Quantidade de sentenças: \n",
            "510\n",
            "Quantidade de palavras: \n",
            "39898\n"
          ]
        }
      ],
      "source": [
        "from nltk.tokenize import sent_tokenize\n",
        "from nltk.tokenize import word_tokenize\n",
        "\n",
        "sentencas = sent_tokenize(texto_normalizado)\n",
        "\n",
        "palavras = word_tokenize(texto_normalizado)\n",
        "\n",
        "print(\"Quantidade de sentenças: \")\n",
        "print(len(sentencas))\n",
        "\n",
        "print(\"Quantidade de palavras: \")\n",
        "print(len(palavras))"
      ]
    },
    {
      "cell_type": "markdown",
      "metadata": {
        "id": "1EVZtL-tdO9c"
      },
      "source": [
        "Removendo stopwords"
      ]
    },
    {
      "cell_type": "code",
      "execution_count": 30,
      "metadata": {
        "id": "YQWCOfVDdRD5",
        "colab": {
          "base_uri": "https://localhost:8080/"
        },
        "outputId": "e3556fea-9bcc-40be-e8d6-20265c0a2443"
      },
      "outputs": [
        {
          "output_type": "stream",
          "name": "stdout",
          "text": [
            "Quantidade de palavras sem stopwords:\n",
            "24883\n"
          ]
        }
      ],
      "source": [
        "from nltk.corpus import stopwords\n",
        "from string import punctuation\n",
        "\n",
        "stopwords = set(stopwords.words('portuguese') + list(punctuation))\n",
        "\n",
        "palavras_sem_stopwords = []\n",
        "\n",
        "\n",
        "for palavra in palavras:\n",
        "  if palavra not in stopwords and (palavra != \".\" or palavra != \",\"):\n",
        "    palavras_sem_stopwords.append(palavra)\n",
        "\n",
        "\n",
        "print(\"Quantidade de palavras sem stopwords:\")\n",
        "print(len(palavras_sem_stopwords))\n"
      ]
    },
    {
      "cell_type": "markdown",
      "metadata": {
        "id": "viTo2rJjtvIh"
      },
      "source": [
        "Determinando a frequência das palavras"
      ]
    },
    {
      "cell_type": "code",
      "execution_count": 31,
      "metadata": {
        "id": "Gyuqvn4Sty8s"
      },
      "outputs": [],
      "source": [
        "from nltk.probability import FreqDist\n",
        "\n",
        "frequencia = FreqDist(palavras_sem_stopwords)\n"
      ]
    },
    {
      "cell_type": "markdown",
      "metadata": {
        "id": "suHAmjzZ3P6l"
      },
      "source": [
        "Cálculo do Peso de Cada Palavra"
      ]
    },
    {
      "cell_type": "code",
      "execution_count": 32,
      "metadata": {
        "id": "9m4BagVW3bBf"
      },
      "outputs": [],
      "source": [
        "palavras_peso = {}\n",
        "\n",
        "#peso referente aos estudantes\n",
        "palavrasVies5 = [\"nota\", \"media\", \"frequencia\", \"faltas\", \"avaliacao\", \"prova\", \"trabalho\", \"aprovado\", \"aprovada\", \"reprovado\", \"reprovada\"]\n",
        "\n",
        "#peso referente ao curso\n",
        "palavrasVies3 = [\"curso\", \"disciplina\", \"bacharel\", \"bacharelado\"]\n",
        "\n",
        "#peso referente a instituição de ensino\n",
        "palavrasVies2 = [\"instituicao\", \"universidade\", \"instituto\", \"faculdade\", \"departamento\"]\n",
        "\n",
        "for palavra in palavras_sem_stopwords:\n",
        "\n",
        "   peso = 1\n",
        "\n",
        "   if palavra in palavrasVies5:\n",
        "      peso = 5\n",
        "\n",
        "   if palavra in palavrasVies3:\n",
        "      peso = 3\n",
        "\n",
        "   if palavra in palavrasVies2:\n",
        "      peso = 2\n",
        "\n",
        "   palavras_peso[palavra] = frequencia[palavra]/frequencia[frequencia.max()]*peso\n",
        "\n",
        "\n",
        "\n",
        "palavras_ordenadas_importancia = []\n",
        "peso_ordenado_dec = []\n",
        "\n",
        "for palavra in sorted(palavras_peso, key = palavras_peso.get, reverse=True):\n",
        "    palavras_ordenadas_importancia.append(palavra)\n",
        "    peso_ordenado_dec.append(palavras_peso[palavra])\n",
        "\n"
      ]
    },
    {
      "cell_type": "markdown",
      "metadata": {
        "id": "g2n25bqHuIYA"
      },
      "source": [
        "Identificando as sentenças mais importantes"
      ]
    },
    {
      "cell_type": "code",
      "execution_count": 33,
      "metadata": {
        "colab": {
          "base_uri": "https://localhost:8080/"
        },
        "id": "fyUm4YZVuL2x",
        "outputId": "e8afa10b-fa6d-435c-9a73-fd196503dc92"
      },
      "outputs": [
        {
          "output_type": "stream",
          "name": "stdout",
          "text": [
            "a previsao e que o resultado preliminar seja divulgado no dia 11 de marco e o final no dia 17 do mesmo mes.quadro de vagas campuscursoturnoportador de diplomatransferencia internatransferencia externareingressoaquidauanatecnologia em sistemas para internetnoturno3333engenharia civilintegral1334tecnologia em redes de computadoresnoturno333campo grandetecnologia em sistemas para internetnoturno1111engenharia mecanicanoturno211corumbatecnologia em analise e desenvolvimento de sistemasnoturno33310tecnologia em processos metalurgicosnoturno3223coximtecnologia em alimentosnoturno55510engenharia de pescanoturno55510licenciatura em quimicanoturno55510tecnologia em sistemas para internetnoturno1010douradostecnologia em jogos digitaisnoturno10101010jardimlicenciatura em computacaonoturno55510naviraitecnologia em analise e desenvolvimento de sistemasnoturno5510bacharelado em agronomiaintegral2132nova andradinabacharelado em agronomiaintegral222tecnologia em analise e desenvolvimento de sistemasnoturno255tecnologia em producao de graosmatutino2222ponta poratecnologia em agronegocionoturno551010bacharelado em agronomiaintegral551010tres lagoastecnologia em analise e desenvolvimento de sistemasnoturno5255tecnologia em automacao industrialnoturno2235engenharia de controle e automacaointegral4337engenharia de computacaointegral5235reportar erroensino superiorampliado numero de vagas ofertadas para graduacaoagora passam a ser oferecidas 447 vagas para portadores de diploma reingresso e transferencias em dez municipiostweettweetcompartilhar no whatsapp      por juliana aragaopublicado    22022021 10h36ultima modificacao    22022021 10h36itens relacionadosinscricoes para cursos de graduacao seguem ate marcoo instituto federal de mato grosso do sul ifms ampliou para 447 o numero de vagas oferecidas no processo seletivo para cursos de graduacao nas modalidades portador de diploma reingresso e transferencias interna e externa com ingresso no primeiro semestre letivo de 2021.a retificacao do quadro de vagas foi publicada na sextafeira 19 na central de selecao do ifms.sao oferecidas 17 opcoes de cursos  entre superiores de tecnologia bacharelados e licenciaturas  nos campi aquidauana campo grande corumba coxim dourados jardim navirai nova andradina ponta pora e tres lagoas conforme o quadro de vagas abaixo.entenda as modalidades do processo seletivoportador de diploma e a forma de ingresso de estudante com curso superior concluido no ifms ou em outra instituicao de ensino publica ou privada reconhecida pelo ministerio da educacao mecreingresso destinado a estudantes do ifms que deixaram de frequentar o curso nos cinco anos anteriores a este editaltransferencia externa forma de ingresso em que o estudante matriculado no ifms pretende transferirse para outro campus da propria instituicao ou em que o estudante matriculado em outra instituicao de ensino publica ou privada reconhecida pelo ministerio da educacao mec quer transferirse para o ifmstransferencia interna e a forma de ingresso em que o estudante matriculado no ifms tem a intencao de transferirse para outro curso no mesmo campus.inscricoes  sao gratuitas e devem ser feitas ate o dia 7 de marco na pagina do candidato da central de selecao.candidatos as vagas destinadas a portadores de diploma e transferencia externa deverao preencher o requerimento de inscricao e anexar os seguintes documentos digitalizadosrg ou outro documento oficial de identificacao com fotocadastro de pessoa fisica cpf caso nao conste no rg ou outro documento oficial de identificacaodiploma ou certificado e historico escolar do curso de graduacao reconhecido pelo meccomprovante de matricula recente de curso superior autorizado ou reconhecido pelo mec caso esteja cursando curso superior e se inscreva como transferencia externahistorico academicoescolar de curso superior reconhecido ou autorizado pelo mec com carga horaria das unidades curriculares e aproveitamento notas eementas das unidades curriculares disciplinas cursadas para eventual aproveitamento e pontuacao nao obrigatorias para participar do processo mas obrigatorias para pontuar e definir a classificacao do candidato.para se inscrever na modalidade reingresso e transferencia interna o candidato devera preencher o requerimento de inscricao e anexar os seguintes documentos digitalizadosrg ou outro documento oficial de identificacao com fotocadastro de pessoa fisica cpf caso nao conste no rg ou em outro documento oficial de identificacao ecarta pessoal informando os motivos para solicitar o reingresso ou transferencia interna.selecao  a documentacao dos inscritos sera avaliada por uma comissao do campus onde as vagas sao ofertadas.nas modalidades portador de diploma e transferencias interna e externa sera verificado se as unidades curriculares cursadas na instituicao de origem ou o curso atendem ao conteudo programatico das unidades curriculares do curso em que o candidato deseja ingressar no ifms.\n",
            "90.62576687116555\n",
            "inscricoes devem ser feitas onlinetweettweetcompartilhar no whatsapp      por vinicius vieirapublicado    29072021 08h12ultima modificacao    29072021 08h12itens relacionadosabertas 441 vagas para cursos superiores nos dez campio instituto federal de mato grosso do sul ifms recebe ate tercafeira 3 as inscricoes para 441 vagas em cursos de graduacao para portador de diploma reingresso e transferencias interna e externa com ingresso no segundo semestre letivo de 2021.sao oferecidas vagas em 17 opcoes de cursos entre superiores de tecnologia bacharelados e licenciaturas nos campi aquidauana campo grande corumba coxim dourados jardim navirai nova andradina ponta pora e tres lagoas.os candidatos devem se inscrever gratuitamente pela pagina do candidato da central de selecao do ifms onde esta disponivel o edital de abertura com todas as regras do processo seletivo.para vagas de portador de diploma e transferencia externa o interessado deve preencher o requerimento de inscricao e anexar os seguintes documentos digitalizadosrg ou outro documento oficial de identificacao com fotocadastro de pessoa fisica cpf caso nao conste no rg ou outro documento oficial de identificacaodiploma ou certificado e historico escolar do curso de graduacao reconhecido pelo ministerio da educacao meccomprovante de matricula recente de curso superior autorizado ou reconhecido pelo mec caso esteja cursando curso superior e se inscreva como transferencia externahistorico academicoescolar de curso superior reconhecido ou autorizado pelo mec com informacoes constantes do item 4.3.6 do edital de abertura eementas das unidades curriculares disciplinas cursadas para eventual aproveitamento e pontuacao nao obrigatorias para participar do processo mas obrigatorias para pontuar e definir a classificacao do candidato.ja para reingresso e transferencia interna alem do requerimento de inscricao e necessario anexar os seguintes documentos digitalizadosrg ou outro documento oficial de identificacao com fotocadastro de pessoa fisica cpf caso nao conste no rg ou em outro documento oficial de identificacao ecarta pessoal informando os motivos para solicitar o reingresso ou transferencia interna.a selecao sera feita por meio da compatibilidade entre o conteudo programatico do curso em que se pretende ingressar com as unidades curriculares ja cursadas na instituicao de origem transferencias e portador de diploma ou pelo coeficiente de rendimento reingresso.a previsao e que o resultado preliminar seja divulgado no dia 10 de agosto e o final no dia 18 do mesmo mes.modalidades  a oferta de vagas se destina a publicos distintos de acordo com a formacao ou situacao do candidatoportador de diploma  e a forma de ingresso de estudante com curso superior concluido no ifms ou em outra instituicao de ensino publica ou privada reconhecida pelo mecreingresso  destinado a estudantes do ifms que deixaram de frequentar o curso nos cinco anos anteriores a este editaltransferencia externa  forma de ingresso em que o aluno matriculado no ifms pretende transferirse para outro campus da propria instituicao ou em que o estudante matriculado em outra instituicao de ensino publica ou privada reconhecida pelo mec deseja transferirse para o ifms.transferencia interna  e a forma de ingresso em que o estudante matriculado na instituicao tem a intencao de transferirse para outro curso no mesmo campus.quadro de vagascampuscursoturnoportador de diplomatransferencia internatransferencia externareingressoaquidauanatecnologia em sistemas para internetnoturno05050505engenharia civilintegral03030304tecnologia em redes de computadoresnoturno030303campo grandetecnologia em sistemas para internetnoturno01010101tecnologia em sistemas para internetmatutino01010101engenharia eletricanoturno04040404corumbatecnologia em analise e desenvolvimento de sistemasnoturno07tecnologia em analise e desenvolvimento de sistemasmatutino03coximtecnologia em alimentosnoturno10101010engenharia de pescanoturno10101010licenciatura em quimicanoturno10101010tecnologia em sistemas para internetnoturno10101010douradostecnologia em jogos digitaisnoturno0602jardimlicenciatura em computacaonoturno05050505naviraitecnologia em analise e desenvolvimento de sistemasnoturno04020405nova andradinabacharelado em agronomiaintegral050505tecnologia em analise e desenvolvimento de sistemasnoturno05050505tecnologia em producao de graosmatutino05050505ponta poratecnologia em agronegocionoturno10051005bacharelado em agronomiaintegral10051005tres lagoastecnologia em analise e desenvolvimento de sistemasnoturno04010401tecnologia em automacao industrialnoturno02020305engenharia de controle e automacaointegral03020305engenharia de computacaointegral03010305reportar errocriemscrie e governo do estado firmam convenio para estagiosestudantes do ifms e de mais cinco universidades receberao bolsas para estagiar na fundect.\n",
            "82.74233128834375\n",
            "a previsao e que o resultado preliminar seja divulgado no dia 11 de marco e o final no dia 17 do mesmo mes.quadro de vagas campuscursoturnoportador de diplomatransferencia internatransferencia externareingressoaquidauanatecnologia em sistemas para internetnoturno3333engenharia civilintegral1334tecnologia em redes de computadoresnoturno333campo grandetecnologia em sistemas para internetnoturno1111engenharia eletricanoturno111engenharia mecanicanoturno333corumbatecnologia em analise e desenvolvimento de sistemasnoturno33310tecnologia em processos metalurgicosnoturno3223coximtecnologia em alimentosnoturno55510engenharia de pescanoturno55510licenciatura em quimicanoturno55510tecnologia em sistemas para internetnoturno1010douradostecnologia em jogos digitaisnoturno10101010jardimlicenciatura em computacaonoturno55510bacharelado em arquitetura e urbanismointegral1051010naviraitecnologia em analise e desenvolvimento de sistemasnoturno5510bacharelado em agronomiaintegral2132nova andradinabacharelado em agronomiaintegral222tecnologia em analise e desenvolvimento de sistemasnoturno255tecnologia em producao de graosmatutino2222ponta poratecnologia em agronegocionoturno551010bacharelado em agronomiaintegral551010tres lagoastecnologia em analise e desenvolvimento de sistemasnoturno5255tecnologia em automacao industrialnoturno2235engenharia de controle e automacaointegral4337engenharia de computacaointegral5235reportar erroensino superiorinscricoes para cursos de graduacao terminam no domingosao ofertadas 447 vagas em 17 opcoes de cursos para as modalidades portador de diploma reingresso e transferencias interna e externatweettweetcompartilhar no whatsapp      por osvaldo satopublicado    03032021 08h59ultima modificacao    03032021 08h59itens relacionadosampliado numero de vagas ofertadas para graduacaoo instituto federal de mato grosso do sul ifms encerra neste domingo 7 o prazo de inscricoes no processo seletivo para ingresso no primeiro semestre letivo de 2021 em cursos de graduacao nas modalidades portador de diploma reingresso e transferencias interna e externa.sao ofertadas 447 vagas em 17 opcoes de cursos  entre superiores de tecnologia bacharelados e licenciaturas  nos campi aquidauana campo grande corumba coxim dourados jardim navirai nova andradina ponta pora e tres lagoas.estao contempladas neste processo seletivo as seguintes modalidades de ingresso portador de diploma e a forma de ingresso de estudante com curso superior concluido no ifms ou em outra instituicao de ensino publica ou privada reconhecida pelo ministerio da educacao mec reingresso destinado a estudantes do ifms que deixaram de frequentar o curso nos cinco anos anteriores a este edital transferencia externa forma de ingresso em que o estudante matriculado no ifms pretende transferirse para outro campus da propria instituicao ou em que o estudante matriculado em outra instituicao de ensino publica ou privada reconhecida pelo ministerio da educacao mec quer transferirse para o ifms transferencia interna e a forma de ingresso em que o estudante matriculado no ifms tem a intencao de transferirse para outro curso no mesmo campus.o edital com todas as regras do processo seletivo esta publicado na central de selecao do ifms.inscricoes  sao gratuitas e devem ser feitas na pagina do candidato da central de selecao.candidatos as vagas destinadas a portadores de diploma e transferencia externa deverao preencher o requerimento de inscricao e anexar os seguintes documentos digitalizados rg ou outro documento oficial de identificacao com fotocadastro de pessoa fisica cpf caso nao conste no rg ou outro documento oficial de identificacaodiploma ou certificado e historico escolar do curso de graduacao reconhecido pelo meccomprovante de matricula recente de curso superior autorizado ou reconhecido pelo mec caso esteja cursando curso superior e se inscreva como transferencia externahistorico academicoescolar de curso superior reconhecido ou autorizado pelo mec com carga horaria das unidades curriculares e aproveitamento notas eementas das unidades curriculares disciplinas cursadas para eventual aproveitamento e pontuacao nao obrigatorias para participar do processo mas obrigatorias para pontuar e definir a classificacao do candidato.\n",
            "76.71779141104288\n",
            "poderao ter acrescimo de 20 na nota geral do enem aqueles que sejam residentes e domiciliados na area de abrangencia do campus onde concorre a vaga.o candidato devera optar pela modalidade de cota local no momento da inscricao.cronograma  serao gratuitas e deverao ser feitas entre os dias 22 e 25 de janeiro na pagina do sisu.a primeira chamada sera publicada no dia 30 de janeiro na pagina do sisu mesma data em que comeca o prazo para os candidatos nao selecionados manifestarem interesse em participar da lista de espera segue ate 0702.no dia 31 de janeiro serao publicadas na central de selecao do ifms a primeira chamada e a convocacao para as bancas de heteroidentificacao etapa em que os candidatos pretos e pardos deverao confirmar a autodeclaracao.as bancas de heteroidentificacao estao previstas para 1o de fevereiro data em que tera inicio o prazo de matriculas para os convocados em primeira chamada segue ate 0702.o cronograma preve ainda etapas como publicacao da segunda chamada 1902 e reconvocacao dos candidatos 1103. as aulas terao inicio no dia 25 de julho.duvidas sobre o edital devem ser encaminhadas para selecao.graduacaoifms.edu.br.quadro de vagascampuscursoturnonumero de vagasaquidauanaengenharia civilintegral40redes de computadoresnoturno40sistemas para internetnoturno40campo grandesistemas para internetmatutino40tres lagoasengenharia de controle e automacaointegral40automacao industrialnoturno40analise e desenvolvimento de sistemasnoturno40engenharia de computacaointegral40reportar errograduacaoabertas inscricoes para portador de diploma reingresso e transferenciassao ofertadas 191 vagas nos dez campi do ifms para cursos superiores de tecnologia bacharelados e licenciaturastweettweetcompartilhar no whatsapp      por juliana aragaopublicado    26122023 13h25ultima modificacao    08012024 14h43o instituto federal de mato grosso do sul ifms esta com inscricoes abertas na selecao para cursos de graduacao gratuitos nas modalidades portador de diploma reingresso e transferencias interna e externa com ingresso no 1o semestre de 2024.sao ofertadas 191 vagas com opcoes em cursos superiores de tecnologia bacharelados e licenciaturas em aquidauana campo grande corumba coxim dourados jardim navirai nova andradina ponta pora e tres lagoas.entenda as formas de ingresso ofertadas pelo editalportador de diploma para estudantes com curso superior concluido no ifms ou em outra instituicao de ensino publica ou privada reconhecida pelo ministerio da educacao mec.reingresso voltado a estudantes do ifms que desejam retornar ao mesmo curso e campus que deixaram de frequentar ha no maximo cinco anos e que nao tenham se beneficiado do reingresso anteriormente.transferencia externa destinada a estudantes matriculados no ifms que pretendem transferirse para outro campus da instituicao ou estudantes matriculados em outra instituicao de ensino publica ou privada reconhecida pelo mec com a intencao de transferirse para o ifms.transferencia interna para estudantes matriculados no ifms que queiram transferirse para outro curso no mesmo campus da instituicao.o edital com as regras do processo seletivo esta publicado na central de selecao do ifms.inscricoes  sao gratuitas e devem ser feitas ate 31 de janeiro na pagina do candidato.os interessados as vagas nas modalidades portador de diploma e transferencia externa deverao anexar alem da copia digitalizada de um documento oficial de identificacao com foto e do cpf o diplomacertificado e historico escolar do curso de graduacao e demais documentos descritos no item 4.3 do edital de abertura do processo seletivo.nos casos do reingresso e da transferencia interna devera ser anexada a documentacao prevista no item 4.4 do edital dentre os quais documentos pessoais e uma carta informando os motivos da solicitacao.consulte a lista completa de documentos em cada modalidade no edital de abertura do processo seletivoselecao  as documentacoes dos inscritos serao avaliadas pelos coordenadores dos respectivos cursos.nas modalidades transferencias interna e externa e portador de diploma a avaliacao sera feita a partir das informacoes preenchidas no anexo i do edital historico escolar e ementas apresentadas.\n",
            "69.97546012269945\n",
            "confira o quadro completo por municipio.entenda as modalidades do processo seletivoportador de diploma e a forma de ingresso de estudante com curso superior concluido no ifms ou em outra instituicao de ensino publica ou privada reconhecida pelo ministerio da educacao mec.reingresso destinado a estudantes do ifms que deixaram de frequentar o curso nos cinco anos anteriores a este edital.transferencia externa forma de ingresso em que o estudante matriculado no ifms pretende transferirse para outro campus da propria instituicao ou em que o estudante matriculado em outra instituicao de ensino publica ou privada reconhecida pelo ministerio da educacao mec quer transferirse para o ifms.transferencia interna e a forma de ingresso em que o estudante matriculado no ifms tem a intencao de transferirse para outro curso no mesmo campus.inscricoes  sao gratuitas e devem ser feitas na pagina do candidato da central de selecao.candidatos as vagas destinadas a portadores de diploma e transferencia externa deverao preencher o requerimento de inscricao e anexar os seguintes documentos digitalizadosrg ou outro documento oficial de identificacao com fotocadastro de pessoa fisica cpf caso nao conste no rg ou outro documento oficial de identificacaodiploma ou certificado e historico escolar do curso de graduacao reconhecido pelo meccomprovante de matricula recente de curso superior autorizado ou reconhecido pelo mec caso esteja cursando curso superior e se inscreva como transferencia externahistorico academicoescolar de curso superior reconhecido ou autorizado pelo mec com carga horaria das unidades curriculares e aproveitamento notas eementas das unidades curriculares disciplinas cursadas para eventual aproveitamento e pontuacao nao obrigatorias para participar do processo mas obrigatorias para pontuar e definir a classificacao do candidato.para se inscrever na modalidade reingresso e transferencia interna o candidato devera preencher o requerimento de inscricao e anexar os seguintes documentos digitalizadosrg ou outro documento oficial de identificacao com fotocadastro de pessoa fisica cpf caso nao conste no rg ou em outro documento oficial de identificacao ecarta pessoal informando os motivos para solicitar o reingresso ou transferencia interna.selecao  a documentacao dos inscritos sera avaliada por uma comissao do campus onde as vagas sao ofertadas.nas modalidades portador de diploma e transferencias interna e externa sera verificado se as unidades curriculares cursadas na instituicao de origem ou o curso atendem ao conteudo programatico das unidades curriculares do curso em que o candidato deseja ingressar no ifms.\n",
            "59.59815950920249\n",
            "a classificacao sera feita com base no historico escolar e nas ementas.a previsao e que o resultado preliminar seja divulgado no dia 2 de julho e o final no dia 5. as matriculas deverao ser feitas nos dias 9 e 10 de julho.candidatos nao convocados na primeira chamada irao compor uma lista de espera que podera ser utilizada para o preenchimento das possiveis vagas remanescentes.vagas para portadores de diploma e transferenciascampuscursoquantidade de vagasportador de diplomatransferencia internatransferencia externaaquidauanatecnologia em sistemas para internet555bacharelado em engenharia civil22tecnologia em redes de computadores555campo grandetecnologia em sistemas para internet855corumbatecnologia em analise e desenvolvimento de sistemas411tecnologia em processos metalurgicos511coximtecnologia em alimentos555licenciatura em quimica555bacharelado em engenharia de pesca101010tecnologia em sistemas para internet10510douradostecnologia em jogos digitais10510jardimlicenciatura em computacao1055bacharelado em arquitetura e urbanismo611naviraitecnologia em analise e desenvolvimento de sistemas10510bacharelado em agronomia 111nova andradinabacharelado em agronomia35tecnologia em analise e desenvolvimento de sistemas5tecnologia em producao de graos848tres lagoas tecnologia em analise e desenvolvimento de sistemas10510tecnologia em automacao industrial15515bacharelado em engenharia de controle e automacao11bacharelado em engenharia de computacao112reportar errograduacaopublicado resultado de selecao para portadores de diploma e transferenciasprevisao e que resultado final seja divulgado na sextafeira 5. matriculas deverao ser feitas nos dias 9 e 10.tweettweetcompartilhar no whatsapp      por laura silveirapublicado    02072019 15h18ultima modificacao    08072019 09h55esta disponivel na central de selecao do instituto federal de mato grosso do sul ifms o resultado preliminar do processo seletivo que oferta 330 vagas em cursos superiores para portadores de diploma e interessados em transferencias interna e externa com ingresso no segundo semestre.as vagas sao para cursos superiores de tecnologia bacharelados e licenciaturas nos municipios de aquidauana campo grande corumba coxim dourados jardim navirai nova andradina e tres lagoas.do total 134 vagas sao para portadores de diploma 122 para transferencias externas e 74 para transferencias internas.o resultado final sera divulgado na sextafeira 5. as matriculas deverao ser feitas nos dias 9 e 10 de julho.a nao efetivacao da matricula dentro do prazo estipulado implicara em desistencia e a vaga sera destinada ao proximo classificado em possiveis chamadas subsequentes realizadas pelo ifms.candidatos nao convocados na primeira chamada irao compor uma lista de espera que podera ser utilizada para o preenchimento das possiveis vagas remanescentes.vagas campuscursoquantidade de vagasportador de diplomatransferencia internatransferencia externaaquidauanatecnologia em sistemas para internet555bacharelado em engenharia civil22tecnologia em redes de computadores555campo grandetecnologia em sistemas para internet855corumbatecnologia em analise e desenvolvimento de sistemas411tecnologia em processos metalurgicos511coximtecnologia em alimentos555licenciatura em quimica555bacharelado em engenharia de pesca101010tecnologia em sistemas para internet10510douradostecnologia em jogos digitais10510jardimlicenciatura em computacao1055bacharelado em arquitetura e urbanismo611naviraitecnologia em analise e desenvolvimento de sistemas10510bacharelado em agronomia111nova andradinabacharelado em agronomia35tecnologia em analise e desenvolvimento de sistemas5tecnologia em producao de graos848tres lagoas tecnologia em analise e desenvolvimento de sistemas10510tecnologia em automacao industrial15515bacharelado em engenharia de controle e automacao11bacharelado em engenharia de computacao112reportar errosisucandidatos de 24 estados e do df se inscrevem para vagas do ifmsmato grosso do sul e sao paulo sao os principais locais de origens dos candidatos inscritos em cursos de graduacao pelo sisu.tweettweetcompartilhar no whatsapp      por osvaldo satopublicado    24012019 13h51ultima modificacao    24012019 13h51entre os 1.909 candidatos inscritos no instituto federal de mato grosso do sul ifms pelo sistema de selecao unificada sisu ate esta quintafeira 24 ha estudantes oriundos de 24 estados de todas as regioes do pais alem do distrito federal.o estado com maior numero de inscricoes e mato grosso do sul com 1.245 candidaturas.\n",
            "58.19018404907976\n",
            "sao oferecidas mil vagas em 17 cursos de graduacao em dez municipios de mato grosso do sul.nota de corte  conforme nota oficial do ministerio da educacao mec diferente de anos anteriores quando a nota de corte foi divulgada sempre a meianoite neste ano serao ate cinco horarios 7h 12h 17h30 20h e 24h esta ultima divulgada ate a quintafeira 24.assim os candidatos terao a atualizacao da nota de corte as 20 horas no dia 25 como ultimo parametro para escolha de cursos que devera ser feita ate a meianoite deste mesmo dia.com as cinco atualizacoes diarias na nota de corte os candidatos podem monitorar sua posicao no curso escolhido e assim aumentar suas chances de aprovacao.concorrencia  os cursos que registra ate esta quintafeira a maior concorrencia sao arquitetura e urbanismo com 59 candidatosvaga sistemas para internet campo grande e engenharia civil aquidauana com 36 candidatos por vaga.quadro de relacao candidatovaga  atualizada em 240119cursocampusinscritoscandidatovagaarquitetura e urbanismojardim23959sistemas para internetcampo grande14736engenharia civilaquidauana14436agronomianavirai12531agronomiaponta pora11528agronomianova andradina10626engenharia de controle e automacaotres lagoas10426vagas no ifms  para conhecer a oferta de cursos superiores do ifms os interessados podem acessar a pagina dos cursos de graduacao.no quadro abaixo estao listados os cursos e o numero de vagas ofertados neste sisu 20191.municipiocursoturnovagasaquidauanabacharelado em engenharia civilintegral40tecnologia em redes de computadoresnoturno40tecnologia em sistemas para internetnoturno40campo grandetecnologia em sistemas para internetnoturno40corumbatecnologia em analise e desenvolvimento de sistemasmatutino40noturno40tecnologia em processos metalurgicosnoturno40coximtecnologia em alimentosnoturno40bacharelado em engenharia de pescanoturno40licenciatura em quimicanoturno40tecnologia em sistemas para internetnoturno40douradostecnologia em jogos digitaisnoturno40jardimbacharelado em arquitetura e urbanismointegral40licenciatura em computacaonoturno40naviraibacharelado em agronomiaintegral40tecnologia em analise e desenvolvimento de sistemasnoturno40nova andradinabacharelado em agronomiaintegral40tecnologia em analise e desenvolvimento de sistemasnoturno40tecnologia em producao de graosmatutino40ponta porabacharelado em agronomiaintegral40tecnologia em gestao do agronegocionoturno40tres lagoastecnologia em analise e desenvolvimento de sistemasnoturno40tecnologia em automacao industrialnoturno40bacharelado em engenharia de computacaointegral40bacharelado em engenharia de controle e automacaointegral40reportar errosisu 2019prorrogado prazo de inscricao para cursos de graduacaoministerio da educacao estendeu o prazo final das inscricoes do sistema de selecao unificada sisu ate domingo 27. ifms oferta mil vagas em dez municipios.tweettweetcompartilhar no whatsapp      por laura silveirapublicado    25012019 07h18ultima modificacao    25012019 07h18itens relacionadoscandidatos de 24 estados e do df se inscrevem para vagas do ifmsarquitetura e urbanismo tem maior concorrencia no 1o dia do sisuo ministerio da educacao mec decidiu estender o prazo final das inscricoes do sistema de selecao unificada sisu ate o proximo domingo 27. a integra da nota oficial sobre o assunto esta disponivel na pagina do mec.outra mudanca anunciada e que a partir de agora a atualizacao das notas de corte so sera feita a zero hora horario de brasilia e nao mais em quatro horarios ao longo do dia.pela selecao o instituto federal de mato grosso do sul ifms oferta mil vagas em 17 cursos.\n",
            "56.739263803680984\n",
            "a lista de espera devera ser divulgada no dia 9 de marco com a segunda chamada prevista para o dia 15.as aulas terao inicio no dia 25 de julho.adesao ao sisu  sobre a oferta de vagas ser somente para o segundo semestre de 2022 o diretor de graduacao do ifms rodrigo cardoso explica que desde o inicio da pandemia a instituicao tem se preocupado em causar o menor impacto possivel na vida academica porem o atraso nas provas do enem em 2020 e 2021 afetou o calendario do sisu.dessa forma como nosso calendario academico para o ano letivo de 2022 preve o inicio das aulas no dia 7 de fevereiro seria impossivel aderirmos ao sisu e conseguirmos iniciar as aulas das turmas ingressantes no primeiro semestre pois a matricula dos estudantes da primeira chamada seria realizada um mes apos o inicio das aulas pelo menos explica.quadro de cursos e vagas campuscursoturnovagasaquidauanaengenharia civil bachareladointegral40redes de computadores tecnologianoturno40sistemas para internet tecnologianoturno40campo grandeengenharia eletrica bachareladonoturno40engenharia mecanica bachareladonoturno40sistemas para internet tecnologiamatutino40noturno40corumbaanalise e desenvolvimento de sistemas tecnologianoturno40matutino40processos metalurgicos tecnologianoturno40coximalimentos tecnologianoturno40engenharia de pesca bachareladonoturno40quimica licenciaturanoturno40sistemas para internet tecnologianoturno40douradosjogos digitais tecnologianoturno40jardimarquitetura e urbanismo bachareladointegral40computacao licenciatura noturno40naviraiagronomia bachareladointegral40analise e desenvolvimento de sistemas tecnologianoturno40nova andradinaagronomia bachareladointegral40analise e desenvolvimento de sistemas tecnologianoturno40producao de graos tecnologiamatutino40ponta poraagronomia bachareladointegral40gestao do agronegocio tecnologianoturno40tres lagoasanalise e desenvolvimento de sistemas tecnologianoturno40engenharia de computacao bachareladointegral40engenharia de controle e automacao bachareladointegral40reportar erroensino superiorinscricoes para cursos de graduacao vao ate quartafeirasao ofertadas 482 vagas nas modalidades portador de diploma transferencias interna e externa e reingresso nos dez campi do ifmstweettweetcompartilhar no whatsapp      por juliana aragaopublicado    06122021 13h09ultima modificacao    06122021 13h09termina na quartafeira 8 o prazo de inscricoes no edital do instituto federal de mato grosso do sul ifms que oferta 482 vagas em cursos de graduacao nas modalidades portador de diploma transferencias interna e externa e reingresso.sao oferecidas 17 opcoes de cursos entre superiores de tecnologia bacharelados e licenciaturas nos campi aquidauana campo grande corumba coxim dourados jardim navirai nova andradina ponta pora e tres lagoas.as vagas sao ofertadas em quatro modalidades destinadas aos seguintes publicosportador de diploma  estudante com curso superior concluido no ifms ou em outra instituicao de ensino publica ou privada reconhecida pelo ministerio da educacao mecreingresso  estudante do ifms que deixou de frequentar o curso nos cinco anos anteriores a este editaltransferencia externa  estudante matriculado no ifms que pretende transferirse para outro campus da propria instituicao ou estudante matriculado em outra instituicao de ensino publica ou privada reconhecida pelo mec que deseja transferirse para o ifms.transferencia interna  estudante matriculado no ifms com a intencao de transferirse para outro curso no mesmo campus.o edital de abertura do processo seletivo esta publicado na central de selecao.\n",
            "55.944785276073574\n",
            "o prazo segue ate 7 de fevereiro.no dia 31 de janeiro serao publicadas na central de selecao do ifms a primeira chamada e a convocacao para as bancas de heteroidentificacao etapa em que os candidatos pretos e pardos deverao confirmar a autodeclaracao.as bancas de heteroidentificacao estao previstas para 1o de fevereiro data em que tera inicio o prazo de matriculas para os convocados em primeira chamada.o cronograma preve ainda etapas como publicacao da segunda chamada 1902 e reconvocacao dos candidatos 1103. as aulas no ifms terao inicio no dia 25 de julho.quadro de vagascampuscursoturnonumero de vagasaquidauanaengenharia civilintegral40redes de computadoresnoturno40sistemas para internetnoturno40campo grandesistemas para internetmatutino40tres lagoasengenharia de controle e automacaointegral40automacao industrialnoturno40analise e desenvolvimento de sistemasnoturno40engenharia de computacaointegral40reportar errograduacaoseguem abertas inscricoes para portador de diploma e transferenciasprazo vai ate o dia 31. sao ofertadas 191 vagas para cursos superiores de tecnologia bacharelados e licenciaturastweettweetcompartilhar no whatsapp      por laura silveirapublicado    17012024 09h12ultima modificacao    17012024 09h12estao abertas ate o proximo dia 31 de janeiro as inscricoes na selecao para cursos de graduacao gratuitos do instituto federal de mato grosso do sul ifms nas modalidades portador de diploma reingresso e transferencias interna e externa com ingresso no 1o semestre de 2024.sao ofertadas 191 vagas com opcoes em cursos superiores de tecnologia bacharelados e licenciaturas em aquidauana campo grande corumba coxim dourados jardim navirai nova andradina ponta pora e tres lagoas.as inscricoes sao gratuitas e devem ser feitas pela pagina do candidato da central de selecao do ifms na qual tambem esta publicado o edital com as regras do processo seletivo.as formas de ingresso ofertadas pelo edital saoportador de diploma para estudantes com curso superior concluido no ifms ou em outra instituicao de ensino publica ou privada reconhecida pelo ministerio da educacao mec.reingresso voltado a estudantes do ifms que desejam retornar ao mesmo curso e campus que deixaram de frequentar ha no maximo cinco anos e que nao tenham se beneficiado do reingresso anteriormente.transferencia externa destinada a estudantes matriculados no ifms que pretendem transferirse para outro campus da instituicao ou estudantes matriculados em outra instituicao de ensino publica ou privada reconhecida pelo mec com a intencao de transferirse para o ifms.transferencia interna para estudantes matriculados no ifms que queiram transferirse para outro curso no mesmo campus da instituicao.consulte no edital de abertura do processo seletivo a lista completa de documentos necessarios para a inscricao em cada modalidadeselecao  as documentacoes dos inscritos serao avaliadas pelos coordenadores dos respectivos cursos.nas modalidades transferencias interna e externa e portador de diploma a avaliacao sera feita a partir das informacoes preenchidas no anexo i do edital historico escolar e ementas apresentadas.\n",
            "55.48159509202454\n",
            "inscricoes seguem ate 30 de junhotweettweetcompartilhar no whatsapp      por osvaldo satopublicado    09062021 09h46ultima modificacao    09062021 10h26o instituto federal de mato grosso do sul ifms publicou nessa tercafeira 8 o edital do processo seletivo para ingresso nos cursos de graduacao ofertados pelo campus tres lagoas no segundo semestre letivo.sao ofertadas 120 vagas para o curso superior de tecnologia em automacao industrial noturno engenharia da computacao integral e engenharia de controle e automacao integral.a selecao sera feita com base nas notas obtidas pelo candidato em uma das tres ultimas edicoes do exame nacional do ensino medio enem em 2018 2019 ou 2020. o interessado deve ter tirado nota acima de zero nas provas de redacao e das areas do conhecimento.o edital no 442021 com todas as regras do processo seletivo esta disponivel na central de selecao do ifms.inscricoes  sao gratuitas e devem ser feitas pela pagina do candidato ate 30 de junho.no ato da inscricao o candidato deve informar dados pessoais escolha do curso e indicar se ira concorrer por alguma das vagas destinadas para acoes afirmativas cotas.ao se inscrever o candidato autoriza o ifms a consultar o resultado obtido nas provas do enem junto ao instituto nacional de estudos e pesquisas educacionais anisio teixeira inep.acoes afirmativas cotas  metade das vagas ofertadas e para candidatos que cursaram integralmente todas as series do ensino medio em escola publica.dessas vagas reservadas 50 se destinam aqueles com renda familiar per capita nao superior a um salario minimo e meio.ainda ha cotas aos candidatos autodeclarados pretos pardos e indigenas e a pessoas com deficiencia.heteroidentificacao  o ifms realizara processo para confirmar a autodeclaracao dos candidatos pretos e pardos.no dia 1o de julho sera divulgada a relacao de convocados para verificacao de heteroidentificacao.os convocados terao o periodo de 1o a 5 de julho para envio online da documentacao.a relacao de documentos necessarios para a heteroidentificacao constam no edital de abertura do processo seletivo.resultados  no dia 15 de julho sera divulgada a relacao de candidatos aptos a matricula e em lista de espera.entre 16 e 30 de julho sera aberto o periodo para matricula dos candidatos aptos e tambem para manifestacao de interesse dos candidatos da lista de espera.o inicio das aulas esta previsto para 4 de agosto.quadro de cursos e vagascursoturnovagastecnologia em automacao industrialnoturno40engenharia da computacaointegral40engenharia de controle e automacaointegral40reportar errotres lagoasultima semana de inscricoes para cursos de graduacaosao ofertadas 120 vagas em tres opcoes de cursos.\n",
            "50.386503067484654\n",
            "a previsao e que as aulas tenham inicio no dia 24 de julho.duvidas devem ser enviadas para selecao.graduacaoifms.edu.br para isso devese utilizar o mesmo email cadastrado na central de selecao do ifms.vagas da graduacao no 2o semestrecampuscursoturnovagasaquidauanaengenharia civilintegral40redes de computadoresnoturno40sistemas para internetnoturno40campo grandeengenharia eletricanoturno40engenharia mecanicanoturno40sistemas para internetmatutino40noturno40corumbaprocessos metalurgicosnoturno40analise e desenvolvimento de sistemasnoturno40coximalimentosnoturno40engenharia de pescanoturno40licenciatura em quimicanoturno40sistemas para internetnoturno40douradosjogos digitaisnoturno40jardimarquitetura e urbanismointegral40naviraianalise e desenvolvimento de sistemasnoturno40tres lagoasengenharia de computacaointegral40analise e desenvolvimento de sistemasnoturno40automacao industrialnoturno40reportar errodouradoscurso de jogos digitais recebe nota maxima do mecconceito 5 foi obtido apos avaliacao do curso superior de tecnologia realizada pelo ministerio da educacao no inicio do mestweettweetcompartilhar no whatsapp      por laura silveirapublicado    17052023 09h40ultima modificacao    17052023 09h40itens relacionadosabertas inscricoes para 760 vagas em cursos de graduacaomais dois cursos recebem conceito maximo do meccurso de graduacao obtem nota maxima do meco instituto federal de mato grosso do sul ifms teve neste mes mais um curso de graduacao avaliado com o conceito maximo pelo ministerio da educacao mec.o conceito 5 foi obtido pelo curso superior de tecnologia em jogos digitais do campus dourados apos avaliacao presencial realizada entre os dias 3 e 5 de maio por representantes do instituto nacional de estudos e pesquisas educacionais anisio teixeira inep.como ressalta o diretor de graduacao do ifms rodrigo cardoso o conceito maximo recebido e resultado de um trabalho institucional desenvolvido que tem inicio bem antes da avaliacao em si.em processos de avaliacao externa de cursos a diretoria de graduacao tem realizado um trabalho de assessoria tecnica prestando suporte a coordenacao de curso desde o entendimento do processo avaliativo passando pelas providencias documentais e estruturais a sensibilizacao da comunidade academica ate o acompanhamento dos resultados explica o diretor.a pratica adotada pela diretoria de graduacao preve um preparo do coordenador do curso quanto ao que esta previsto no processo avaliativo alem da necessidade de engajamento de toda a comunidade academica do curso aponta o diretor de graduacao rodrigo cardoso.especificamente no caso de jogos digitais o trabalho com o campus dourados comecou ha mais de um ano.temos trabalhado em parceria com a coordenacao do curso desde marco de 2022 quando realizamos uma visita presencial ao campus.\n",
            "48.39570552147241\n",
            "recentemente outros dois cursos  engenharia de computacao no campus tres lagoas e agronomia no campus navirai  tambem foram bem avaliados alcancando nota 4.essa nota mostra que o ifms campus jardim possui uma otima infraestrutura para os nossos alunos tanto na area tecnico administrativa quanto na area docente explica o coordenador da lienciatura em computacao edilson kubota.em jardim o curso de computacao foi avaliado nas tres dimensoes previstas no instrumento de avaliacao de cursos de graduacao do mec organizacao didaticopedagogica corpo docente e tutorial e infraestrutura.segundo o coordenador do curso professor edilson kubota foram entregues documentos realizadas apresentacoes de slides e conteudo audiovisual e feitas reunioes online com os representantes do mec.a preparacao para a avaliacao comecou em 2021. foram formadas comissoes para reestruturar o ppc projeto pedagogico do curso e iniciaramse atividades de alinhamento com os envolvidos dentre os quais diretores do campus estudantes docentes e tecnicosadministrativos para repassar sobre os topicos que seriam avaliados relembra.kubota explica que a avaliacao ocorreu de forma virtual e seguiu um cronograma enviado pelos avaliadores do mec.essa nota mostra que o ifms campus jardim possui uma otima infraestrutura para os nossos alunos tanto na area tecnico administrativa quanto na area docente finaliza o coordenador do curso.preparacao dos campi  o conceito 5 inedito da computacao de jardim e as duas notas 4 obtidas em navirai e tres lagoas sao resultado tambem de um trabalho de apoio da proreitoria de ensino proen aos campi do ifms.em junho as diretorias de graduacao digra e de assuntos estudantis dirae visitaram sete campi para ofertar uma capacitacao sobre avaliacao aos coordenadores de cursos.no mes passado foi realizado em campo grande um encontro presencial com os coordenadores dos cursos de graduacao onde entre outros temas foram tratados assuntos referentes a avaliacao do mec.o primeiro conceito 5 de um curso de graduacao do ifms e tambem as notas 4 obtidas recentemente sao resultado dos esforcos das equipes dos campi e da aproximacao da proreitoria de ensino com os coordenadores bibliotecarios e demais servidores que atuam nesses cursos celebra claudia fernandes.\n",
            "41.69018404907973\n",
            "as modalidades de ingresso sao definidas da seguinte formaportador de diploma estudante com curso superior concluido no ifms ou em outra instituicao de ensino publica ou privada reconhecida pelo ministerio da educacao mecreingresso estudantes do ifms que deixaram de frequentar o curso nos ultimos cinco anos sendo utilizado o coeficiente de rendimento como criterio de selecaotransferencia externa academico matriculado ou com matricula trancada em curso identico ou dentro da mesma area de conhecimento de outra instituicao de ensino reconhecida pelo mec e que deseja se transferir para o ifmstransferencia interna estudante matriculado no ifms que queira se transferir para outro curso dentro da mesma area de conhecimento.inscricoes  sao gratuitas e podem ser feitas ate 14 de setembro na pagina do candidato da central de selecao.os interessados em concorrer as vagas para portador de diploma e transferencia externa devem anexar os seguintes arquivos todos no formato digitalrequerimento de inscricaorg ou outro documento oficial de identificacao com fotocpf caso nao conste a numeracao no documento oficial de identificacaodiploma de conclusao de curso superior reconhecido pelo mec aos que possuem curso superior concluido no caso de portadores de diplomacomprovante de matricula recente de curso superior autorizado ou reconhecido pelo mec aos que estao cursando curso superior para transferencia externahistorico academicoescolar de curso superior reconhecido ou autorizado pelo mec com carga horaria das unidades curriculares e aproveitamentonotasementas digitalizadas das disciplinas cursadas para eventual aproveitamento e pontuacao.\n",
            "41.5644171779141\n",
            "as modalidades de ingresso sao definidas da seguinte formaportador de diploma estudante com curso superior concluido no ifms ou em outra instituicao de ensino publica ou privada reconhecida pelo ministerio da educacao mecreingresso estudantes do ifms que deixaram de frequentar o curso nos ultimos cinco anos sendo utilizado o coeficiente de rendimento como criterio de selecaotransferencia externa academico matriculado ou com matricula trancada em curso identico ou dentro da mesma area de conhecimento de outra instituicao de ensino reconhecida pelo mec e que deseja se transferir para o ifmstransferencia interna estudante matriculado no ifms que queira se transferir para outro curso dentro da mesma area de conhecimento.inscricoes  sao gratuitas e devem ser feitas na pagina do candidato da central de selecao.os interessados em concorrer as vagas para portador de diploma e transferencia externa devem anexar os seguintes arquivos todos no formato digitalrequerimento de inscricaorg ou outro documento oficial de identificacao com fotocpf caso nao conste a numeracao no documento oficial de identificacaodiploma de conclusao de curso superior reconhecido pelo mec aos que possuem curso superior concluido no caso de portadores de diplomacomprovante de matricula recente de curso superior autorizado ou reconhecido pelo mec aos que estao cursando curso superior para transferencia externahistorico academicoescolar de curso superior reconhecido ou autorizado pelo mec com carga horaria das unidades curriculares e aproveitamentonotasementas digitalizadas das disciplinas cursadas para eventual aproveitamento e pontuacao.\n",
            "41.26993865030674\n",
            "a classificacao sera realizada com base no historico escolar e nas ementas das disciplinas tendo como criterios a similaridade de conteudo e de carga horaria entre as unidades curriculares analisadas.a previsao e que o resultado preliminar seja divulgado no dia 14 de fevereiro e o final no dia 19. a matricula dos selecionados devera ser feita nos dias 20 e 21 de fevereiro.quadro de vagascampuscursoquantidade de vagas a serem ofertadasportador de diplomatransferencia internatransferencia externaaquidauanatecnologia em sistemas para internet030505engenharia civil020202tecnologia em redes de computadores050505campo grandetecnologia em sistemas para internet100505corumbatecnologia em analise e desenvolvimento de sistemas100505tecnologia em processos metalurgicos050505coximengenharia de pesca101010licenciatura em quimica050505tecnologia em sistemas para internet101010tecnologia em alimentos050505douradostecnologia em jogos digitais100808jardimbacharelado em arquitetura e urbanismo020101licenciatura em computacao050505naviraitecnologia em analise e desenvolvimento de sistemas100510bacharelado em agronomia020102nova andradinabacharelado em agronomia0203tecnologia em analise e desenvolvimento de sistemas050105tecnologia em producao de graos050105ponta poratecnologia em agronegocio020210bacharelado em agronomia020210tres lagoastecnologia em analise e desenvolvimento de sistemas050205tecnologia em automacao industrial0202engenharia de controle e automacao030203engenharia de computacao040106total12488132344 os numeros de vagas para transferencias interna e externa nos cursos oferecidos no campus ponta pora foram alterados pelo edital de retificacao no 002.12020 publicado na central de selecao do ifms em 15.01.2020.reportar errosisu 2020abertas inscricoes para 960 vagas em cursos de graduacaoprazo vai ate domingo 26. selecao e feita por meio do sistema de selecao unificada sisu.tweettweetcompartilhar no whatsapp      por vinicius vieirapublicado    21012020 06h57ultima modificacao    21012020 11h50itens relacionadosifms abre 960 vagas em cursos de graduacaoarquitetura e urbanismo tem maior concorrencia no 1o dia do sisucandidatos de 24 estados e do df se inscrevem para vagas do ifmsestao abertas as inscricoes para 960 vagas em 17 opcoes de cursos de graduacao do instituto federal de mato grosso do sul ifms.as vagas sao para licenciaturas bacharelados e cursos superiores de tecnologia nos municipios de aquidauana campo grande corumba coxim dourados jardim navirai nova andradina ponta pora e tres lagoas.podem se inscrever estudantes que tenham concluido o ensino medio e participado da edicao 2019 do exame nacional do ensino medio enem obtendo nota acima de zero.\n",
            "39.87730061349694\n",
            "saiba mais na pagina do programa de iniciacao cientifica e tecnologica do ifms.reportar erroensino superiorinscricoes para cursos de graduacao vao ate quartafeirasao ofertadas 482 vagas nas modalidades portador de diploma transferencias interna e externa e reingresso nos dez campi do ifmstweettweetcompartilhar no whatsapp      por juliana aragaopublicado    06122021 13h09ultima modificacao    06122021 13h09termina na quartafeira 8 o prazo de inscricoes no edital do instituto federal de mato grosso do sul ifms que oferta 482 vagas em cursos de graduacao nas modalidades portador de diploma transferencias interna e externa e reingresso.sao oferecidas 17 opcoes de cursos entre superiores de tecnologia bacharelados e licenciaturas nos campi aquidauana campo grande corumba coxim dourados jardim navirai nova andradina ponta pora e tres lagoas.as vagas sao ofertadas em quatro modalidades destinadas aos seguintes publicosportador de diploma  estudante com curso superior concluido no ifms ou em outra instituicao de ensino publica ou privada reconhecida pelo ministerio da educacao mecreingresso  estudante do ifms que deixou de frequentar o curso nos cinco anos anteriores a este editaltransferencia externa  estudante matriculado no ifms que pretende transferirse para outro campus da propria instituicao ou estudante matriculado em outra instituicao de ensino publica ou privada reconhecida pelo mec que deseja transferirse para o ifms.transferencia interna  estudante matriculado no ifms com a intencao de transferirse para outro curso no mesmo campus.o edital de abertura do processo seletivo esta publicado na central de selecao.\n",
            "39.29754601226993\n",
            "inscricoes  sao gratuitas e devem ser feitas na pagina do candidato da central de selecao.interessados nas vagas destinadas a portadores de diploma e transferencia externa deverao preencher o requerimento de inscricao e anexar os seguintes documentos digitalizadosrg ou outro documento oficial de identificacao com fotocadastro de pessoa fisica cpf caso nao conste no rg ou outro documento oficial de identificacaodiploma ou certificado e historico escolar do curso de graduacao reconhecido pelo meccomprovante de matricula recente de curso superior autorizado ou reconhecido pelo mec caso esteja cursando curso superior e se inscreva como transferencia externahistorico academicoescolar de curso superior reconhecido ou autorizado pelo mec com informacoes constantes do item 4.3.6 do edital de aberturaementas das unidades curriculares disciplinas cursadas para eventual aproveitamento e pontuacao nao obrigatorias para participar do processo mas obrigatorias para pontuar e definir a classificacao do candidato.para reingresso e transferencia interna alem do requerimento de inscricao e necessario anexar os seguintes documentos digitalizadosrg ou outro documento oficial de identificacao com fotocadastro de pessoa fisica cpf caso nao conste no rg ou em outro documento oficial de identificacao ecarta pessoal informando os motivos para solicitar o reingresso ou transferencia interna.selecao  a documentacao dos inscritos sera avaliada por uma comissao do campus onde as vagas sao ofertadas.para portador de diploma e transferencias interna e externa sera verificado se as unidades curriculares cursadas na instituicao de origem ou o curso atendem ao conteudo programatico das unidades curriculares do curso em que o candidato deseja ingressar.\n",
            "37.975460122699396\n",
            "inscricoes  sao gratuitas e devem ser feitas na pagina do candidato da central de selecao.interessados nas vagas destinadas a portadores de diploma e transferencia externa deverao preencher o requerimento de inscricao e anexar os seguintes documentos digitalizadosrg ou outro documento oficial de identificacao com fotocadastro de pessoa fisica cpf caso nao conste no rg ou outro documento oficial de identificacaodiploma ou certificado e historico escolar do curso de graduacao reconhecido pelo meccomprovante de matricula recente de curso superior autorizado ou reconhecido pelo mec caso esteja cursando curso superior e se inscreva como transferencia externahistorico academicoescolar de curso superior reconhecido ou autorizado pelo mec com informacoes constantes do item 4.3.6 do edital de aberturaementas das unidades curriculares disciplinas cursadas para eventual aproveitamento e pontuacao nao obrigatorias para participar do processo mas obrigatorias para pontuar e definir a classificacao do candidato.para reingresso e transferencia interna alem do requerimento de inscricao e necessario anexar os seguintes documentos digitalizadosrg ou outro documento oficial de identificacao com fotocadastro de pessoa fisica cpf caso nao conste no rg ou em outro documento oficial de identificacao ecarta pessoal informando os motivos para solicitar o reingresso ou transferencia interna.selecao  a documentacao dos inscritos sera avaliada por uma comissao do campus onde as vagas sao ofertadas.para portador de diploma e transferencias interna e externa sera verificado se as unidades curriculares cursadas na instituicao de origem ou o curso atendem ao conteudo programatico das unidades curriculares do curso em que o candidato deseja ingressar.\n",
            "37.975460122699396\n",
            "o prazo seguira ate 7 de marco.candidatos as vagas destinadas a portadores de diploma e transferencia externa deverao preencher o requerimento de inscricao e anexar os seguintes documentos digitalizadosrg ou outro documento oficial de identificacao com fotocadastro de pessoa fisica cpf caso nao conste no rg ou outro documento oficial de identificacaodiploma ou certificado e historico escolar do curso de graduacao reconhecido pelo meccomprovante de matricula recente de curso superior autorizado ou reconhecido pelo mec caso esteja cursando curso superior e se inscreva como transferencia externahistorico academicoescolar de curso superior reconhecido ou autorizado pelo mec com carga horaria das unidades curriculares e aproveitamento notas eementas das unidades curriculares disciplinas cursadas para eventual aproveitamento e pontuacao nao obrigatorias para participar do processo mas obrigatorias para pontuar e definir a classificacao do candidato.para se inscrever na modalidade reingresso e transferencia interna o candidato devera preencher o requerimento de inscricao e anexar os seguintes documentos digitalizadosrg ou outro documento oficial de identificacao com fotocadastro de pessoa fisica cpf caso nao conste no rg ou em outro documento oficial de identificacao ecarta pessoal informando os motivos para solicitar o reingresso ou transferencia interna.selecao  a documentacao dos inscritos sera avaliada por uma comissao do campus onde as vagas sao ofertadas.nas modalidades portador de diploma e transferencias interna e externa sera verificado se as unidades curriculares cursadas na instituicao de origem ou o curso atendem ao conteudo programatico das unidades curriculares do curso em que o candidato deseja ingressar no ifms.\n",
            "37.97546012269938\n",
            "o resultado preliminar do processo seletivo esta previsto para 17 de setembro.vagas ofertadas pelo ifmscampicursoturnoportador de diplomatransferencia internatransferencia externareingressoaquidauanatecnologia em sistema para internetnoturno05050505tecnologia em redes de computadoresnoturno03030303campo grandetecnologia em sistemas para internetmatutino10101010coximengenharia de pescanoturno10101010licenciatura em quimicanoturno10101010tecnologia em sistemas para internetnoturno10101010douradostecnologia em jogos digitaisnoturno10101010jardimlicenciatura em computacaonoturno10101010bacharelado em arquitetura e urbanismointegral10101010naviraitecnologia em analise e desenvolvimento de sistemasnoturno10051005bacharelado em agronomiaintegral010101nova andradinabacharelado em agronomiaintegral050505tecnologia em analise e desenvolvimento de sistemasnoturno020201tecnologia em producao de graosmatutino050502ponta poratecnologia em agronegocionoturno05100505bacharelado em agronomiaintegral05100505tres lagoastecnologia em analise e desenvolvimento de sistemasnoturno05010505tecnologia em automacao industrialnoturno02020305engenharia de controle e automacaointegral03030302engenharia de computacaointegral030505reportar erroensino superiorinscricoes para cursos de graduacao terminam na segundafeirasao oferecidas 479 vagas para portadores de diploma e interessados em reingresso e transferencias interna e externatweettweetcompartilhar no whatsapp      por juliana aragaopublicado    10092020 16h55ultima modificacao    10092020 16h55itens relacionadosabertas inscricoes para 479 vagas em cursos de graduacaoabertas 479 vagas para portadores de diploma transferencia e reingressoas inscricoes no processo seletivo do instituto federal de mato grosso do sul ifms que oferta 479 vagas em cursos de graduacao destinadas a portadores de diploma reingresso e transferencias interna e externa terminam na segundafeira 14.o edital documento com as regras e o cronograma do processo seletivo esta disponivel na central de selecao.as vagas sao ofertadas nos municipios de aquidauana campo grande coxim dourados jardim navirai nova andradina ponta pora e tres lagoas com ingresso no segundo semestre letivo.sao 14 opcoes de cursos de graduacao o que inclui os bacharelados em agronomia arquitetura e urbanismo engenharia da computacao engenharia de controle e automacao e engenharia de pesca licenciaturas em computacao e quimica e superiores de tecnologia em agronegocio analise e desenvolvimento de sistemas automacao industrial jogos digitais producao de graos rede de computadores e sistemas para internet.\n",
            "37.588957055214706\n",
            "a economia tem como principais atividades a pecuaria de corte e leiteira e o setor industrial em expansao.fundada em 1838 paranaiba teve importante papel na guerra do paraguai 18641870  pois foi rota de apoio logistico para a fuga dos civis envolvidos nesse conflito.o atual prefeito maycol henrique queiroz andrade pdt assumiu o cargo em 2021.logomarcas dos novos campi do ifms em amambai e paranaiba  fonte ascomlogomarcas dos novos campi do ifms em amambai e paranaiba  fonte ascomhistorico da rede federal  o ifms foi criado pela lei no 11.892 de 29 dezembro de 2008 quando o ministerio da educacao mec reestruturou a rede federal de educacao profissional cientifica e tecnologica.a lei criou 38 institutos federais alem de dois centros federais de educacao tecnologica cefet uma universidade tecnologica 22 escolas tecnicas vinculadas as universidades federais e o colegio pedro ii totalizando mais de 680 campi ou unidades localizados em todos os estados brasileiros e no distrito federal.os institutos federais estao obrigados a ofertar o minimo de 50 de suas vagas para cursos tecnicos de nivel medio prioritariamente na forma integrada ou seja junto ao ensino medio.outra demanda atendida pelas instituicoes da rede federal e a da educacao profissional de jovens e adultos com a criacao do programa nacional de integracao da educacao profissional com a educacao basica na modalidade da educacao de jovens e adultos proeja onde a oferta de vagas deve alcancar ao menos 10 das vagas de ingresso.as demais vagas podem ser ofertadas em cursos superiores de graduacao como licenciaturas tecnologias e bacharelados cursos de posgraduacao stricto e lato sensu.ifms  possui atualmente dez campi localizados nos municipios de aquidauana campo grande corumba coxim dourados jardim navirai nova andradina ponta pora e tres lagoas.a oferta de cursos tecnicos integrados ao ensino medio contempla areas de formacao profissional como administracao agricultura agropecuaria alimentos aquicultura desenvolvimento de sistemas edificacoes eletrotecnica informatica informatica para internet mecanica e metalurgia.na graduacao os cursos sao nas areas de agronomia alimentos agronegocio analise e desenvolvimento de sistemas arquitetura e urbanismo computacao producao de graos automacao industrial engenharia civil engenharia da computacao engenharia de controle e automacao engenharia eletrica engenharia mecanica engenharia de pesca jogos digitais processos metalurgicos quimica redes de computadores e sistemas para internet.a relacao completa de cursos tecnicos e de graduacao alem dos cursos de qualificacao profissional posgraduacao cursos livres idiomas e outros esta publicada no guia de cursos.\n",
            "37.07975460122699\n",
            "o prazo segue ate 8 de dezembro .interessados nas vagas destinadas a portadores de diploma e transferencia externa deverao preencher o requerimento de inscricao e anexar os seguintes documentos digitalizadosrg ou outro documento oficial de identificacao com fotocadastro de pessoa fisica cpf caso nao conste no rg ou outro documento oficial de identificacaodiploma ou certificado e historico escolar do curso de graduacao reconhecido pelo meccomprovante de matricula recente de curso superior autorizado ou reconhecido pelo mec caso esteja cursando curso superior e se inscreva como transferencia externahistorico academicoescolar de curso superior reconhecido ou autorizado pelo mec com informacoes constantes do item 4.3.6 do edital de aberturaementas das unidades curriculares disciplinas cursadas para eventual aproveitamento e pontuacao nao obrigatorias para participar do processo mas obrigatorias para pontuar e definir a classificacao do candidato.para reingresso e transferencia interna alem do requerimento de inscricao e necessario anexar os seguintes documentos digitalizadosrg ou outro documento oficial de identificacao com fotocadastro de pessoa fisica cpf caso nao conste no rg ou em outro documento oficial de identificacao ecarta pessoal informando os motivos para solicitar o reingresso ou transferencia interna.selecao  a documentacao dos inscritos sera avaliada por uma comissao do campus onde as vagas sao ofertadas.para portador de diploma e transferencias interna e externa sera verificado se as unidades curriculares cursadas na instituicao de origem ou o curso atendem ao conteudo programatico das unidades curriculares do curso em que o candidato deseja ingressar.\n",
            "36.36503067484663\n",
            "o prazo segue ate 8 de dezembro .interessados nas vagas destinadas a portadores de diploma e transferencia externa deverao preencher o requerimento de inscricao e anexar os seguintes documentos digitalizadosrg ou outro documento oficial de identificacao com fotocadastro de pessoa fisica cpf caso nao conste no rg ou outro documento oficial de identificacaodiploma ou certificado e historico escolar do curso de graduacao reconhecido pelo meccomprovante de matricula recente de curso superior autorizado ou reconhecido pelo mec caso esteja cursando curso superior e se inscreva como transferencia externahistorico academicoescolar de curso superior reconhecido ou autorizado pelo mec com informacoes constantes do item 4.3.6 do edital de aberturaementas das unidades curriculares disciplinas cursadas para eventual aproveitamento e pontuacao nao obrigatorias para participar do processo mas obrigatorias para pontuar e definir a classificacao do candidato.para reingresso e transferencia interna alem do requerimento de inscricao e necessario anexar os seguintes documentos digitalizadosrg ou outro documento oficial de identificacao com fotocadastro de pessoa fisica cpf caso nao conste no rg ou em outro documento oficial de identificacao ecarta pessoal informando os motivos para solicitar o reingresso ou transferencia interna.selecao  a documentacao dos inscritos sera avaliada por uma comissao do campus onde as vagas sao ofertadas.para portador de diploma e transferencias interna e externa sera verificado se as unidades curriculares cursadas na instituicao de origem ou o curso atendem ao conteudo programatico das unidades curriculares do curso em que o candidato deseja ingressar.\n",
            "36.36503067484663\n",
            "interessados nas  vagas destinadas a portadores de diploma e transferencia externa deverao preencher o requerimento de inscricao e anexar os seguintes documentos digitalizadosrg ou outro documento oficial de identificacao com fotocadastro de pessoa fisica cpf caso nao conste no rg ou outro documento oficial de identificacaodiploma ou certificado e historico escolar do curso de graduacao reconhecido pelo meccomprovante de matricula recente de curso superior autorizado ou reconhecido pelo mec caso esteja cursando curso superior e se inscreva como transferencia externahistorico academicoescolar de curso superior reconhecido ou autorizado pelo mec com informacoes constantes do item 4.3.6 do edital de abertura.ementas das unidades curriculares disciplinas cursadas para eventual aproveitamento e pontuacao nao obrigatorias para participar do processo mas obrigatorias para pontuar e definir a classificacao do candidato.ja para reingresso e transferencia interna alem do requerimento de inscricao e necessario anexar os seguintes documentos digitalizadosrg ou outro documento oficial de identificacao com fotocadastro de pessoa fisica cpf caso nao conste no rg ou em outro documento oficial de identificacao ecarta pessoal informando os motivos para solicitar o reingresso ou transferencia interna.selecao  a documentacao dos inscritos sera avaliada por uma comissao do campus onde as vagas sao ofertadas.para portador de diploma e transferencia interna e externa sera verificado se as unidades curriculares cursadas na instituicao de origem ou o curso atendem ao conteudo programatico das unidades curriculares do curso em que o candidato deseja ingressar.\n",
            "36.085889570552155\n",
            "fora isso conhecer um pais e uma cultura diferentes e muito legal avalia.o estudante de jogos digitais joao marcos troquez faz intercambio em portugal  foto arquivo pessoaljoao foi aluno da 1a turma do curso tecnico integrado em informatica para internet de dourados  foto arquivo pessoalo atual coordenador de jogos digitais estava na formatura joao no tecnico integrado  foto arquivo pessoalrelatorio  para a avaliacao realizada os criterios abrangem as tres dimensoes previstas no instrumento de avaliacao de cursos de graduacao do mec organizacao didaticopedagogica corpo docente e tutorial e infraestrutura.de acordo com o relatorio da avaliacao na dimensao 1 organizacao didaticopedagogica receberam o conceito 5 fatores como objetivos do curso perfil profissional do egresso estrutura curricular conteudos curriculares estagio curricular supervisionado trabalho de conclusao de curso tcc apoio ao discente tecnologias de informacao e comunicacao tic no processo ensinoaprendizagem e numero de vagas.ja em relacao ao corpo docente e tutorial o conceito maximo foi dado para a grande maioria dos aspectos avaliados entre eles o nucleo docente estruturante nde atuacao do coordenador regime de trabalho do coordenador de curso corpo docente regime de trabalho do corpo docente do curso experiencia profissional do docente experiencia no exercicio da docencia superior e producao cientifica cultural artistica ou tecnologica.a infraestrutura do curso tambem foi muito bem avaliada principalmente no que se refere ao espaco de trabalho para docentes em tempo integral sala coletiva de professores salas de aula acesso dos alunos a equipamentos de informatica bibliografias basica e complementar por unidade curricular e laboratorios didaticos de formacao especifica.outros cursos avaliados  neste mes outras duas graduacoes do ifms obtiveram o conceito maximo do mec o bacharelado em arquitetura e urbanismo ofertado no campus jardim e a engenharia de controle e automacao oferecida no campus tres lagoas.antes deles o primeiro a obter conceito maximo na avaliacao do mec foi a licenciatura em computacao do campus jardim cujo relatorio foi divulgado em dezembro do ano passado.essa sequencia de quatro conceitos 5 na graduacao do ifms demonstra total sintonia entre os coordenadores dos cursos nos campi e a proreitoria de ensino.\n",
            "36.03680981595089\n",
            "inscricoes a partir desta tercafeira 30tweettweetcompartilhar no whatsapp      por vinicius vieirapublicado    29112021 09h34ultima modificacao    06122021 09h22o instituto federal de mato grosso do sul ifms publicou na sextafeira 26 o edital que oferta 482 vagas em cursos de graduacao gratuitos para portadores de diploma reingresso e transferencias interna e externa com ingresso no primeiro semestre letivo de 2022. sao oferecidas 17 opcoes de cursos entre superiores de tecnologia bacharelados e licenciaturas nos campi aquidauana campo grande corumba coxim dourados jardim navirai nova andradina ponta pora e tres lagoas.as vagas sao ofertadas em quatro modalidades destinadas aos seguintes publicosportador de diploma  estudante com curso superior concluido no ifms ou em outra instituicao de ensino publica ou privada reconhecida pelo ministerio da educacao mecreingresso  estudantes do ifms que deixaram de frequentar o curso nos cinco anos anteriores a este editaltransferencia externa  aluno matriculado no ifms que pretende transferirse para outro campus da propria instituicao ou em que o estudante matriculado em outra instituicao de ensino publica ou privada reconhecida pelo mec deseja transferirse para o ifms.transferencia interna  estudante matriculado no ifms com a intencao de transferirse para outro curso no mesmo campus.o edital de abertura do processo seletivo esta publicado na central de selecao.\n",
            "35.37423312883436\n",
            "inscricoes a partir desta tercafeira 30tweettweetcompartilhar no whatsapp      por vinicius vieirapublicado    29112021 09h34ultima modificacao    06122021 09h22o instituto federal de mato grosso do sul ifms publicou na sextafeira 26 o edital que oferta 482 vagas em cursos de graduacao gratuitos para portadores de diploma reingresso e transferencias interna e externa com ingresso no primeiro semestre letivo de 2022. sao oferecidas 17 opcoes de cursos entre superiores de tecnologia bacharelados e licenciaturas nos campi aquidauana campo grande corumba coxim dourados jardim navirai nova andradina ponta pora e tres lagoas.as vagas sao ofertadas em quatro modalidades destinadas aos seguintes publicosportador de diploma  estudante com curso superior concluido no ifms ou em outra instituicao de ensino publica ou privada reconhecida pelo ministerio da educacao mecreingresso  estudantes do ifms que deixaram de frequentar o curso nos cinco anos anteriores a este editaltransferencia externa  aluno matriculado no ifms que pretende transferirse para outro campus da propria instituicao ou em que o estudante matriculado em outra instituicao de ensino publica ou privada reconhecida pelo mec deseja transferirse para o ifms.transferencia interna  estudante matriculado no ifms com a intencao de transferirse para outro curso no mesmo campus.o edital de abertura do processo seletivo esta publicado na central de selecao.\n",
            "35.37423312883436\n",
            "saiba como participartweettweetcompartilhar no whatsapp      por vinicius vieirapublicado    19072021 13h41ultima modificacao    19072021 13h41o instituto federal de mato grosso do sul ifms esta com inscricoes abertas para 441 vagas no ensino superior para portador de diploma reingresso e transferencia interna e externa com ingresso no segundo semestre letivo de 2021. sao oferecidas 17 opcoes de cursos entre superiores de tecnologia bacharelados e licenciaturas nos campi aquidauana campo grande corumba coxim dourados jardim navirai nova andradina ponta pora e tres lagoas.entenda a quais publicos e destinada cada modalidade do processo seletivoportador de diploma  e a forma de ingresso de estudante com curso superior concluido no ifms ou em outra instituicao de ensino publica ou privada reconhecida pelo ministerio da educacao mecreingresso  destinado a discentes da instituicao que deixaram de frequentar o curso nos 5 anos anteriores a este editaltransferencia externa  forma de ingresso em que o aluno matriculado no instituto federal pretende transferirse para outro campus da propria instituicao ou em que o estudante matriculado em outra instituicao de ensino publica ou privada reconhecida pelo ministerio da educacao mec deseja transferirse para o ifms.transferencia interna  e a forma de ingresso em que o estudante matriculado na instituicao tem a intencao de transferirse para outro curso no mesmo campus.o edital de abertura do processo seletivo esta publicado na central de selecao.\n",
            "33.76687116564416\n",
            "podem participar aqueles que fizeram qualquer edicao do enem desde 2012tweettweetcompartilhar no whatsapp      por laura silveirapublicado    16052022 09h47ultima modificacao    20052022 09h35itens relacionadosabertas 532 vagas na graduacao em dez municipioso prazo de inscricoes para cursos de graduacao do instituto federal de mato grosso do sul ifms termina nesta sextafeira 20. sao ofertadas 532 vagas em aquidauana campo grande corumba coxim dourados jardim navirai nova andradina ponta pora e tres lagoas com ingresso no segundo semestre letivo.ha opcoes de bacharelado agronomia arquitetura e urbanismo engenharia da computacao engenharia de controle e automacao engenharia civil engenharia eletrica engenharia mecanica e engenharia de pesca licenciatura computacao e quimica e tecnologia alimentos analise e desenvolvimento de sistemas gestao do agronegocio jogos digitais processos metalurgicos producao de graos redes de computadores e sistemas para internet.podem concorrer aqueles que participaram do exame nacional do ensino medio enem desde 2012 tendo obtido nota acima de zero na prova de redacao e possuir certificado de conclusao do ensino medio ou equivalente ate a data da matricula prevista para a segunda quinzena de junho.inscricoes  sao gratuitas e devem ser feitas pela pagina do candidato da central de selecao do ifms onde esta publicado o edital de abertura do processo seletivo.ao se inscrever e necessario informar um endereco de email valido para que o instituto federal envie tanto o comprovante de inscricao quanto eventuais informacoes relativas ao processo seletivo.\n",
            "32.02147239263803\n",
            "ja o valor das bolsas varia de r 200 para estudantes de nivel medio a r 300 para academicos de graduacao pelo periodo de ate tres meses.propostas aprovadaspropostacampuscoordenadorabrangenciaworkshop catalogando aventuras  extensao ao norte via serra de maracajuaquidauanapablo teixeira salomaolocaltorneio de voleibol feminino ifms aquidauanaaquidauanapablo teixeira salomaolocaliv  workshop migracao e refugiados uma discussao necessariacorumbarenilce miranda cebalho barbosaregionalii workshop de acoes inclusivascorumbaflavia pedrosa de camargolocalvii maratona de quimica  natureza e quimica recursos naturais e questoes socioambientais da regiao norte do mscoximaline sousa herrero licenciaturasemana da licenciatura em computacaojardimedilson kazuo kubotalicenciaturaworkshop de sistemas agroflorestaisnova andradinakarina renostro ducattilocaliii jornada estadual de educacao fisica escolar do ifms jorefeifms 2022 ponta porarobinson luiz franco da rocharegionaldia de campo ifms ponta poraponta poraantonio luiz viegas netolocalseagro  semana academica integrada das agrarias do ifmsponta porapriscila gonzales figueiredolocal4a semana de engenharia de controle e automacao secaut e 3a semana de engenharia de computacao secomp tres lagoaseduardo hiroshi nakamuralocalreportar errosisu 2022abertas inscricoes para 1.080 vagas na graduacaocom selecao feita pelo sisu cursos serao ofertados no segundo semestre de 2022. inscricoes seguem ate sextafeira 18tweettweetcompartilhar no whatsapp      por osvaldo satopublicado    15022022 07h10ultima modificacao    15022022 07h10itens relacionadosabertas 1.080 vagas em cursos de graduacaoestao abertas a partir desta tercafeira 15 as inscricoes no processo seletivo para ingresso nos cursos de graduacao que serao ofertados pelo instituto federal de mato grosso do sul ifms no segundo semestre letivo de 2022.a selecao sera feita pelo sistema de selecao unificada sisu com base nas notas obtidas no exame nacional do ensino medio enem de 2021.o ifms oferta 1.080 vagas em 18 diferentes opcoes de cursos gratuitos  entre superiores de tecnologia licenciaturas e bacharelados  nos campi aquidauana campo grande corumba coxim dourados jardim navirai nova andradina ponta pora e tres lagoas.\n",
            "31.049079754601234\n",
            "pela selecao o instituto federal de mato grosso do sul ifms oferta mil vagas em 17 cursos superiores de tecnologia licenciaturas e bacharelados.a oferta e para os municipios de aquidauana campo grande corumba coxim dourados jardim navirai nova andradina ponta pora e tres lagoas.a lista completa dos candidatos convocados para a instituicao sera disponibilizada na central de selecao do ifms nesta tercafeira 29 de acordo com o cronograma do edital no 0842018 que traz todas as regras do processo seletivo.os selecionados deverao realizar a matricula na instituicao a partir de quartafeira 30 ate o dia 4 de fevereiro exceto sabado e domingo na central de relacionamento cerel do campus para o qual se inscreveu de acordo com enderecos e horarios disponibilizados no item 10 do edital no 0842018.documentacao para matricula  alem do requerimento de matricula do comprovante de preenchimento do questionario socioeconomico e de uma foto 3x4 recente o candidato deve apresentar originais e copias dos seguintes documentoscarteira de identidade rg ou outro documento oficial de identificacaodocumento que comprove estar em dia com o servico militar para os brasileiros entre 19 dezenove e 45 quarenta e cinco anos de idade completos ou a serem completados ate 31 de dezembro do ano correntepara candidatos nao cotistas ampla concorrencia  ac fotocopia e original do certificado de conclusao do ensino medio ou curso equivalente ou certificado de conclusao com base nas notas do enem ou certificado do exame nacional para certificacao de competencias de jovens e adultos enccejapara candidatos cotistas fotocopia e original do historico escolar e certificado de conclusao do ensino medio ou curso equivalente ou certificado de conclusao com base nas notas do enem ou certificado do exame nacional para certificacao de competencias de jovens e adultos enccejaos candidatos beneficiarios de cota com renda menor ou igual a um salario minimo e meio per capita deverao entregar fotocopia e original dos documentos comprobatorios conforme anexo i do edital.\n",
            "31.003067484662584\n",
            "outros cursos da instituicao tambem passaram por avaliacao e obtiveram bons resultados engenharia de computacao ofertada em tres lagoas e agronomia oferecida em navirai com conceito 4.mais informacoes sobre os cursos oferecidos pelo ifms podem ser obtidas na pagina graduacao.reportar erroensino superiorprorrogadas inscricoes para cursos de graduacaoprazo fica aberto ate quintafeira 25. podem participar candidatos que fizeram o enem 2022 com nota acima de zero na redacaotweettweetcompartilhar no whatsapp      por laura silveirapublicado    22052023 16h54ultima modificacao    22052023 16h54itens relacionadoscurso de jogos digitais recebe nota maxima do mecmais dois cursos recebem conceito maximo do meccurso de graduacao obtem nota maxima do mecfoi prorrogado ate a proxima quintafeira 25 o prazo de inscricoes na selecao para 760 vagas em cursos de graduacao do instituto federal de mato grosso do sul ifms ofertados em oito municipios e com ingresso no 2o semestre.podem participar candidatos que ja concluiram o ensino medio ou equivalente e que participaram da edicao 2022 do exame nacional do ensino medio enem com nota acima de zero na prova de redacao.os interessados devem se inscrever pela pagina do candidato da central de selecao.\n",
            "30.34049079754601\n",
            "as inscricoes deverao ser feitas presencialmente na central de relacionamento cerel do campus do instituto federal em que o interessado pretende estudar.duvidas sobre o processo seletivo devem ser encaminhadas para o email selecao.graduacaoifms.edu.br vagas ofertadas campuscursoturnovagasaquidauanaengenharia civilintegral27rede de computadoresnoturno38sistema para internetnoturno31campo grandeengenharia eletricanoturno24engenharia mecanicanoturno18sistemas para internetmatutino26noturno29corumbaanalise e desenvolvimento de sistemasnoturno14processos metalurgicosnoturno38coximalimentosnoturno39engenharia de pescanoturno38quimicanoturno40sistemas para internetnoturno35douradosjogos digitaisnoturno37jardimarquitetura e urbanismointegral38naviraiagronomiaintegral06analise e desenvolvimento de sistemasnoturno29tres lagoasanalise e desenvolvimento de sistemasnoturno07automacao industrialnoturno35engenharia da computacaointegral28engenharia de controle e automacaointegral04reportar errograduacaosistemas para internet recebe nota maxima do mecgraduacao do ifms no campus campo grande e o quinto curso da instituicao a receber nota 5 em avaliacao do ministerio da educacaotweettweetcompartilhar no whatsapp      por paulo gomespublicado    31052023 12h33ultima modificacao    31052023 13h52itens relacionadoscurso de jogos digitais recebe nota maxima do mecmais dois cursos recebem conceito maximo do meccurso de graduacao obtem nota maxima do mecmais um curso de graduacao do instituto federal de mato grosso do sul ifms conquistou nota maxima na avaliacao do ministerio da educacao mec.\n",
            "30.208588957055195\n",
            "inscricoes deverao ser feitas entre os dias 24 e 26 de junho.tweettweetcompartilhar no whatsapp      por osvaldo satopublicado    17062019 12h30ultima modificacao    19062019 09h00o instituto federal de mato grosso do sul ifms abriu nesta segundafeira 17 330 vagas em cursos superiores para portadores de diploma e interessados em transferencias interna e externa com ingresso no segundo semestre.o edital com a oferta de vagas e as regras do processo seletivo esta disponivel na central de selecao do ifms.as vagas sao para cursos superiores de tecnologia bacharelados e licenciaturas nos municipios de aquidauana campo grande corumba coxim dourados jardim navirai nova andradina e tres lagoas.do total 134 vagas sao para portadores de diploma 122 para transferencias externas e 74 para transferencias internas.para concorrer a uma vaga o candidato deve ter diploma de nivel superior portador de diploma estar cursando graduacao em outra instituicao de ensino transferencia externa ou ser estudante do ifms que queira se transferir para outro curso dentro da mesma area de conhecimento transferencia interna.inscricoes  sao gratuitas e devem ser feitas na central de relacionamento cerel do campus onde a vaga e ofertada entre 24 e 26 de junho.\n",
            "28.17484662576687\n",
            "ja os candidatos beneficiarios da cota local  bonus deverao apresentar o comprovante de endereco em seu nome ou de seus pais sendo que no caso da inexistencia deste comprovante o candidato devera utilizar a declaracao de residencia conforme anexo iv.aqueles que optaram por concorrer as vagas destinadas a pessoas com deficiencia deverao imprimir preencher assinar e entregar o formulario para entrega de laudo medico constante no anexo vi.se o candidato convocado for menor de 18 anos sua matricula devera ser realizada pelos seus pais ou pelo seu responsavel legal.nota de corte e concorrencia  no total o ifms recebeu 4.586 inscricoes nesta primeira edicao do sisu em 2019. o curso que registrou maior numero de inscritos em relacao ao numero de vagas foi o de tecnologia em sistemas para internet do campus campo grande com 875 candidatos por vaga cv.na sequencia o curso de bacharelado em arquitetura e urbanismo do campus jardim teve relacao de 8 candidatos por vaga o curso de bacharelado em agronomia do campus navirai apresentou 645 cv o bacharelado em engenharia civil do campus aquidauana teve 613 candidatos por vaga e o curso de bacharelado em agronomia do campus ponta pora registrou 608 cv.os cursos mais concorridos tambem apresentaram maior nota de corte dentre as vagas destinadas a modalidade de ampla concorrencia ac.\n",
            "27.70245398773007\n",
            "nesta mesma data os candidatos classificados e convocados deverao comparecer ao campus onde concorrem a  vaga para a chamada presencial.se necessaria uma reconvocacao dos candidatos para preenchimento de vagas remanescentes sera divulgada na central de selecao no dia 11 de marco conforme previsto no cronograma.para conhecer a oferta de cursos superiores do ifms os interessados podem acessar a pagina dos cursos de graduacao.cursos de graduacao ofertadosmunicipiocursoaquidauanabacharelado em engenharia civiltecnologia em redes de computadorestecnologia em sistemas para internetcampo grandetecnologia em sistemas para internetcorumbatecnologia em analise e desenvolvimento de sistemastecnologia em processos metalurgicoscoximtecnologia em alimentosbacharelado em engenharia de pescalicenciatura em quimicatecnologia em sistemas para internetdouradostecnologia em jogos digitaisjardimbacharelado em arquitetura e urbanismolicenciatura em computacaonaviraibacharelado em agronomiatecnologia em analise e desenvolvimento de sistemasnova andradinabacharelado em agronomiatecnologia em analise e desenvolvimento de sistemastecnologia em producao de graosponta porabacharelado em agronomiatecnologia em gestao do agronegociotres lagoastecnologia em analise e desenvolvimento de sistemastecnologia em automacao industrialbacharelado em engenharia de computacaobacharelado em engenharia de controle e automacaoreportar errosisu 2019abertas inscricoes para mil vagas em cursos de graduacaoprazo segue ate sextafeira 25. interessados devem se inscrever na pagina do sistema de selecao unificada sisu.tweettweetcompartilhar no whatsapp      por laura silveirapublicado    22012019 07h28ultima modificacao    05022019 07h37estao abertas as inscricoes para mil vagas em 17 cursos de graduacao do instituto federal de mato grosso do sul ifms.\n",
            "27.40490797546011\n",
            "foi o caso da engenharia de computacao ofertada em tres lagoas e da agronomia oferecida em navirai que obtiveram conceito 4.mais informacoes sobre os cursos oferecidos pelo ifms podem ser obtidas na pagina graduacao.vagas abertas  quem pretende ingressar no curso de jogos digitais no campus dourados ou em outras opcoes de graduacao ofertadas pelo ifms pode se inscrever na selecao aberta com 760 vagas para ingresso no segundo semestre.os interessados devem ter concluido o ensino medio ou equivalente e ter participado da edicao 2022 do exame nacional do ensino medio enem com nota acima de zero na prova de redacao.as inscricoes sao gratuitas e devem ser feitas ate 22 de maio pela pagina do candidato da central de selecao onde tambem esta publicado o edital de abertura com todas as regras do processo seletivo.reportar erroensino superiorabertas inscricoes para 760 vagas em cursos de graduacaopodem participar candidatos que fizeram o enem 2022 com nota acima de zero na redacao.\n",
            "25.751533742331283\n",
            "interessados devem se inscrever ate 7 de fevereiro.tweettweetcompartilhar no whatsapp      por juliana aragaopublicado    31012020 12h07ultima modificacao    03022020 07h08portadores de diploma e estudantes interessados em fazer transferencias interna e externa para cursos de graduacao do instituto federal de mato grosso do sul ifms podem se inscrever no processo seletivo que oferta 344 vagas em cursos superiores a partir de segundafeira 3.sao oferecidas 17 opcoes de cursos de graduacao entre licenciaturas bacharelados e superiores de tecnologia em aquidauana campo grande corumba coxim dourados jardim navirai nova andradina ponta pora e tres lagoas.o candidato deve ter diploma de nivel superior portador de diploma estar cursando graduacao em outra instituicao de ensino transferencia externa ou ser estudante do ifms que queira se transferir para outro curso dentro da mesma area de conhecimento transferencia interna.o edital com as regras do processo seletivo esta disponivel na central de selecao do ifms.inscricoes  devem ser feitas ate 7 de fevereiro presencialmente na central de relacionamento cerel do campus onde a vaga e ofertada.\n",
            "25.67791411042946\n",
            "selecao sera por similaridade de conteudos e carga horaria.tweettweetcompartilhar no whatsapp      por vinicius vieirapublicado    13012020 09h56ultima modificacao    31012020 10h39o instituto federal de mato grosso do sul ifms abriu processo seletivo com a oferta de 344 vagas em cursos superiores destinadas a portadores de diploma e interessados em fazer transferencias interna e externa.o ifms oferece 17 opcoes de cursos de graduacao entre licenciaturas bacharelados e superiores de tecnologia em aquidauana campo grande corumba coxim dourados jardim navirai nova andradina ponta pora e tres lagoas.para concorrer a uma vaga o candidato deve ter diploma de nivel superior portador de diploma estar cursando graduacao em outra instituicao de ensino transferencia externa ou ser estudante do ifms que queira se transferir para outro curso dentro da mesma area de conhecimento transferencia interna.o edital com as regras do processo seletivo esta disponivel na central de selecao do ifms.inscricoes  sao gratuitas e deverao ser feitas presencialmente na central de relacionamento cerel do campus onde a vaga e ofertada entre os dias 3 e 7 de fevereiro.\n",
            "25.457055214723937\n",
            "interessados podem se inscrever ate 14 de setembrotweettweetcompartilhar no whatsapp      por juliana aragaopublicado    04092020 09h45ultima modificacao    10092020 09h15itens relacionadosabertas 479 vagas para portadores de diploma transferencia e reingressoo instituto federal de mato grosso do sul ifms abriu nesta sextafeira 4 o prazo de inscricoes no processo seletivo que oferta 479 vagas em cursos de graduacao destinadas a portadores de diploma reingresso e transferencias interna e externa.o edital documento com as regras e o cronograma do processo seletivo esta disponivel na central de selecao.as vagas sa ofertadas nos municipios de aquidauana campo grande coxim dourados jardim navirai nova andradina ponta pora e tres lagoas com ingresso no segundo semestre letivo.sao 14 opcoes de cursos de graduacao o que incluo os bacharelados em agronomia arquitetura e urbanismo engenharia da computacao engenharia de controle e automacao e engenharia de pesca licenciaturas em computacao e quimica e superiores de tecnologia em agronegocio analise e desenvolvimento de sistemas automacao industrial jogos digitais producao de graos rede de computadores e sistemas para internet.\n",
            "24.527607361963177\n",
            "podem participar aqueles que fizeram qualquer edicao do enem desde 2012tweettweetcompartilhar no whatsapp      por cleyton lutzpublicado    09052022 11h05ultima modificacao    20052022 09h38itens relacionadosabertas 532 vagas na graduacao em dez municipiosestao abertas as inscricoes para 532 vagas nos cursos de graduacao do instituto federal de mato grosso do sul ifms ofertadas em aquidauana campo grande corumba coxim dourados jardim navirai nova andradina ponta pora e tres lagoas com ingresso no segundo semestre letivo.ha opcao em cursos de bacharelado agronomia arquitetura e urbanismo engenharia da computacao engenharia de controle e automacao engenharia civil engenharia eletrica engenharia mecanica e engenharia de pesca licenciatura computacao e quimica e tecnologia alimentos analise e desenvolvimento de sistemas gestao do agronegocio jogos digitais processos metalurgicos producao de graos redes de computadores e sistemas para internet.podem concorrer aqueles que participaram do exame nacional do ensino medio enem desde 2012 tendo obtido nota acima de zero na prova de redacao.\n",
            "24.079754601226988\n",
            "candidatos podem usar as notas obtidas nas edicoes 2018 2019 ou 2020 do enemtweettweetcompartilhar no whatsapp      por vinicius vieirapublicado    24062021 08h07ultima modificacao    24062021 08h07itens relacionadosabertas 120 vagas para graduacao em tres lagoaso instituto federal de mato grosso do sul ifms recebe ate a proxima quartafeira 30 as inscricoes no processo seletivo para ingresso nos cursos de graduacao ofertados pelo campus tres lagoas no segundo semestre letivo.sao ofertadas 120 vagas para o curso superior de tecnologia em automacao industrial noturno engenharia da computacao integral e engenharia de controle e automacao integral sendo 40 vagas para cada curso.a selecao sera feita com base nas notas obtidas pelo candidato em uma das tres ultimas edicoes do exame nacional do ensino medio enem em 2018 2019 ou 2020. o interessado deve ter tirado nota acima de zero nas provas de redacao e de todas as areas do conhecimento.\n",
            "23.39877300613497\n",
            "confira o quadro completo por municipio.entenda a quais publicos e destinada cada modalidade do processo seletivoportador de diploma e a forma de ingresso de estudante com curso superior concluido no ifms ou em outra instituicao de ensino publica ou privada reconhecida pelo ministerio da educacao mec.reingresso destinado a estudantes do ifms que deixaram de frequentar o curso nos 5 anos anteriores a este edital.transferencia externa forma de ingresso em que o estudante matriculado no ifms pretende transferirse para outro campus da propria instituicao ou em que o estudante matriculado em outra instituicao de ensino publica ou privada reconhecida pelo ministerio da educacao mec quer transferirse para o ifms.transferencia interna e a forma de ingresso em que o estudante matriculado no ifms tem a intencao de transferirse para outro curso no mesmo campus.inscricoes  serao gratuitas e poderao ser feitas a partir de segundafeira 15 na pagina do candidato da central de selecao do ifms.\n",
            "23.31901840490798\n",
            "essas informacoes estao disponiveis nos projetos pedagogicos dos cursos de graduacao do ifms.os resultados preliminar e final da selecao estao previstos para 7 e 13 de fevereiro respectivamente.duvidas sobre o edital devem ser encaminhadas para o email selecao.graduacaoifms.edu.br.quadro completo de vagascampuscursoturnoquantidade de vagas por modalidadeportador de diplomatransferencia internatransferencia externareingressoaquidauanatecnologia em sistemas para internetnoturno325engenharia civilintegral22tecnologia em redes de computadoresnoturno325campo grandetecnologia em sistemas para internetnoturno2112engenharia eletricanoturno113engenharia mecanicanoturno111corumbatecnologia em analise e desenvolvimento de sistemasnoturno2222tecnologia em processos metalurgicosnoturno1222coximtecnologia em alimentosnoturno3333engenharia de pescanoturno3331licenciatura em quimicanoturno23tecnologia em sistemas para internetnoturno2111douradostecnologia em jogos digitaisnoturno4442jardimlicenciatura em computacaonoturno5555bacharelado em arquitetura e urbanismointegral4444naviraitecnologia em analise e desenvolvimento de sistemasnoturno1112bacharelado em agronomiaintegral2111nova andradinabacharelado em agronomiaintegral555ponta poratecnologia em agronegocionoturno2545bacharelado em agronomiaintegral1221tres lagoastecnologia em analise e desenvolvimento de sistemasnoturno1tecnologia em automacao industrialnoturno22engenharia de computacaointegral1111outras vagas  interessados em fazer cursos de graduacao gratuitos no ifms devem ficar atentos a outras selecoes que estao em andamento.pelo edital no 0952023 sao oferecidas 720 vagas em cursos gratuitos de graduacao nos municipios de campo grande corumba coxim dourados jardim navirai nova andradina e ponta pora.pode tentar uma vaga quem participou de pelo menos uma das edicoes do exame nacional do ensino medio enem dos anos de 2014 a 2023 e que obteve nota acima de zero na prova de redacao.\n",
            "23.098159509202453\n",
            "selecao sera feita por meio do sisu 2020.tweettweetcompartilhar no whatsapp      por laura silveirapublicado    17122019 12h45ultima modificacao    07012020 15h17acesso rapidoedital sisu 2020cursos de graduacao do ifmscronogramaesta publicado na central de selecao do instituto federal de mato grosso do sul ifms o edital de abertura de 960 vagas em cursos de graduacao para ingresso no primeiro semestre de 2020.a oferta de 17 opcoes de cursos  entre licenciaturas bacharelados e superiores de tecnologia  e viabilizada por meio do sistema de selecao unificada sisu e abrange os dez municipios do ifms localizados nos municipios de aquidauana campo grande corumba coxim dourados jardim navirai nova andradina ponta pora e tres lagoas.poderao concorrer os candidatos que prestaram a edicao 2019 do exame nacional do ensino medio enem e que obtiveram nota acima de zero na redacao e em todas as areas do conhecimento.cotas  metade das vagas ofertadas e reservada a candidatos que cursaram todo o ensino medio na rede publica.\n",
            "22.684049079754597\n",
            "oferta e em oito municipiostweettweetcompartilhar no whatsapp      por laura silveirapublicado    11052023 06h48ultima modificacao    11052023 07h08itens relacionadosmais dois cursos recebem conceito maximo do meccurso de graduacao obtem nota maxima do mecesta aberto o prazo de inscricoes na selecao para 760 vagas em cursos de graduacao do instituto federal de mato grosso do sul ifms ofertados em oito municipios e com ingresso no 2o semestre.podem participar candidatos que ja concluiram o ensino medio ou equivalente e que participaram da edicao 2022 do exame nacional do ensino medio enem com nota acima de zero na prova de redacao.as inscricoes sao gratuitas e devem ser feitas ate 22 de maio pela pagina do candidato da central de selecao onde tambem esta publicado o edital de abertura com todas as regras do processo seletivo.ao se inscreverem os candidatos autorizam o ifms a consultar o resultado obtido no enem junto ao instituto nacional de estudos e pesquisas educacionais anisio teixeira inep.\n",
            "22.380368098159515\n",
            "foram abertas 40 vagas em turno integral.ja o curso superior de tecnologia de sistemas para a internet de tres lagoas deixa de ser ofertado.saiba mais sobre os cursos superiores do ifms na pagina dos cursos de graduacao.quadro de cursos e vagasmunicipiocursoturnovagasaquidauanabacharelado em engenharia civilintegral40tecnologia em redes de computadoresnoturno40tecnologia em sistemas para internetnoturno40campo grandetecnologia em sistemas para internetnoturno40corumbatecnologia em analise e desenvolvimento de sistemasmatutino40noturno40tecnologia em processos metalurgicosnoturno40coximtecnologia em alimentosnoturno40bacharelado em engenharia de pescanoturno40licenciatura em quimicanoturno40tecnologia em sistemas para internetnoturno40douradostecnologia em jogos digitaisnoturno40jardimbacharelado em arquitetura e urbanismointegral40licenciatura em computacaonoturno40naviraibacharelado em agronomiaintegral40tecnologia em analise e desenvolvimento de sistemasnoturno40nova andradinabacharelado em agronomiaintegral40tecnologia em analise e desenvolvimento de sistemasnoturno40tecnologia em producao de graosmatutino40ponta porabacharelado em agronomiaintegral40tecnologia em gestao do agronegocionoturno40tres lagoastecnologia em analise e desenvolvimento de sistemasnoturno40tecnologia em automacao industrialnoturno40bacharelado em engenharia de computacaointegral40bacharelado em engenharia de controle e automacaointegral40reportar errosisu 2019ifms vai abrir mil vagas na graduacao em 2019serao oferecidas 17 opcoes de cursos entre licenciaturas bacharelados e superiores de tecnologia em dez municipios.\n",
            "22.322085889570563\n",
            "o edital de abertura publicado na central de selecao contempla as seguintes modalidades paras vagas ofertadasportador de diploma  se destina aqueles com curso superior concluido no instituto federal ou em outra instituicao de ensino publica ou privada reconhecida pelo ministerio da educacao mecreingresso  voltado aos que desejam retornar ao mesmo curso e campus da instituicao que deixaram de frequentar ha no maximo cinco anos e que nao tenham se beneficiado do reingresso anteriormentetransferencia externa  estudante regularmente matriculado no ifms que queira se transferir para outro campus da propria instituicao ou para aqueles regularmente matriculados em outra instituicao de ensino publica ou privada que pretenda se transferir para o instituto federaltransferencia interna  estudante regularmente matriculado na instituicao que deseje se transferir para outro curso no mesmo campus.inscricoes  podem ser feitas ate sextafeira 5 na pagina do candidato.\n",
            "22.088957055214717\n",
            "para isso e preciso realizar agendamento de dia e horario enviando pedido por email ou whatsapp conforme informacoes constantes do anexo viii.a previsao e que os resultados preliminar e final da banca da heteroidentificacao sejam publicados nos dias 8 e 15 de julho respectivamente.no dia 15 de julho tambem sera divulgada a relacao de candidatos aptos a matricula e em lista de espera.entre 16 e 30 de julho sera aberto o periodo para matricula dos candidatos aptos e tambem para manifestacao de interesse nas vagas dos candidatos da lista de espera.o inicio das aulas esta previsto para 4 de agosto.selecao  o ifms ofertou 120 vagas para o curso superior de tecnologia em automacao industrial noturno engenharia da computacao integral e engenharia de controle e automacao integral sendo 40 vagas para cada curso.a selecao e feita com base nas notas obtidas pelo candidato em uma das tres ultimas edicoes do exame nacional do ensino medio enem em 2018 2019 ou 2020. o interessado deve ter tirado nota acima de zero nas provas de redacao e de todas as areas do conhecimento.duvidas sobre o processo seletivo podem ser encaminhadas ao email selecao.graduacaoifms.edu.br.\n",
            "21.567484662576685\n",
            "a oferta e em tres municipios aquidauana engenharia civil redes de computadores e sistemas para internet campo grande sistemas para internet e tres lagoas engenharia de controle e automacao automacao industrial analise e desenvolvimento de sistemas e engenharia de computacao.as inscricoes devem ser feitas na pagina do sisu ate quintafeira 25. podem participar aqueles que fizeram a prova do exame nacional do ensino medio enem em 2023 e obtiveram nota acima de zero na prova de redacao.outro requisito e ter o certificado de conclusao do ensino medio ou concluir o ensino medio ate 12 de julho.confira todas as regras no edital de abertura do processo seletivo publicado na central de selecao do ifms.em caso de duvidas sobre o edital o interessado deve entrar em contato com o instituto federal pelo endereco eletronico selecao.graduacaoifms.edu.br.acao afirmativa cotas  metade das vagas e para quem estudou todo o ensino medio em escola publica.\n",
            "21.11963190184049\n",
            "os interessados em concorrer as vagas para portador de diploma e transferencia externa devem anexar os seguintes arquivos todos no formato digitalrequerimento de inscricaorg ou outro documento oficial de identificacao com fotocpf caso nao conste a numeracao no documento oficial de identificacaodiploma de conclusao de curso superior reconhecido pelo mec aos que possuem curso superior concluido no caso de portadores de diplomacomprovante de matricula recente de curso superior autorizado ou reconhecido pelo mec aos que estao cursando curso superior para transferencia externahistorico academicoescolar de curso superior reconhecido ou autorizado pelo mec com carga horaria das unidades curriculares e aproveitamentonotasementas digitalizadas das unidades curriculares disciplinas cursadas para eventual aproveitamento e pontuacao.\n",
            "20.80674846625767\n",
            "a lista de espera devera ser divulgada no dia 9 de marco com a segunda chamada prevista para o dia 15.as aulas terao inicio no dia 25 de julho.adesao ao sisu  sobre a oferta de vagas ser somente para o segundo semestre de 2022 o diretor de graduacao do ifms rodrigo cardoso explica que desde o inicio da pandemia a instituicao tem se preocupado em causar o menor impacto possivel na vida academica porem o atraso nas provas do enem em 2020 e 2021 afetou o calendario do sisu.dessa forma como nosso calendario academico para o ano letivo de 2022 preve o inicio das aulas no dia 7 de fevereiro seria impossivel aderirmos ao sisu e conseguirmos iniciar as aulas das turmas ingressantes no primeiro semestre pois a matricula dos estudantes da primeira chamada seria realizada um mes apos o inicio das aulas pelo menos explica.quadro de cursos e vagas campuscursoturnovagasaquidauanaengenharia civil bachareladointegral40redes de computadores tecnologianoturno40sistemas para internet tecnologianoturno40campo grandeengenharia eletrica bachareladonoturno40engenharia mecanica bachareladonoturno40sistemas para internet tecnologiamatutino40noturno40corumbaanalise e desenvolvimento de sistemas tecnologianoturno40matutino40processos metalurgicos tecnologianoturno40coximalimentos tecnologianoturno40engenharia de pesca bachareladonoturno40quimica licenciaturanoturno40sistemas para internet tecnologianoturno40douradosjogos digitais tecnologianoturno40jardimarquitetura e urbanismo bachareladointegral40computacao licenciatura noturno40naviraiagronomia bachareladointegral40analise e desenvolvimento de sistemas tecnologianoturno40nova andradinaagronomia bachareladointegral40analise e desenvolvimento de sistemas tecnologianoturno40producao de graos tecnologiamatutino40ponta poraagronomia bachareladointegral40gestao do agronegocio tecnologianoturno40tres lagoasanalise e desenvolvimento de sistemas tecnologianoturno40engenharia de computacao bachareladointegral40engenharia de controle e automacao bachareladointegral40reportar erroensino superiorabertas 120 vagas para graduacao em tres lagoasvagas sao para automacao industrial e engenharias de computacao e de controle e automacao.\n",
            "20.460122699386496\n",
            "as modalidades de ingresso sao definidas da seguinte formaportador de diploma  estudante com curso superior concluido no ifms ou em outra instituicao de ensino publica ou privada reconhecida pelo ministerio da educacao mecreingresso  discentes do instituto que deixaram de frequentar o curso nos cinco anos que antecederam o edital sendo utilizado o coeficiente de rendimento como criterio de selecaotransferencia externa  academico regularmente matriculado ou com matricula trancada em curso identico ou dentro da mesma area de conhecimento de outra instituicao de ensino reconhecida conforme legislacao e que deseja se transferir para o institutotransferencia interna  estudante regularmente matriculado na instituicao que queira se transferir para outro curso dentro da mesma area de conhecimento.inscricoes  sao gratuitas e podem ser feitas de 4 a 14 de setembro na pagina do candidato.\n",
            "20.30368098159509\n",
            "resultado final sera divulgado na quartafeira 23tweettweetcompartilhar no whatsapp      por vinicius vieirapublicado    18092020 08h00ultima modificacao    18092020 08h00o instituto federal de mato grosso do sul ifms divulgou nessa quintafeira 17 o resultado preliminar do processo seletivo que oferta vagas em cursos de graduacao para portadores de diplomas reingresso e transferencias interna e externa.foram ofertadas 479 vagas em 14 opcoes de cursos de graduacao nos municipios de aquidauana campo grande coxim dourados jardim navirai nova andradina ponta pora e tres lagoas.a oferta abrange os bacharelados em agronomia arquitetura e urbanismo engenharia da computacao engenharia de controle e automacao e engenharia de pesca licenciaturas em computacao e quimica e superiores de tecnologia em agronegocio analise e desenvolvimento de sistemas automacao industrial jogos digitais producao de graos rede de computadores e sistemas para internet.\n",
            "20.021472392638028\n",
            "a previsao e que o resultado preliminar seja divulgado no dia 11 de marco e o final no dia 17 do mesmo mes.quadro de vagascampuscursoturnoportador de diplomatransferencia internatransferencia externareingressoaquidauanatecnologia em sistemas para internetnoturno3333engenharia civilintegral1334tecnologia em redes de computadoresnoturno333campo grandetecnologia em sistemas para internetnoturno1111engenharia eletricanoturno111engenharia mecanicanoturno333corumbatecnologia em analise e desenvolvimento de sistemasnoturno33310tecnologia em processos metalurgicosnoturno3223coximtecnologia em alimentosnoturno55510engenharia de pescanoturno55510licenciatura em quimicanoturno55510tecnologia em sistemas para internetnoturno1010douradostecnologia em jogos digitaisnoturno10101010jardimlicenciatura em computacaonoturno55510bacharelado em arquitetura e urbanismointegral1051010naviraitecnologia em analise e desenvolvimento de sistemasnoturno5510bacharelado em agronomiaintegral2132nova andradinabacharelado em agronomiaintegral222tecnologia em analise e desenvolvimento de sistemasnoturno255tecnologia em producao de graosmatutino2222ponta poratecnologia em agronegocionoturno551010bacharelado em agronomiaintegral551010tres lagoastecnologia em analise e desenvolvimento de sistemasnoturno5255tecnologia em automacao industrialnoturno2235engenharia de controle e automacaointegral4337engenharia de computacaointegral5235reportar errograduacaoabertas 479 vagas para portadores de diploma transferencia e reingressooferta acontece em nove municipios com ingresso no segundo semestre letivo de 2020. saiba como participartweettweetcompartilhar no whatsapp      por cleyton lutzpublicado    01092020 17h19ultima modificacao    03092020 11h48o instituto federal de mato grosso do sul ifms publicou na segundafeira 31 o edital de abertura do processo seletivo para 479 vagas em seus cursos superiores destinadas a portadores de diploma de graduacao reingresso transferencia interna e externa.\n",
            "19.78220858895705\n",
            "a classificacao sera realizada com base no historico escolar e nas ementas das disciplinas tendo como criterios a similaridade de conteudo e de carga horaria entre as unidades curriculares.a previsao e que o resultado preliminar seja divulgado no dia 14 de fevereiro e o final no dia 19. a matricula dos selecionados devera ser feita nos dias 20 e 21 de fevereiro.quadro de vagascampuscursoquantidade de vagas ofertadasportador de diplomatransferencia internatransferencia externaaquidauanatecnologia em sistemas para internet030505engenharia civil020202tecnologia em redes de computadores050505campo grandetecnologia em sistemas para internet100505corumbatecnologia em analise e desenvolvimento de sistemas100505tecnologia em processos metalurgicos050505coximengenharia de pesca101010licenciatura em quimica050505tecnologia em sistemas para internet101010tecnologia em alimentos050505douradostecnologia em jogos digitais100808jardimbacharelado em arquitetura e urbanismo020101licenciatura em computacao050505naviraitecnologia em analise e desenvolvimento de sistemas100510bacharelado em agronomia020102nova andradinabacharelado em agronomia0203tecnologia em analise e desenvolvimento de sistemas050105tecnologia em producao de graos050105ponta poratecnologia em agronegocio020210bacharelado em agronomia020210tres lagoastecnologia em analise e desenvolvimento de sistemas050205tecnologia em automacao industrial0202engenharia de controle e automacao030203engenharia de computacao040106total12488132344 os numeros de vagas para transferencias interna e externa nos cursos oferecidos no campus ponta pora foram alterados pelo edital de retificacao no 002.12020 publicado na central de selecao do ifms em 15.01.2020.reportar errovagas remanescentesinscricoes para graduacao devem ser feitas ate quintafeirasao oferecidas 299 vagas que nao foram preenchidas no sisu.\n",
            "19.687116564417174\n",
            "em ao menos uma das edicoes o candidato deve ter obtido nota acima de zero em todas as provas redacao e areas do conhecimento.o candidato deve ainda realizar inscricao com cpf do proprio para que a consulta da nota do candidato seja possivel junto ao arquivo de notas do enem.selecao  sera feita exclusivamente com base na nota total mais alta alcancada pelo candidato nas edicoes de 2016 2017 e 2018 do enem.a nota total e o resultado da soma das notas das provas nas areas de conhecimento e de redacao juntamente com o percentual do bonus da cota local  candidatos inscritos na ampla concorrencia podem ter um bonus de 20 sobre a nota do enem devendo residir e ser domiciliado na area de abrangencia do campus onde concorre a vaga conforme a relacao dos municipios contemplados disponivel no edital do processo seletivo.cronograma  o resultado preliminar deve ser divulgado na central de selecao no dia 26 de fevereiro.ja o resultado final sera divulgado em 7 de marco.\n",
            "19.56134969325153\n",
            "tanto a solicitacao de matricula quanto a manifestacao de interesse na vagas devem ser feitas no sistema de matriculas do ifms ate 30 de julho de acordo as instrucoes relacionadas no edital.nos dois casos sao necessarios os seguintes documentos digitalizadosrequerimento de matricula preenchido e assinado pelo candidato no qual devera constar obrigatoriamente o numero do cpf do candidatocarteira de identidade rg ou outro documento oficial de identificacao com fotodocumento que comprove estar em dia com o servico militar para os brasileiros entre 19 e 45 anos de idade completos ou a serem completados ate 31 de dezembro do ano correnteuma foto 3x4 recentecomprovante de preenchimento do questionario socioeconomicocertificado de conclusao do ensino medio ou curso equivalente ou certificado de conclusao com base nas notas do enem ou encceja para candidatos da ampla concorrenciahistorico escolar e certificado de conclusao do ensino medio ou curso equivalente ou certificado de conclusao com base nas notas do enem ou encceja para candidatos cotistasdocumentos comprobatorios conforme anexo i para beneficiarios de cota com renda menor ou igual a um salario minimo e meio per capitaformulario para entrega de laudo medico para aqueles que concorreram as vagas destinadas a pessoas com deficiencia.o candidato que nao tem acesso a internet pode solicitar a utilizacao de um computador do ifms para enviar a documentacao presencialmente.\n",
            "19.177914110429448\n",
            "serao oferecidas 40 vagas em turno integral.em contrapartida o curso superior de tecnologia de sistemas para a internet de tres lagoas deixara de ser ofertado.para conhecer os cursos superiores do ifms acesse a pagina dos cursos de graduacao.quadro de vagas para 2019municipiocursovagasaquidauanatecnologia em sistemas para internet40tecnologia em redes de computadores40bacharelado em engenharia civil40campo grandetecnologia em sistemas para internet40corumbatecnologia em analise e desenvolvimento de sistemas80tecnologia em processos metalurgicos40coximtecnologia em alimentos40tecnologia em sistemas para internet40bacharelado em engenharia de pesca40licenciatura em quimica40douradostecnologia em jogos digitais40jardimbacharelado em arquitetura e urbanismo40licenciatura da computacao40naviraitecnologia em analise e desenvolvimento de sistemas40bacharelado em agronomia40nova andradinabacharelado em agronomia40tecnologia em analise e desenvolvimento de sistemas40tecnologia em producao de graos40ponta porabacharelado em agronomia40tecnologia em gestao do agronegocio40tres lagoastecnologia em analise e desenvolvimento de sistemas40tecnologia em automacao industrial40bacharelado em engenharia da computacao40bacharelado em engenharia de controle e automacao40reportar erro\n",
            "18.972392638036816\n",
            "foram abertas 40 vagas em turno integral.saiba mais sobre os cursos superiores do ifms na pagina dos cursos de graduacao.quadro de cursos e vagasmunicipiocursoturnovagasaquidauanabacharelado em engenharia civilintegral40tecnologia em redes de computadoresnoturno40tecnologia em sistemas para internetnoturno40campo grandetecnologia em sistemas para internetnoturno40corumbatecnologia em analise e desenvolvimento de sistemasmatutino40noturno40tecnologia em processos metalurgicosnoturno40coximtecnologia em alimentosnoturno40bacharelado em engenharia de pescanoturno40licenciatura em quimicanoturno40tecnologia em sistemas para internetnoturno40douradostecnologia em jogos digitaisnoturno40jardimbacharelado em arquitetura e urbanismointegral40licenciatura em computacaonoturno40naviraibacharelado em agronomiaintegral40tecnologia em analise e desenvolvimento de sistemasnoturno40nova andradinabacharelado em agronomiaintegral40tecnologia em analise e desenvolvimento de sistemasnoturno40tecnologia em producao de graosmatutino40ponta porabacharelado em agronomiaintegral40tecnologia em gestao do agronegocionoturno40tres lagoastecnologia em analise e desenvolvimento de sistemasnoturno40tecnologia em automacao industrialnoturno40bacharelado em engenharia de computacaointegral40bacharelado em engenharia de controle e automacaointegral40reportar errosisu 2019ifms abre mil vagas em cursos de graduacaosao ofertadas 17 opcoes de cursos entre superiores de tecnologia licenciaturas e  bacharelados em dez municipios.\n",
            "18.83435582822087\n",
            "ja a 2a chamada deve ser divulgada no dia 7 na central de selecao do ifms.mais informacoes sobre o ensino superior do ifms estao disponiveis na pagina dos cursos de graduacao.reportar errograduacaoabertas inscricoes para vagas remanescentes do sisuinteressados devem se inscrever pela internet na central de selecao do ifms  ate domingo 24.tweettweetcompartilhar no whatsapp      por osvaldo satopublicado    18022019 14h08ultima modificacao    21022019 09h23o instituto federal de mato grosso do sul ifms recebe a partir desta segundafeira 18 inscricoes para o processo seletivo com vagas remanescentes do sistema de selecao unificada sisu.a oferta e para opcoes de licenciaturas bacharelados e cursos superiores de tecnologia nos municipios de aquidauana campo grande corumba coxim dourados jardim navirai nova andradina ponta pora e tres lagoas.\n",
            "18.59509202453988\n",
            "as orientacoes repassadas pelas diretorias de graduacao e de assuntos estudantis nas visitas aos campi e reunioes todas fruto de estudos e capacitacoes foram seguidas e refletiram esse resultado extremamente positivo para a instituicao celebra a proreitora de ensino claudia fernandes.cursos avaliados  a licenciatura em computacao do campus jardim que obteve o inedito conceito 5 do ifms e ofertada desde 2018. com duracao de 4 anos o curso forma profissionais aptos a dar aulas de ciencias da computacao nos niveis da educacao basica e do ensino tecnico.o campus tres lagoas oferta o bacharelado em engenharia de computacao que alcancou a nota 4 desde 2019. o curso dura 5 anos e forma profissionais para atuarem com sistemas voltados a automacao e controle de processos industriais e comerciais sistemas e dispositivos embarcados alem de sistemas e equipamentos de telecomunicacoes e de instrumentacao eletronica.a outra graduacao que obteve conceito 4  o bacharelado em agronomia ofertado pelo campus navirai  tambem tem duracao de 5 anos.\n",
            "18.54601226993864\n",
            "o ministerio da educacao mec ainda nao divulgou o cronograma da selecao.para saber mais sobre os cursos superiores do ifms acesse a pagina dos cursos de graduacao.quadro de vagas para 2020municipiocursovagasaquidauanatecnologia em sistemas para internet40tecnologia em redes de computadores40bacharelado em engenharia civil40campo grandetecnologia em sistemas para internet40corumbatecnologia em analise e desenvolvimento de sistemas40tecnologia em processos metalurgicos40coximtecnologia em alimentos40tecnologia em sistemas para internet40bacharelado em engenharia de pesca40licenciatura em quimica40douradostecnologia em jogos digitais40jardimbacharelado em arquitetura e urbanismo40licenciatura da computacao40naviraitecnologia em analise e desenvolvimento de sistemas40bacharelado em agronomia40nova andradinabacharelado em agronomia40tecnologia em analise e desenvolvimento de sistemas40tecnologia em producao de graos40ponta porabacharelado em agronomia40tecnologia em gestao do agronegocio40tres lagoastecnologia em analise e desenvolvimento de sistemas40tecnologia em automacao industrial40bacharelado em engenharia da computacao40bacharelado em engenharia de controle e automacao40reportar errosisu 2020ifms abre 960 vagas em cursos de graduacaosao 17 opcoes de cursos em dez municipios para ingresso no 1o semestre.\n",
            "18.43251533742331\n",
            "saiba como concorrertweettweetcompartilhar no whatsapp      por cleyton lutzpublicado    06052022 08h52ultima modificacao    20052022 09h39o instituto federal de mato grosso do sul ifms publicou nessa quintafeira 5 o edital que abre 532 vagas em cursos de graduacao nos campi aquidauana campo grande corumba coxim dourados jardim navirai nova andradina ponta pora e tres lagoas com ingresso no 2 semestre.ha opcoes em cursos de bacharelado agronomia arquitetura e urbanismo engenharia da computacao engenharia de controle e automacao engenharia civil engenharia eletrica engenharia mecanica e engenharia de pesca licenciatura computacao e quimica e tecnologia alimentos analise e desenvolvimento de sistemas gestao do agronegocio jogos digitais processos metalurgicos producao de graos redes de computadores e sistemas para internet.\n",
            "18.223926380368095\n",
            "para isso e preciso realizar agendamento de dia e horario enviando pedido por email ou whatsapp conforme informacoes constantes do anexo viii.os candidatos em lista de espera que manifestarem o interesse na vaga serao matriculados de acordo com a existencia da vaga caso os candidatos aptos a matricula nao a efetuem.o inicio das aulas esta previsto para 4 de agosto.selecao  o ifms ofertou 120 vagas para o curso superior de tecnologia em automacao industrial noturno engenharia da computacao integral e engenharia de controle e automacao integral sendo 40 vagas para cada curso.a selecao e feita com base nas notas obtidas pelo candidato em uma das tres ultimas edicoes do exame nacional do ensino medio enem em 2018 2019 ou 2020. o interessado deve ter tirado nota acima de zero nas provas de redacao e de todas as areas do conhecimento.duvidas sobre o processo seletivo podem ser encaminhadas ao email selecao.graduacaoifms.edu.br.\n",
            "18.110429447852756\n",
            "caso as vagas nao tenham sido ocupadas ao termino do sisu esta prevista ainda a selecao para as vagas remanescentes abertas tambem aos participantes das edicoes 2017 e 2018 do enem.vagasmunicipiocursovagasaquidauanatecnologia em sistemas para internet40tecnologia em redes de computadores40bacharelado em engenharia civil40campo grandetecnologia em sistemas para internet40corumbatecnologia em analise e desenvolvimento de sistemas40tecnologia em processos metalurgicos40coximtecnologia em alimentos40tecnologia em sistemas para internet40bacharelado em engenharia de pesca40licenciatura em quimica40douradostecnologia em jogos digitais40jardimbacharelado em arquitetura e urbanismo40licenciatura em computacao40naviraitecnologia em analise e desenvolvimento de sistemas40bacharelado em agronomia40nova andradinabacharelado em agronomia40tecnologia em analise e desenvolvimento de sistemas40tecnologia em producao de graos40ponta porabacharelado em agronomia40tecnologia em gestao do agronegocio40tres lagoastecnologia em analise e desenvolvimento de sistemas40tecnologia em automacao industrial40bacharelado em engenharia de computacao40bacharelado em engenharia de controle e automacao40reportar errograduacaoabertas 330 vagas para portador de diploma e transferenciassao 134 vagas para portadores de diploma e 196 para transferencias interna e externa.\n",
            "17.31288343558282\n",
            "oferta abrange dez municipiostweettweetcompartilhar no whatsapp      por juliana aragaopublicado    18022021 12h45ultima modificacao    22022021 09h24itens relacionadosabertas mais de 400 vagas para graduacao em dez municipiossegue ate o dia 7 de marco o prazo de inscricoes no processo seletivo em que o instituto federal de mato grosso do sul ifms oferta 404 vagas em cursos de graduacao nas modalidades portador de diploma reingresso e transferencias interna e externa para ingresso no primeiro semestre letivo de 2021.o edital com as regras do processo seletivo esta publicado na central de selecao.sao oferecidas 17 opcoes de cursos  entre superiores de tecnologia bacharelados e licenciaturas  nos campi aquidauana campo grande corumba coxim dourados jardim navirai nova andradina ponta pora e tres lagoas.\n",
            "17.082822085889575\n",
            "para saber mais sobre os cursos superiores do ifms acesse a pagina dos cursos de graduacao.vagasmunicipiocursovagasaquidauanatecnologia em sistemas para internet40tecnologia em redes de computadores40bacharelado em engenharia civil40campo grandetecnologia em sistemas para internet40corumbatecnologia em analise e desenvolvimento de sistemas40tecnologia em processos metalurgicos40coximtecnologia em alimentos40tecnologia em sistemas para internet40bacharelado em engenharia de pesca40licenciatura em quimica40douradostecnologia em jogos digitais40jardimbacharelado em arquitetura e urbanismo40licenciatura em computacao40naviraitecnologia em analise e desenvolvimento de sistemas40bacharelado em agronomia40nova andradinabacharelado em agronomia40tecnologia em analise e desenvolvimento de sistemas40tecnologia em producao de graos40ponta porabacharelado em agronomia40tecnologia em gestao do agronegocio40tres lagoastecnologia em analise e desenvolvimento de sistemas40tecnologia em automacao industrial40bacharelado em engenharia de computacao40bacharelado em engenharia de controle e automacao40reportar errosisu 2020inscricoes para cursos de graduacao abrem no dia 21ifms oferta 960 vagas em 17 cursos superiores em dez municipios do estado.\n",
            "16.98773006134969\n",
            "para portador de diploma ou transferencia externa tambem sao necessarios os seguintes documentos digitalizadosdiploma ou cerificado e historico escolar do curso de graduacao reconhecido pelo meccomprovante de matricula recente de curso superior apenas para transferencia externahistorico academicoescolar de curso superiorformulario de pontuacao anexo i preenchidoementas das disciplinas cursadas e aprovadas.para reingresso ou transferencia interna o candidato deve ainda anexar uma carta pessoal informando os motivos para solicitacao e no caso de transferencia o formulario de pontuacao anexo i. selecao  sera feita com base na documentacao apresentada pelo candidato sob responsabilidade da coordenacao do respectivo curso.\n",
            "16.56748466257669\n",
            "confiraconteudo  no capitulo visao organizacional e ambiente externo sao apresentados informacoes institucionais como missao visao e valores legislacao politicas e programas assim como fatores do ambiente externo que podem influenciar nos resultados apresentados.na sequencia o capitulo riscos oportunidades e perspectivas aborda a politica de gestao de riscos do ifms a questao do mapeamento de processos e do programa de integridade da instituicao.no terceiro capitulo governanca estrategia e desempenho estao descritas principalmente as acoes sobre o processo de elaboracao do plano de desenvolvimento institucional pdi 20242028 documento que norteara o planejamento da instituicao pelos proximos cinco anos.por fim o capitulo informacoes orcamentarias financeiras e contabeis detalha toda a questao orcamentaria da instituicao como sua execucao contabilidade balancos e outros.areas  o relatorio de gestao e organizado de forma a permitir uma visao sistemica do desempenho e da conformidade da gestao dos responsaveis pela unidade e setores durante o exercicio financeiro.sendo assim apresenta os resultados das areas do ensino pesquisa extensao e infraestrutura da instituicao alem de dados sobre investimentos em tecnologia da informacao gestao de pessoas entre outros.na area do ensino o destaque no ano passado foi o registro de 62.084 matriculas realizadas distribuidas nos cursos tecnicos de nivel medio graduacao posgraduacao lato e stricto sensu formacao inicial continuada fic alem dos cursos do centro de idiomas cenid e da educacao a distancia inclusive os livres e de curta duracao.outro destaque em 2022 foi o primeiro conceito maximo na avaliacao de um curso de graduacao na historia do ifms.\n",
            "16.39263803680981\n",
            "vagas ofertadas nos cursos de graduacao do ifmscampuscursoturnovagasaquidauanaengenharia civilintegral06rede de computadoresnoturno20sistema para internetnoturno21campo grandeengenharia eletricanoturnocadastro de reservaengenharia mecanicanoturno02sistemas para internetmatutino01sistemas para internetnoturnocadastro de reservacorumbaanalise e desenvolvimento de sistemasmatutino11analise e desenvolvimento de sistemasnoturnocadastro de reservaprocessos metalurgicosnoturno01coximalimentosnoturno32engenharia de pescanoturno21quimicanoturno29sistemas para internetnoturno22douradosjogos digitaisnoturno13jardimarquitetura e urbanismointegral15computacaonoturno21naviraiagronomiaintegralcadastro de reservaanalise e desenvolvimento de sistemasnoturno04nova andradinaagronomiaintegralcadastro de reservaanalise e desenvolvimento de sistemasnoturno01producao de graos matutino29ponta poraagronomia integral02gestao do agronegocionoturno08tres lagoasanalise e desenvolvimento de sistemasnoturno04automacao industrialnoturnocadastro de reservaengenharia da computacaointegral02engenharia de controle e automacaointegralcadastro de reservareportar erroensino superiorinscricao em vagas remanescentes na graduacao termina tercafeiraselecao e aberta aqueles que participaram do enem desde 2011. sao ofertadas 265 vagas para 16 cursos superiores em todos os campitweettweetcompartilhar no whatsapp      por cleyton lutzpublicado    28072021 14h11ultima modificacao    02082021 09h49o instituto federal de mato grosso do sul ifms segue com inscricoes abertas para 265 vagas remanescentes na graduacao ate a tercafeira 3 de agosto.\n",
            "16.33128834355828\n",
            "as opcoes sao para licenciaturas bacharelados e cursos superiores de tecnologia nos municipios de aquidauana campo grande corumba coxim dourados jardim navirai nova andradina ponta pora e tres lagoas.os interessados devem se inscrever pela pagina do sistema de selecao unificada sisu ate a proxima sextafeira 25.podem concorrer as vagas aqueles que prestaram a edicao 2018 do exame nacional do ensino medio enem e que obtiveram nota acima de zero na redacao e em todas as areas do conhecimento.o edital no 0842018 com todas as regras do processo seletivo esta disponivel na central de selecao do ifms.cronograma  a divulgacao da primeira chamada esta prevista para o dia 28 na pagina do sisu e as matriculas deverao ser feitas entre 30 de janeiro e 4 de fevereiro.candidatos nao selecionados poderao participar da lista de espera.\n",
            "15.852760736196322\n",
            "a manifestacao de interesse devera ser feita entre 29 de janeiro a 4 de fevereiro.a lista servira para a selecao das vagas nao ocupadas apos a primeira chamada.vagasmunicipiocursovagasaquidauanatecnologia em sistemas para internet40tecnologia em redes de computadores40bacharelado em engenharia civil40campo grandetecnologia em sistemas para internet40corumbatecnologia em analise e desenvolvimento de sistemas40tecnologia em processos metalurgicos40coximtecnologia em alimentos40tecnologia em sistemas para internet40bacharelado em engenharia de pesca40licenciatura em quimica40douradostecnologia em jogos digitais40jardimbacharelado em arquitetura e urbanismo40licenciatura em computacao40naviraitecnologia em analise e desenvolvimento de sistemas40bacharelado em agronomia40nova andradinabacharelado em agronomia40tecnologia em analise e desenvolvimento de sistemas40tecnologia em producao de graos40ponta porabacharelado em agronomia40tecnologia em gestao do agronegocio40tres lagoastecnologia em analise e desenvolvimento de sistemas40tecnologia em automacao industrial40bacharelado em engenharia de computacao40bacharelado em engenharia de controle e automacao40reportar errograduacaoinscricoes para portadores de diploma e transferencias comecam na 2asao 344 vagas em licenciaturas bacharelados e cursos superiores de tecnologia.\n",
            "15.598159509202453\n",
            "a nota total e o somatorio das diferentes areas do conhecimento linguagens codigos e suas tecnologias matematica e suas tecnologias ciencias da natureza e suas tecnologias ciencias humanas e suas tecnologias e da redacao.os pesos por area de conhecimento para o calculo da nota total de cada um dos cursos ofertados consta no item 5 do edital de abertura do processo seletivo.acao afirmativa cotas  metade das vagas se destina aqueles que cursaram todas as series do ensino medio em escola publica devendo o candidato manifestar o interesse em concorrer como beneficiario de acao afirmativa na inscricao.das vagas reservadas 50 sao para estudantes com renda familiar bruta igual ou inferior a um salario minimo e meio per capita sendo que sera garantido aos candidatos autodeclarados pretos pardos e indigenas e as pessoas com deficiencia a mesma proporcao de vagas relativa a soma desses publicos na populacao de mato grosso do sul.\n",
            "15.555214723926387\n",
            "a pratica adotada pela diretoria de graduacao preve um preparo do coordenador quanto ao que esta previsto no processo avaliativo alem da necessidade de engajamento de toda a comunidade academica do curso  estudantes professores e servidores tecnicoadministrativos aponta cardoso.o coordenador do curso professor rodrigo devigo enumera como principais fatores para o conceito maximo as salas de aula inovadoras as ferramentas utilizadas por professores e estudantes do curso  como mesa digitalizadora instrumentos musicais e softwares alinhados com a industria  o planejamento de capacitacao dos docentes alinhado a elementos identificados pela comissao propria de avaliacao cpa e avaliacao do docente pelo discente add.ainda a atuacao do nucleo docente estruturante nde alinhada com a industria a comunicacao com a comunidade academica alem da realizacao de eventos institucionais com acoes do curso de jogos digitais.esse conceito cinco e a prova do empenho por parte dos docentes tecnicosadministrativos e estudantes mostrando a excelencia do ensino ofertado em nossa instituicao.\n",
            "15.54907975460122\n",
            "inscricoes entre 15 e 18 de fevereirotweettweetcompartilhar no whatsapp      por osvaldo satopublicado    28012022 09h38ultima modificacao    15022022 07h04o instituto federal de mato grosso do sul ifms abriu nessa quintafeira 27 processo seletivo para ingresso nos cursos de graduacao oferecidos pela instituicao no segundo semestre letivo de 2022. os candidatos serao selecionados pelo sistema de selecao unificada sisu com base nas notas obtidas no exame nacional do ensino medio enem de 2021.sao ofertadas 1.080 vagas em 18 diferentes opcoes de cursos gratuitos  entre superiores de tecnologia licenciaturas e bacharelados  nos campi aquidauana campo grande corumba coxim dourados jardim navirai nova andradina ponta pora e tres lagoas.\n",
            "15.4478527607362\n",
            "inscricoes entre 15 e 18 de fevereirotweettweetcompartilhar no whatsapp      por osvaldo satopublicado    28012022 09h38ultima modificacao    15022022 07h04o instituto federal de mato grosso do sul ifms abriu nessa quintafeira 27 processo seletivo para ingresso nos cursos de graduacao oferecidos pela instituicao no segundo semestre letivo de 2022. os candidatos serao selecionados pelo sistema de selecao unificada sisu com base nas notas obtidas no exame nacional do ensino medio enem de 2021.sao ofertadas 1.080 vagas em 18 diferentes opcoes de cursos gratuitos  entre superiores de tecnologia licenciaturas e bacharelados  nos campi aquidauana campo grande corumba coxim dourados jardim navirai nova andradina ponta pora e tres lagoas.\n",
            "15.4478527607362\n",
            "o requisito para concorrer e ter ensino medio completo.foram abertas vagas para cursos de bacharelado licenciatura e tecnologia em aquidauana corumba coxim dourados jardim navirai nova andradina ponta pora e tres lagoas.as opcoes sao as graduacoes em alimentos analise e desenvolvimento de sistemas arquitetura e urbanismo computacao engenharia civil engenharia da computacao engenharia de controle e automacao engenharia de pesca gestao do agronegocio jogos digitais processos metalurgicos producao de graos quimica redes de computadores e sistemas para internet.a disponibilizacao das vagas leva em consideracao as nao ocupadas selecao para vagas remanescentes e composicao da lista de espera.\n",
            "15.444785276073617\n",
            "as opcoes sao para licenciaturas bacharelados e superiores de tecnologia nos municipios de aquidauana campo grande corumba coxim dourados jardim navirai nova andradina ponta pora e tres lagoas.os interessados devem se inscrever pela pagina do sisu.podem concorrer as vagas aqueles que prestaram a edicao 2018 do exame nacional do ensino medio enem e que obtiveram nota acima de zero na redacao e em todas as areas do conhecimento.o edital no 0842018 com todas as regras do processo seletivo esta disponivel na central de selecao do ifms.acoes afirmativas cotas  metade das vagas ofertadas pelo ifms e reservada aos candidatos que cursaram todo o ensino medio na rede publica.\n",
            "15.28834355828221\n",
            "a selecao sera feita por meio do sistema de selecao unificada sisu.as vagas sao ofertadas em tres municipios aquidauana engenharia civil redes de computadores e sistemas para internet campo grande sistemas para internet e tres lagoas engenharia de controle e automacao automacao industrial analise e desenvolvimento de sistemas e engenharia de computacao.poderao se inscrever no processo seletivo aqueles que fizeram a prova do exame nacional do ensino medio enem em 2023 e obtiveram nota acima de zero na prova de redacao.\n",
            "15.214723926380366\n",
            "o curso superior de tecnologia em sistemas para internet do campus campo grande e o quinto da instituicao a obter conceito 5 apos avaliacao realizada entre os dias 22 e 25 de maio por meio do instituto nacional de estudos e pesquisas educacionais anisio teixeira inep.anteriormente a licenciatura em computacao e o bacharelado em arquitetura e urbanismo ambos do campus jardim a engenharia de controle e automacao do campus tres lagoas e o curso de tecnologia em jogos digitais do campus dourados obtiveram a conquista.identificamos nas avaliacoes anteriores onde estavam os problemas da instituicao revisamos e organizamos todos os documentos necessarios.\n",
            "14.865030674846619\n",
            "resultado sera publicado no dia 8tweettweetcompartilhar no whatsapp      por vinicius vieirapublicado    02072021 09h07ultima modificacao    02072021 09h07itens relacionadosabertas 120 vagas para graduacao em tres lagoaso instituto federal de mato grosso do sul ifms publicou nessa quintafeira 1o na central de selecao a convocacao para a banca de heteroidentificacao no processo seletivo para ingresso nos cursos de graduacao ofertados pelo campus tres lagoas no segundo semestre letivo.o procedimento obrigatorio para candidatos que se autodeclararam pretos e pardos no ato da inscricao deve ser realizado de forma online ate o dia 5 de julho.os convocados deverao apresentar os seguintes documentos autodeclaracao de preto e pardo preenchida e assinada anexo vii disponivel na central de selecao fotografia frontal tirada a um metro e meio de distancia do candidato que deve estar sentado com as maos abertas sobre os joelhos sem maquiagem oculos escuros chapeu bone ou gorro ou ainda filtros de edicao.\n",
            "14.619631901840487\n",
            "do parana sao 61 interessados nas vagas com destaque ainda para os estados de minas gerais 54 para 33 e rio de janeiro 25.quadro de origem das inscricoesestadonumero de candidatosmato grosso do sul1245sao paulo352parana61minas gerais54para33rio de janeiro25foram registradas inscricoes de candidatos de todas as demais unidades federativas do pais com excecao dos estados de alagoas e roraima.inscricoes  o sistema de selecao unificada sisu esta com inscricoes abertas no periodo de 22 a 25 de janeiro.os interessados devem se inscrever pela pagina do sistema de selecao unificada sisu ate a proxima sextafeira 25.podem concorrer as vagas aqueles que prestaram a edicao 2018 do exame nacional do ensino medio enem e que obtiveram nota acima de zero na redacao e em todas as areas do conhecimento.o edital no 0842018 com todas as regras do processo seletivo esta disponivel na central de selecao do ifms.\n",
            "14.423312883435587\n",
            "essas informacoes estao disponiveis nos projetos pedagogicos dos cursos de graduacao do ifms.os resultados preliminar e final da selecao estao previstos para 7 e 13 de fevereiro respectivamente.duvidas sobre o edital devem ser encaminhadas para o email selecao.graduacaoifms.edu.br.quadro completo de vagascampuscursoturnoquantidade de vagas por modalidadeportador de diplomatransferencia internatransferencia externareingressoaquidauanatecnologia em sistemas para internetnoturno325engenharia civilintegral22tecnologia em redes de computadoresnoturno325campo grandetecnologia em sistemas para internetnoturno2112engenharia eletricanoturno113engenharia mecanicanoturno111corumbatecnologia em analise e desenvolvimento de sistemasnoturno2222tecnologia em processos metalurgicosnoturno1222coximtecnologia em alimentosnoturno3333engenharia de pescanoturno3331licenciatura em quimicanoturno23tecnologia em sistemas para internetnoturno2111douradostecnologia em jogos digitaisnoturno4442jardimlicenciatura em computacaonoturno5555bacharelado em arquitetura e urbanismointegral4444naviraitecnologia em analise e desenvolvimento de sistemasnoturno1112bacharelado em agronomiaintegral2111nova andradinabacharelado em agronomiaintegral555ponta poratecnologia em agronegocionoturno2545bacharelado em agronomiaintegral1221tres lagoastecnologia em analise e desenvolvimento de sistemasnoturno1tecnologia em automacao industrialnoturno22engenharia de computacaointegral1111reportar errosisu 2022abertas 1.080 vagas em cursos de graduacaoselecao sera feita pelo sistema de selecao unificada sisu para ingresso no segundo semestre letivo.\n",
            "14.386503067484663\n",
            "inscricoes deverao ser feitas entre 15 de fevereiro e 7 de marcotweettweetcompartilhar no whatsapp      por juliana aragaopublicado    12022021 13h43ultima modificacao    18022021 08h43o instituto federal de mato grosso do sul ifms publicou nessa quintafeira 11 na central de selecao o edital que oferta 404 vagas em cursos de graduacao nas modalidades portador de diploma reingresso e transferencias interna e externa para ingresso no primeiro semestre letivo de 2021.sao oferecidas 17 opcoes de cursos entre superiores de tecnologia bacharelados e licenciaturas nos campi aquidauana campo grande corumba coxim dourados jardim navirai nova andradina ponta pora e tres lagoas.\n",
            "14.147239263803684\n",
            "cursos de navirai e tres lagoas obtiveram nota 4tweettweetcompartilhar no whatsapp      por paulo gomespublicado    13122022 16h01ultima modificacao    13122022 16h06a licenciatura em computacao ofertada pelo campus jardim do instituto federal de mato grosso do sul ifms e a primeira graduacao da instituicao a obter 5  conceito maximo em uma escala que vai de 1 a 5  na avaliacao realizada pelo ministerio da educacao mec por meio do instituto nacional de estudos e pesquisas educacionais anisio teixeira inep.a avaliacao foi realizada entre os 28 e 30 de novembro e a nota divulgada esta semana.\n",
            "14.147239263803682\n",
            "e quem ganha com esse trabalho conjunto sao os estudantes com graduacoes de excelente qualidade finaliza elaine.o trabalho em equipe tambem e ressaltado pelo diretor de graduacao do ifms rodrigo cardoso.os excelentes conceitos sao reflexo do trabalho em equipe desenvolvido desde o apoio da reitoria na capacitacao e aperfeicoamento da diretoria de graduacao quanto da gestao dos campi pelo trabalho de apoio ao coordenador do curso junto a comunidade academica uma vez que dada a abrangencia da avaliacao realizada pelo mec cada atributo dos campi e dos cursos contribui para este resultado como laboratorios bibliotecas acessibilidade atendimento ao discente programas de ensino pesquisa extensao e inovacao.outros cursos da instituicao tambem passaram por avaliacao recentemente e obtiveram bons resultados.\n",
            "13.981595092024538\n",
            "ate agora essas areas careciam de instituicoes federais de ensino uma lacuna que o projeto de expansao visa preencher analisa.elaine acredita que a implantacao dos novos campi ira trazer impactos positivos para as comunidades locais preenchendo vazios existentes na oferta de educacao profissional e tecnologica e impulsionando o desenvolvimento regional.estes campi servirao como catalisadores para o desenvolvimento economico e social beneficiando diretamente cerca de 42 mil habitantes em paranaiba e fortalecendo uma das regioes mais desfavorecidas de mato grosso do sul em amambai afirmana avaliacao da reitora o compromisso desta expansao de oferecer prioritariamente vagas em cursos tecnicos integrados ao ensino medio nos novos campi ao longo dos proximos anos reflete um passo significativo em direcao ao alinhamento com padroes internacionais.ao destinarmos 80 das vagas a esta modalidade estamos fortalecendo o tecido socioeconomico das comunidades que atendemos preparando uma nova geracao para os desafios e oportunidades do futuro finaliza.a expectativa e que a expansao da rede federal de educacao profissional cientifica e tecnologica gere 140 mil novas vagas em todo o pais majoritariamente em cursos tecnicos integrados ao ensino medio.alem da criacao das novas unidades o novo pac preve ainda r 14 bilhao para a consolidacao de unidades dos ifs ja existentes com a construcao de refeitorios estudantis ginasios bibliotecas salas de aula e aquisicao de equipamentos.\n",
            "13.889570552147228\n",
            "a previsao e que os resultados preliminar e final sejam divulgados nos dias 16 e 23 de dezembro respectivamente.quadro de vagascampuscursoturnoportador de diplomatransferencia internatransferencia externareingressototalaquidauanatecnologia em sistemas para internetnoturno555547engenharia civilintegral133tecnologia em redes de computadoresnoturno5555campo grandetecnologia em sistemas para internetmatutino111118tecnologia em sistemas para internetnoturno1111engenharia eletricanoturno1111engenharia mecanicanoturno2220corumbatecnologia em analise e desenvolvimento de sistemasnoturno511538tecnologia em analise e desenvolvimento de sistemasmatutino5115tecnologia em processos metalurgicosnoturno5225coximtecnologia em alimentosnoturno10101010160engenharia de pescanoturno10101010licenciatura em quimicanoturno10101010tecnologia em sistemas para internetnoturno10101010douradostecnologia em jogos digitaisnoturno1055525jardimlicenciatura em computacaonoturno1055348bacharelado em arquitetura e urbanismointegral10555naviraitecnologia em analise e desenvolvimento de sistemasnoturno222212bacharelado em agronomiaintegral1111nova andradinabacharelado em agronomiaintegral505540tecnologia em analise e desenvolvimento de sistemasnoturno00010tecnologia em producao de graosmatutino30210ponta poratecnologia em agronegocionoturno5510550bacharelado em agronomiaintegral55105tres lagoastecnologia em analise e desenvolvimento de sistemasnoturno112144tecnologia em automacao industrialnoturno3225engenharia de controle e automacaointegral3155engenharia de computacaointegral3235reportar errosisu 2022abertas 1.080 vagas em cursos de graduacaoselecao sera feita pelo sistema de selecao unificada sisu para ingresso no segundo semestre letivo.\n",
            "13.849693251533743\n",
            "orientadas por docentes da instituicao as equipes formadas para implantar as empresas envolvem 48 estudantes de graduacao.entre os cursos aos quais os empreendimentos estarao vinculados estao engenharia civil e redes de computadores em aquidauana sistemas para internet em campo grande engenharia de pesca em coxim arquitetura e urbanismo em jardim agronomia em navirai e ponta pora e engenharia de controle e automacao alem de engenharia da computacao em tres lagoas.as equipes irao participar de um workshop que sera realizado entre quintafeira e sabado 25 a 27 e tambem deverao fazer uma apresentacao oral pitch entre os dias 29 de junho e 1o de julho.as apresentacoes deverao ser feitas a partir de uma avaliacao de mercado para atuacao da empresa junior a ser constituida e dos impactos diretos e indiretos que o empreendimento podera ter nas comunidades interna e externa.os resultados provisorio e final da selecao serao divulgados nos dias 2 e 6 de julho respectivamente.preincubacao  as equipes aprovadas terao entre agosto deste ano e abril de 2021 para realizarem as etapas previstas nesta fase o que inclui modelagem do negocio plano academico para a empresa junior elaboracao e registro do estatuto registro de cnpj e solenidade de apresentacao da empresa.o plano academico inclui o plano de captacao de projetos de desenvolvimento e de gerenciamento do conhecimento.\n",
            "13.739263803680982\n",
            "ha vagas para aquidauana campo grande e tres lagoastweettweetcompartilhar no whatsapp      por laura silveirapublicado    12042024 08h10ultima modificacao    12042024 08h10o instituto federal de mato grosso do sul ifms publicou nesta quintafeira 11 o edital de abertura para oferta de 110 vagas remanescentes em cursos de graduacao com ingresso no segundo semestre nos municipios de aquidauana campo grande e tres lagoas.pode se inscrever quem realizou uma das edicoes do exame nacional do ensino medio enem entre os anos de 2014 e 2023 com nota acima de zero na redacao.\n",
            "13.340490797546012\n",
            "selecao sera feita por meio do sisu 2020.tweettweetcompartilhar no whatsapp      por paulo gomespublicado    11112019 10h55ultima modificacao    20112019 08h46o instituto federal de mato grosso do sul ifms ofertara 960 vagas em cursos de graduacao para ingresso no primeiro semestre de 2020 de acordo com o termo de adesao ao sistema de selecao unificada sisu.serao oferecidas 17 opcoes de cursos  entre licenciaturas bacharelados e superiores de tecnologia  nos municipios de aquidauana campo grande corumba coxim dourados jardim navirai nova andradina ponta pora e tres lagoas.o ingresso sera feito exclusivamente por meio do sisu.\n",
            "13.236196319018404\n",
            "poderao concorrer as vagas aqueles que prestaram a edicao 2018 do exame nacional do ensino medio enem e que obtiveram nota acima de zero na redacao e em todas as areas do conhecimento.a previsao e que o edital com a oferta de vagas do instituto federal seja divulgado ate a primeira quinzena de dezembro na central de selecao do ifms.sisu 2019  as inscricoes para as vagas abertas no primeiro semestre de 2019 deverao ser feitas entre os dias 22 e 25 de janeiro na pagina do sisu.a divulgacao do resultado esta prevista para 28 de janeiro e as matriculas deverao ser feitas entre os dias 30 do mesmo mes e 4 de fevereiro.candidatos nao selecionados poderao participar da lista de espera.\n",
            "13.214723926380367\n",
            "a manifestacao devera ser feita na pagina do sisu entre 28 de janeiro e 4 de fevereiro.quadro de cursos e vagasmunicipiocursoturnovagasaquidauanabacharelado em engenharia civilintegral40tecnologia em redes de computadoresnoturno40tecnologia em sistemas para internetnoturno40campo grandetecnologia em sistemas para internetnoturno40corumbatecnologia em analise e desenvolvimento de sistemasmatutino40noturno40tecnologia em processos metalurgicosnoturno40coximtecnologia em alimentosnoturno40bacharelado em engenharia de pescanoturno40licenciatura em quimicanoturno40tecnologia em sistemas para internetnoturno40douradostecnologia em jogos digitaisnoturno40jardimbacharelado em arquitetura e urbanismointegral40licenciatura em computacaonoturno40naviraibacharelado em agronomiaintegral40tecnologia em analise e desenvolvimento de sistemasnoturno40nova andradinabacharelado em agronomiaintegral40tecnologia em analise e desenvolvimento de sistemasnoturno40tecnologia em producao de graosmatutino40ponta porabacharelado em agronomiaintegral40tecnologia em gestao do agronegocionoturno40tres lagoastecnologia em analise e desenvolvimento de sistemasnoturno40tecnologia em automacao industrialnoturno40bacharelado em engenharia de computacaointegral40bacharelado em engenharia de controle e automacaointegral40reportar errosisu 2019divulgada 1a chamada para cursos de graduacaoresultado esta disponivel na pagina do sisu.\n",
            "13.101226993865033\n",
            "mais informacoes estao disponiveis na pagina da tecnoif.lista preliminar de propostas inscritascampuscursosequipe fundadoraorientadoraquidauana engenharia civil redes de computador blendha da silva vilalva brunno becker goncalves guilherme coelho soares guilherme maciel passos kenzo hirata priscylla araujo e oliveirafelipo lovattocampo grandesistemas para internet aron alvarenga rocha andre luis santana benites andre luis ocampos veronica mora gomes joyce vicentini rodrigues alyce dos santos marculino jefferson lima rodrigues jiyan yari cassima ortegosacoximengenharia de pesca beatriz pinheiro medeiros leano de oliveira gabriel da silva barros jefferson wellington nery victor corgozinho ribeiroleonardo viera juniorjardimarquitetura e urbanismo luiz eduardo almeida fabrina paredes gomes henrique gloria araujo arthur do nascimento yuri ramalho de almeida aline marie de brito gomes nubia bernardo de souza bruno capelli saraiva asia ahmad m. a. j. saleh ricardo silva machadorobson de araujo filhonaviraiagronomia amanda zanella blauth caroline dias da silva caroline bersi dos santos eduarda dos santos vargas iara camargo sales juanita silva pereira leonardo de souza oliveira lidiane dos santos borges thais soares gomesadilson amorim brandaoponta pora agronomia tecnologia do agronegocio juliana barbosa landfeldt bianca duque guirardi victor luiz peres de souza wesley gavilan garcia fernando silva ferreira  elmo pontes melo valeria sun hwa galvaotres lagoas engenharia de controle e automacao engenharia da computacao paulo eduardo goncalves fabio luis da silva cabanha joao vitor de araujo joel henrique lessi zanetta lucas de azevedo onaga natalia cruz silvamurilo miceno frigoreportar erroempreendedorismoseis projetos receberao apoio para virarem empresas junioresequipes sao formadas por estudantes de graduacao e professores de campo grande coxim jardim navirai ponta pora e tres lagoas.tweettweetcompartilhar no whatsapp      por vinicius vieirapublicado    09072020 14h58ultima modificacao    10072020 01h57itens relacionadosdivulgada lista de propostas de empresas juniores inscritaspropostas de seis campi do instituto federal de mato grosso do sul ifms foram selecionadas no edital de preincubacao para constituirem empresas juniores com apoio institucional.\n",
            "13.079754601226991\n",
            "cursos superioresseguem abertas inscricoes para vagas na graduacaosao ofertadas 110 vagas para ingresso no segundo semestre nos campi aquidauana campo grande e tres lagoastweettweetcompartilhar no whatsapp      por osvaldo satopublicado    22042024 16h35ultima modificacao    03052024 15h52seguem abertas as inscricoes do processo seletivo para oferta de 110 vagas remanescentes em cursos de graduacao do instituto federal de mato grosso do sul ifms nos campi de aquidauana campo grande e tres lagoas.\n",
            "13.058282208588958\n",
            "a previsao e que o resultado preliminar seja divulgado no dia 10 de agosto e o final no dia 18 do mesmo mes.quadro de vagascampuscursoturnoportador de diplomatransferencia internatransferencia externareingressoaquidauanatecnologia em sistemas para internetnoturno05050505engenharia civilintegral03030304tecnologia em redes de computadoresnoturno030303campo grandetecnologia em sistemas para internetnoturno01010101tecnologia em sistemas para internetmatutino01010101engenharia eletricanoturno04040404corumbatecnologia em analise e desenvolvimento de sistemasnoturno07tecnologia em analise e desenvolvimento de sistemasmatutino03coximtecnologia em alimentosnoturno10101010engenharia de pescanoturno10101010licenciatura em quimicanoturno10101010tecnologia em sistemas para internetnoturno10101010douradostecnologia em jogos digitaisnoturno0602jardimlicenciatura em computacaonoturno05050505naviraitecnologia em analise e desenvolvimento de sistemasnoturno04020405nova andradinabacharelado em agronomiaintegral050505tecnologia em analise e desenvolvimento de sistemasnoturno05050505tecnologia em producao de graosmatutino05050505ponta poratecnologia em agronegocionoturno10051005bacharelado em agronomiaintegral10051005tres lagoastecnologia em analise e desenvolvimento de sistemasnoturno04010401tecnologia em automacao industrialnoturno02020305engenharia de controle e automacaointegral03020305engenharia de computacaointegral03010305reportar errograduacaoabertas inscricoes para 265 vagas remanescentes em dez campiselecao se destina aos participantes do enem a partir de 2011. inscricoes vao ate dia 3 de agosto.\n",
            "13.033742331288341\n",
            "o investimento sera de r 118 milhoestweettweetcompartilhar no whatsapp      por paulo gomespublicado    25082021 16h25ultima modificacao    25082021 16h32reitora elaine cassiano e governador reinaldo azambuja assinaram hoje o convenio que beneficia 250 estudanteso conselho de reitores das instituicoes de ensino superior de mato grosso do sul criems e o governo do estado de mato grosso do sul firmaram nesta quartafeira 25 um convenio no valor de r 118 milhoes para a execucao do programa de estagio supervisionado e capacitacao tecnica do governo do estado de mato grosso do sul.o programa beneficiara com bolsas de r 11 mil cerca de 250 estudantes do ensino superior do instituto federal de mato grosso do sul ifms e das universidades estadual de mato grosso do sul uems federal de mato grosso do sul ufms federal da grande dourados ufgd catolica dom bosco ucdb e anhanguerauniderp.ficamos satisfeitos por essa visao estrategica do governo do estado voltada a quebra de paradigmas com foco na aproximacao entre as instituicoes de ensino os servicos publicos e o desenvolvimento de mato grosso do sul.\n",
            "12.90184049079754\n",
            "selecao e feita por meio do sisu.tweettweetcompartilhar no whatsapp      por cleyton lutzpublicado    08012020 15h44ultima modificacao    13012020 08h17o instituto federal de mato grosso do sul ifms esta com 960 vagas abertas em cursos de graduacao ofertadas por meio do sistema de selecao unificada sisu com ingresso no primeiro semestre de 2020. sao 17 opcoes de cursos nas modalidades de licenciatura bacharelado e tecnologia nos campi aquidauana campo grande corumba coxim dourados jardim navirai nova andradina ponta pora e tres lagoas.\n",
            "12.86503067484663\n",
            "o texto do relatorio informa que as salas de aula sao equipadas com lousa de vidro projeto multimidia ventiladores ar condicionado e apresentam manutencao periodica e limpeza diaria.o coordenador do curso edson italo mainardi junior ressalta que o processo de avaliacao iniciouse em 2018 quando a engenharia foi implantada no campus e que o conceito maximo e resultado de um esforco coletivo.os primeiros coordenadores do curso murilo frigo e marcus jorgeto fizeram um trabalho excelente os professores sao extremamente comprometidos com a qualidade do ensino a equipe administrativa oferece todo o suporte para a compra de equipamentos e as direcoes geral e de ensino sempre apoiaram o desenvolvimento do curso.\n",
            "12.760736196319014\n",
            "ainda ha cotas aos candidatos autodeclarados pretos pardos e indigenas e a pessoas com deficiencia.a opcao pelas acoes afirmativas devera ser feita no ato da inscricao.selecao  sera feita exclusivamente com base na nota total alcancada pelo candidato na edicao de 2022 do enem.considerase nota total o resultado da media ponderada das notas das areas de conhecimento linguagens codigos e suas tecnologias matematica e suas tecnologias ciencias da natureza e suas tecnologias ciencias humanas e suas tecnologias e da redacao.os pesos por area de conhecimento para o calculo da nota total de cada um dos cursos ofertados estao dispostos no edital de abertura do processo seletivo.a divulgacao do resultado final da 1a chamada para solicitacao de matricula esta prevista para 2 de junho.\n",
            "12.687116564417176\n",
            "ainda ha cotas aos candidatos autodeclarados pretos pardos e indigenas e a pessoas com deficiencia.a opcao pelas acoes afirmativas devera ser feita no ato da inscricao.selecao  sera feita exclusivamente com base na nota total alcancada pelo candidato na edicao de 2022 do enem.considerase nota total o resultado da media ponderada das notas das areas de conhecimento linguagens codigos e suas tecnologias matematica e suas tecnologias ciencias da natureza e suas tecnologias ciencias humanas e suas tecnologias e da redacao.os pesos por area de conhecimento para o calculo da nota total de cada um dos cursos ofertados estao dispostos no edital de abertura do processo seletivo.a divulgacao do resultado final da 1a chamada para solicitacao de matricula esta prevista para 2 de junho.\n",
            "12.687116564417176\n",
            "os pesos por area de conhecimento para o calculo da nota de cada um dos cursos ofertados pelo ifms estao dispostos no edital.confira todas as regras no edital no 212024.datas importantesconvocacao para banca de heteroidentificacao 0805divulgacao da chamada 2305matricula e manifestacao de interesse dos candidatos 2905 a 0506divulgacao das vagas residuais 1206inicio previsto das aulas 2507oferta de vagas  2o semestrecampuscursoturnovagasaquidauanaengenharia civil  integral 14redes de computadores  noturno30sistema para internet  noturno26campo grandesistemas para internet  matutino06tres lagoasanalise e desenvolvimento de sistemas  noturno03automacao industrial  noturno19engenharia de controle e automacao  integral07engenharia de computacao  integral05 vagas prioritariamente para cotistas autodeclarados pretos pardos indigenas ou quilombolas candidatos com deficiencia e que tenham cursado integralmente o ensino medio em escolas publicas.\n",
            "12.585889570552151\n",
            "a previsao e que os resultados preliminar e final sejam divulgados nos dias 16 e 23 de dezembro respectivamente.quadro de vagascampuscursoturnoportador de diplomatransferencia internatransferencia externareingressototalaquidauanatecnologia em sistemas para internetnoturno555547engenharia civilintegral133tecnologia em redes de computadoresnoturno5555campo grandetecnologia em sistemas para internetmatutino111118tecnologia em sistemas para internetnoturno1111engenharia eletricanoturno1111engenharia mecanicanoturno2220corumbatecnologia em analise e desenvolvimento de sistemasnoturno511538tecnologia em analise e desenvolvimento de sistemasmatutino5115tecnologia em processos metalurgicosnoturno5225coximtecnologia em alimentosnoturno10101010160engenharia de pescanoturno10101010licenciatura em quimicanoturno10101010tecnologia em sistemas para internetnoturno10101010douradostecnologia em jogos digitaisnoturno1055525jardimlicenciatura em computacaonoturno1055348bacharelado em arquitetura e urbanismointegral10555naviraitecnologia em analise e desenvolvimento de sistemasnoturno222212bacharelado em agronomiaintegral1111nova andradinabacharelado em agronomiaintegral505540tecnologia em analise e desenvolvimento de sistemasnoturno00010tecnologia em producao de graosmatutino30210ponta poratecnologia em agronegocionoturno5510550bacharelado em agronomiaintegral55105tres lagoastecnologia em analise e desenvolvimento de sistemasnoturno112144tecnologia em automacao industrialnoturno3225engenharia de controle e automacaointegral3155engenharia de computacaointegral3235reportar erroensino superiorabertas vagas para graduacao gratuita em oito municipiosrequisito e ter feito qualquer edicao do enem de 2013 em diante e ter tirado acima de zero na redacao.\n",
            "12.552147239263807\n",
            "todas as regras do processo seletivo estao disponiveis no edital no 0442021. acoes afirmativas cotas  metade das vagas ofertadas e para candidatos que cursaram integralmente todas as series do ensino medio em escola publica.dessas vagas reservadas 50 se destinam aqueles com renda familiar per capita nao superior a um salario minimo e meio.ainda ha cotas aos candidatos autodeclarados pretos pardos e indigenas e a pessoas com deficiencia.heteroidentificacao  o ifms realizara processo para confirmar a autodeclaracao dos candidatos pretos e pardos.no dia 1o de julho sera divulgada a relacao de convocados para verificacao de heteroidentificacao.os convocados terao o periodo de 1o a 5 de julho para envio online da documentacao.a relacao de documentos necessarios para a heteroidentificacao constam do edital de abertura do processo seletivo.\n",
            "12.407975460122701\n",
            "selecao  a documentacao dos inscritos sera avaliada por uma comissao do campus onde as vagas sao ofertadas.nas modalidades portador de diploma e transferencias interna e externa sera verificado se as unidades curriculares cursadas na instituicao de origem ou o curso atendem ao conteudo programatico das unidades curriculares do curso em que o candidato deseja ingressar no ifms.\n",
            "12.251533742331286\n",
            "a previsao e que as aulas tenham inicio no final de julho.duvidas devem ser enviadas para selecao.graduacaoifms.edu.br para isso devese utilizar o mesmo email cadastrado na central de selecao do ifms.vagas da graduacao no 2o semestrecampuscursoturnovagasaquidauanaengenharia civilintegral40redes de computadoresnoturno40sistemas para internetnoturno40campo grandeengenharia eletricanoturno40engenharia mecanicanoturno40sistemas para internetmatutino40noturno40corumbaprocessos metalurgicosnoturno40analise e desenvolvimento de sistemasnoturno40coximalimentosnoturno40engenharia de pescanoturno40licenciatura em quimicanoturno40sistemas para internetnoturno40douradosjogos digitaisnoturno40jardimarquitetura e urbanismointegral40naviraianalise e desenvolvimento de sistemasnoturno40tres lagoasengenharia de computacaointegral40analise e desenvolvimento de sistemasnoturno40automacao industrialnoturno40reportar errograduacaomais dois cursos recebem conceito maximo do mecarquitetura e urbanismo ofertado em jardim e engenharia de controle e automacao oferecido em tres lagoas obtiveram conceito 5tweettweetcompartilhar no whatsapp      por paulo gomespublicado    04052023 18h48ultima modificacao    05052023 10h15com a colaboracao de juliana aragaoestudantes e servidores do campus jardim se reuniram para celebrar a conquista  fotos campus jardimestudantes e servidores do campus jardim se reuniram para celebrar a conquista  fotos campus jardima foto do abraco acima representa mais uma vitoria do instituto federal de mato grosso do sul ifms.\n",
            "12.171779141104288\n",
            "a previsao e que o resultado preliminar seja divulgado no dia 11 de marco e o final no dia 17 do mesmo mes.quadro de vagas campuscursoturnoportador de diplomatransferencia internatransferencia externareingressoaquidauanatecnologia em sistemas para internetnoturno3333engenharia civilintegral1334tecnologia em redes de computadoresnoturno333campo grandetecnologia em sistemas para internetnoturno1111engenharia mecanicanoturno211corumbatecnologia em analise e desenvolvimento de sistemasnoturno33310tecnologia em processos metalurgicosnoturno3223coximtecnologia em alimentosnoturno55510engenharia de pescanoturno55510licenciatura em quimicanoturno55510tecnologia em sistemas para internetnoturno1010douradostecnologia em jogos digitaisnoturno10101010jardimlicenciatura em computacaonoturno55510naviraitecnologia em analise e desenvolvimento de sistemasnoturno5510bacharelado em agronomiaintegral2132nova andradinabacharelado em agronomiaintegral222tecnologia em analise e desenvolvimento de sistemasnoturno255tecnologia em producao de graosmatutino2222ponta poratecnologia em agronegocionoturno551010bacharelado em agronomiaintegral551010tres lagoastecnologia em analise e desenvolvimento de sistemasnoturno5255tecnologia em automacao industrialnoturno2235engenharia de controle e automacaointegral4337engenharia de computacaointegral5235reportar errograduacaoabertas 344 vagas para portadores de diploma e transferenciasinscricoes deverao ser feitas presencialmente entre os dias 3 e 7 de fevereiro.\n",
            "12.095092024539882\n",
            "o documento esta disponivel na central de selecao.a oferta acontece nos campi aquidauana campo grande coxim dourados jardim navirai nova andradina ponta pora e tres lagoas com ingresso no segundo semestre letivo de 2020. sao 14 opcoes de cursos de bacharelado em agronomia arquitetura e urbanismo engenharia da computacao engenharia de controle e automacao e engenharia de pesca licenciatura em computacao e quimica e tecnologia em agronegocio analise e desenvolvimento de sistemas automacao industrial jogos digitais producao de graos rede de computadores e sistemas para internet.\n",
            "12.006134969325153\n",
            "a lista de espera devera ser divulgada no dia 9 de marco com a segunda chamada prevista para o dia 15.as aulas terao inicio no dia 25 de julho.quadro de cursos e vagas campuscursoturnovagasaquidauanaengenharia civil bachareladointegral40redes de computadores tecnologianoturno40sistemas para internet tecnologianoturno40campo grandeengenharia eletrica bachareladonoturno40engenharia mecanica bachareladonoturno40sistemas para internet tecnologiamatutino40noturno40corumbaanalise e desenvolvimento de sistemas tecnologianoturno40matutino40processos metalurgicos tecnologianoturno40coximalimentos tecnologianoturno40engenharia de pesca bachareladonoturno40quimica licenciaturanoturno40sistemas para internet tecnologianoturno40douradosjogos digitais tecnologianoturno40jardimarquitetura e urbanismo bachareladointegral40computacao licenciaturanoturno40naviraiagronomia bachareladointegral40analise e desenvolvimento de sistemas tecnologianoturno40nova andradinaagronomia bachareladointegral40analise e desenvolvimento de sistemas tecnologianoturno40producao de graos tecnologiamatutino40ponta poraagronomia bachareladointegral40gestao do agronegocio tecnologianoturno40tres lagoasanalise e desenvolvimento de sistemas tecnologianoturno40engenharia de computacao bachareladointegral40engenharia de controle e automacao bachareladointegral40 reportar erroensino superiorabertas 532 vagas na graduacao em dez municipiosinscricoes vao de 9 a 20 de maio.\n",
            "11.984662576687114\n",
            "o curso de sistemas para internet apresentou nota de corte de 73037 e arquitetura e urbanismo teve nota de corte de 72903.quadro de notas de corte e relacao concorrenciavaga no sisu 20191cursomunicipioturnovagasnota de corterelacao candidatovagasistemas para internetcampo grandenoturno4073037875arquitetura e urbanismojardimintegral4072903800agronomianaviraiintegral4065058645engenharia civilaquidauanaintegral4070868613agronomiaponta poraintegral4063866608automacao industrialtres lagoasnoturno4065247573agronomianova andradinaintegral4064598563jogos digitaisdouradosnoturno4067394530analise e desenvolvimento de sistemastres lagoasnoturno4065408520processos metalurgicoscorumbanoturno4061118493engenharia de controle e automacaotres lagoasintegral4069805445analise e desenvolvimento de sistemascorumbanoturno4067022433analise e desenvolvimento de sistemascorumbamatutino4061409425gestao do agronegocioponta poranoturno4060842423engenharia de computacaotres lagoasintegral4070234408analise e desenvolvimento de sistemasnavirainoturno4064122405alimentoscoximnoturno4053612360sistemas para internetcoximnoturno4056012335engenharia de pescacoximnoturno4056465328redes de computadoresaquidauananoturno4059826313sistemas para internetaquidauananoturno4061332303producao de graosnova andradinamatutino4056238278analise e desenvolvimento de sistemasnova andradinanoturno4060350275quimicacoximnoturno4052580265computacaojardimnoturno4057325255cronograma  candidatos nao selecionados na primeira chamada poderao participar da lista de espera.\n",
            "11.935582822085879\n",
            "o inicio das aulas esta previsto para 25 de julho.duvidas sobre a selecao podem ser encaminhadas ao email digraifms.edu.br.vagas ofertadas na graduacao do ifmscampuscursoturnovagasaquidauanaengenharia civilintegral14redes de computadoresnoturno29sistemas para internetnoturno23campo grandeengenharia eletricanoturno16engenharia mecanicanoturno02sistemas para internetmatutino08noturno10corumbaanalise e desenvolvimento de sistemasmatutino27noturno11processos metalurgicosnoturno14coximalimentosnoturno38engenharia de pescanoturno37licenciatura em quimicanoturno38sistemas para internetnoturno33douradosjogos digitaisnoturno25jardimarquitetura e urbanismointegral27licenciatura em computacaonoturno33naviraiagronomiaintegral05analise e desenvolvimento de sistemasnoturno12nova andradinaagronomiaintegral01analise e desenvolvimento de sistemasnoturno21producao de graosmatutino31ponta poraagronomiaintegral15gestao do agronegocionoturno26tres lagoas analise e desenvolvimento de sistemasnoturno14engenharia da computacaointegral10engenharia de controle e automacaointegral12 materia alterada as 9h39 de 20052022 para atualizacao das informacoes sobre as vagas ofertadas em navirai de acordo com o edital de abertura do processo seletivo retificado em 17052022.reportar errograduacaoabertas inscricoes para 532 vagas no ensino superiorselecao se destina aos dez campi do ifms.\n",
            "11.736196319018406\n",
            "poderao concorrer os candidatos que prestaram a edicao 2019 do exame nacional do ensino medio enem e que obtiveram nota acima de zero na redacao e em todas as areas do conhecimento.a previsao e que o edital do ifms documento com a oferta de vagas e o cronograma do processo seletivo seja divulgado ate a primeira quinzena de dezembro na central de selecao.sisu 2020  depois que o ifms abrir as vagas para o primeiro semestre de 2020 as inscricoes deverao ser feitas na pagina do sisu.\n",
            "11.717791411042949\n",
            "o resultado preliminar do processo seletivo esta previsto para 17 de setembro.vagas ofertadas pelo ifmscampicursoturnoportador de diplomatransferencia internatransferencia externareingressoaquidauanatecnologia em sistema para internetnoturno05050505tecnologia em redes de computadoresnoturno03030303campo grandetecnologia em sistemas para internetmatutino10101010coximengenharia de pescanoturno10101010licenciatura em quimicanoturno10101010tecnologia em sistemas para internetnoturno10101010douradostecnologia em jogos digitaisnoturno10101010jardimlicenciatura em computacaonoturno10101010bacharelado em arquitetura e urbanismointegral10101010naviraitecnologia em analise e desenvolvimento de sistemasnoturno10051005bacharelado em agronomiaintegral010101nova andradinabacharelado em agronomiaintegral050505tecnologia em analise e desenvolvimento de sistemasnoturno020201tecnologia em producao de graosmatutino050502ponta poratecnologia em agronegocionoturno05100505bacharelado em agronomiaintegral05100505tres lagoastecnologia em analise e desenvolvimento de sistemasnoturno05010505tecnologia em automacao industrialnoturno02020305engenharia de controle e automacaointegral03030302engenharia de computacaointegral030505reportar erroensino superiorabertas inscricoes para 479 vagas em cursos de graduacaovagas sao para portadores de diploma reingresso e transferencias interna e externa.\n",
            "11.48466257668712\n",
            "por isso e obrigatorio que a inscricao seja realizada com o cpf do proprio candidato para que a consulta da nota seja possivel.as vagas estao distribuidas nos municipios de aquidauana 120 vagas campo grande 160 corumba 80  coxim 160 dourados 40  jardim 40 navirai 40 e tres lagoas 120. confira todas as regras no edital de abertura do processo seletivoacao afirmativa cotas  metade das vagas ofertadas e destinada a candidatos que cursaram todas as series do ensino medio em escola publica.\n",
            "11.441717791411048\n",
            "ingresso sera feito por meio do sistema de selecao unificada sisu.tweettweetcompartilhar no whatsapp      por paulo gomespublicado    23112018 08h07ultima modificacao    04122018 09h27o instituto federal de mato grosso do sul ifms vai abrir mil vagas na graduacao para ingresso no primeiro semestre de 2019. serao ofertadas 17 opcoes de cursos entre licenciaturas bacharelados e superiores de tecnologia nos municipios de aquidauana campo grande corumba coxim dourados jardim navirai nova andradina ponta pora e tres lagoas.\n",
            "11.4079754601227\n",
            "sera verificado se as unidades curriculares cursadas na instituicao de origem ou curso atendem ao conteudo programatico do curso que o candidato deseja ingressar no ifms.alem da similaridade de conteudos e de carga horaria entre as unidades curriculares analisadas nao serao considerados o estagio atividades complementares ou o trabalho de conclusao de curso tcc durante a analise.\n",
            "11.374233128834357\n",
            "se necessaria uma reconvocacao dos candidatos para preenchimento de vagas remanescentes sera divulgada no dia 4 de marco.mais informacoes sobre cursos superiores do ifms estao disponiveis na pagina dos cursos de graduacao.cursos com vagas remanescentesmunicipiocursovagasaquidauanaengenharia civil11redes de computadores14sistemas para internet12corumbaanalise e desenvolvimento de sistemas01coximalimentos29engenharia de pesca33licenciatura em quimica24sistemas para internet29douradosjogos digitais27jardimarquitetura e urbanismo31licenciatura em computacao20naviraianalise e desenvolvimento de sistemas07nova andradinaproducao de graos17ponta poraagronomia01gestao do agronegocio12tres lagoasanalise e desenvolvimento de sistemas09automacao industrial04engenharia de computacao05engenharia de controle e automacao13reportar erroempreendedorismodivulgada lista de propostas de empresas juniores inscritasprimeiro edital desta natureza no ifms despertou o interesse de 48 estudantes de graduacao em sete campi.\n",
            "11.355828220858893\n",
            "vagas ofertadas na graduacao do ifmscampuscursoturnovagasaquidauanaengenharia civilintegral14redes de computadoresnoturno29sistemas para internetnoturno23campo grandeengenharia eletricanoturno16engenharia mecanicanoturno02sistemas para internetmatutino08noturno10corumbaanalise e desenvolvimento de sistemasmatutino27noturno11processos metalurgicosnoturno14coximalimentosnoturno38engenharia de pescanoturno37licenciatura em quimicanoturno38sistemas para internetnoturno33douradosjogos digitaisnoturno25jardimarquitetura e urbanismointegral27licenciatura em computacaonoturno33naviraiagronomiaintegral05analise e desenvolvimento de sistemasnoturno12nova andradinaagronomiaintegral01analise e desenvolvimento de sistemasnoturno21producao de graosmatutino31ponta poraagronomiaintegral15gestao do agronegocionoturno26tres lagoas analise e desenvolvimento de sistemasnoturno14engenharia da computacaointegral10engenharia de controle e automacaointegral12 materia alterada as 9h38 de 20052022 para atualizacao das informacoes sobre as vagas ofertadas em navirai de acordo com o edital de abertura do processo seletivo retificado em 17052022.reportar erroensino superiorinscricao para cursos de graduacao termina na 6a feirasao ofertadas 532 vagas em dez municipios.\n",
            "11.273006134969329\n",
            "vagas ofertadas na graduacao do ifmscampuscursoturnovagasaquidauanaengenharia civilintegral14redes de computadoresnoturno29sistemas para internetnoturno23campo grandeengenharia eletricanoturno16engenharia mecanicanoturno02sistemas para internetmatutino08noturno10corumbaanalise e desenvolvimento de sistemasmatutino27noturno11processos metalurgicosnoturno14coximalimentosnoturno38engenharia de pescanoturno37licenciatura em quimicanoturno38sistemas para internetnoturno33douradosjogos digitaisnoturno25jardimarquitetura e urbanismointegral27licenciatura em computacaonoturno33naviraiagronomiaintegral05analise e desenvolvimento de sistemasnoturno12nova andradinaagronomiaintegral01analise e desenvolvimento de sistemasnoturno21producao de graosmatutino31ponta poraagronomiaintegral15gestao do agronegocionoturno26tres lagoas analise e desenvolvimento de sistemasnoturno14engenharia da computacaointegral10engenharia de controle e automacaointegral12 materia alterada as 9h35 de 20052022 para atualizacao das informacoes sobre as vagas ofertadas em navirai de acordo com o edital de abertura do processo seletivo retificado em 17052022.reportar errovagas residuaisabertas inscricoes para 318 vagas em cursos superioresvagas sao para nove campi.\n",
            "11.257668711656441\n",
            "a previsao e que os resultados preliminar e final sejam divulgados nos dias 16 e 23 de dezembro respectivamente.quadro de vagascampuscursoturnoportador de diplomatransferencia internatransferencia externareingressototalaquidauanatecnologia em sistemas para internetnoturno555547engenharia civilintegral133tecnologia em redes de computadoresnoturno5555campo grandetecnologia em sistemas para internetmatutino111118tecnologia em sistemas para internetnoturno1111engenharia eletricanoturno1111engenharia mecanicanoturno2220corumbatecnologia em analise e desenvolvimento de sistemasnoturno511538tecnologia em analise e desenvolvimento de sistemasmatutino5115tecnologia em processos metalurgicosnoturno5225coximtecnologia em alimentosnoturno10101010160engenharia de pescanoturno10101010licenciatura em quimicanoturno10101010tecnologia em sistemas para internetnoturno10101010douradostecnologia em jogos digitaisnoturno1055525jardimlicenciatura em computacaonoturno1055348bacharelado em arquitetura e urbanismointegral10555naviraitecnologia em analise e desenvolvimento de sistemasnoturno222212bacharelado em agronomiaintegral1111nova andradinabacharelado em agronomiaintegral505540tecnologia em analise e desenvolvimento de sistemasnoturno00010tecnologia em producao de graosmatutino30210ponta poratecnologia em agronegocionoturno5510550bacharelado em agronomiaintegral55105tres lagoastecnologia em analise e desenvolvimento de sistemasnoturno112144tecnologia em automacao industrialnoturno3225engenharia de controle e automacaointegral3155engenharia de computacaointegral3235reportar erropesquisaaplicativo auxilia familiares no tratamento de autismodesenvolvido no campus tres lagoas projeto foi premiado em eventos locais estaduais e nacionais.\n",
            "11.134969325153373\n",
            "a previsao e que os resultados preliminar e final sejam divulgados nos dias 16 e 23 de dezembro respectivamente.quadro de vagascampuscursoturnoportador de diplomatransferencia internatransferencia externareingressototalaquidauanatecnologia em sistemas para internetnoturno555547engenharia civilintegral133tecnologia em redes de computadoresnoturno5555campo grandetecnologia em sistemas para internetmatutino111118tecnologia em sistemas para internetnoturno1111engenharia eletricanoturno1111engenharia mecanicanoturno2220corumbatecnologia em analise e desenvolvimento de sistemasnoturno511538tecnologia em analise e desenvolvimento de sistemasmatutino5115tecnologia em processos metalurgicosnoturno5225coximtecnologia em alimentosnoturno10101010160engenharia de pescanoturno10101010licenciatura em quimicanoturno10101010tecnologia em sistemas para internetnoturno10101010douradostecnologia em jogos digitaisnoturno1055525jardimlicenciatura em computacaonoturno1055348bacharelado em arquitetura e urbanismointegral10555naviraitecnologia em analise e desenvolvimento de sistemasnoturno222212bacharelado em agronomiaintegral1111nova andradinabacharelado em agronomiaintegral505540tecnologia em analise e desenvolvimento de sistemasnoturno00010tecnologia em producao de graosmatutino30210ponta poratecnologia em agronegocionoturno5510550bacharelado em agronomiaintegral55105tres lagoastecnologia em analise e desenvolvimento de sistemasnoturno112144tecnologia em automacao industrialnoturno3225engenharia de controle e automacaointegral3155engenharia de computacaointegral3235reportar erropesquisaaplicativo auxilia familiares no tratamento de autismodesenvolvido no campus tres lagoas projeto foi premiado em eventos locais estaduais e nacionais.\n",
            "11.134969325153373\n",
            "alem disso as estruturas das bibliotecas tambem contribuiram para a nota deste e de outros cursos do ifms.conceito maximo   as demais graduacoes do ifms que tambem ja obtiveram conceito maximo do mec foram o bacharelado em arquitetura e urbanismo e a licenciatura em computacao ofertados no campus jardim a engenharia de controle e automacao oferecida no campus tres lagoas e o curso de tecnologia em jogos digitais no campus dourados.\n",
            "11.122699386503069\n",
            "tambem foi aberto cadastro de reserva para os cursos superiorestweettweetcompartilhar no whatsapp      por cleyton lutzpublicado    19072021 15h32ultima modificacao    20072021 08h39itens relacionadosabertas 441 vagas para cursos superiores nos dez campio instituto federal de mato grosso do sul ifms esta com inscricoes abertas para 265 vagas remanescentes na graduacao oferecidas nos campi aquidauana campo grande corumba coxim dourados jardim navirai nova andradina ponta pora e tres lagoas.\n",
            "11.095092024539877\n",
            "vagas residuais ofertadas na graduacao do ifmscampuscursoturnovagasaquidauanaengenharia civil bachareladointegral03redes de computadores tecnologianoturno24sistemas para internet tecnologianoturno17corumbaanalise e desenvolvimento de sistemas tecnologiamatutino15processos metalurgicos tecnologianoturno07coximalimentos tecnologianoturno37engenharia de pesca bachareladonoturno34quimica licenciaturanoturno33sistemas para internet tecnologianoturno28douradosjogos digitais tecnologianoturno10jardimarquitetura e urbanismo bachareladointegral20computacao licenciaturanoturno27naviraianalise e desenvolvimento de sistemas tecnologianoturno04nova andradinaanalise e desenvolvimento de sistemas tecnologianoturno10producao de graos tecnologiamatutino28ponta poragestao do agronegocio tecnologianoturno12tres lagoasengenharia da computacao bachareladointegral01engenharia de controle e automacao bachareladointegral08reportar errograduacaoabertas 462 vagas para portador de diploma reingresso e transferenciainscricoes podem ser feitas ate sextafeira 5. cursos sao ofertados em 10 municipios com ingresso no segundo semestre.\n",
            "11.079754601226995\n",
            "interessados devem se inscrever pela internet.tweettweetcompartilhar no whatsapp      por laura silveirapublicado    19022020 09h08ultima modificacao    19022020 09h08o instituto federal de mato grosso do sul ifms esta com inscricoes abertas ate quintafeira 20 no processo seletivo que oferta vagas remanescentes do sistema de selecao unificada sisu para ingresso neste semestre.sao ofertados cursos de licenciatura bacharelado e superiores de tecnologia nos municipios de aquidauana corumba coxim dourados jardim navirai nova andradina ponta pora e tres lagoas.\n",
            "11.079754601226995\n",
            "podem concorrer as vagas aqueles que prestaram a edicao 2018 do exame nacional do ensino medio enem e que obtiveram nota acima de zero na redacao e em todas as areas do conhecimento.o edital no 0842018 com todas as regras do processo seletivo esta disponivel na central de selecao do ifms.cronograma  as inscricoes deverao ser feitas na pagina do sisu entre os dias 22 e 25 de janeiro.a divulgacao da primeira chamada esta prevista para o dia 28 na pagina do sisu e as matriculas deverao ser feitas entre 30 de janeiro e 4 de fevereiro.candidatos nao selecionados poderao participar da lista de espera.\n",
            "10.984662576687116\n",
            "a ej podera atuar com projetos e assessoria bem como na execucao e comercializacao de produtos e servicos.todas as regras que disciplinam a atuacao de uma empresa junior vinculada ao ifms constam da instrucao normativa no 0012020 publicada na edicao n 0152020 do boletim de servico.equipes selecionadascampusnome da equipeequipe fundadoraorientadorcampo grandebedigital  academicos de sistemas para internet aron alvarenga rocha  andre luis santana benites  andre luis ocampos  veronica mora gomes  joyce vicentini rodrigues  alyce dos santos marculino  jefferson lima rodrigues jiyan yari  cassima ortegosacoximaguape  academicos de engenharia de pesca beatriz pinheiro medeiros  leano de oliveira  gabriel da silva barros  jefferson wellington nery  victor corgozinho ribeiroleonardo viera juniorjardiminovarq  academicos de arquitetura e urbanismo luiz eduardo almeida  fabrina paredes gomes  henrique gloria araujo  arthur do nascimento  yuri ramalho de almeida  aline marie de brito gomes  nubia bernardo de souza  bruno capelli saraiva  asia ahmad m. a. j. saleh  ricardo silva machadorobson de araujo filhonaviraiagromec  academicos de agronomia amanda zanella blauth  caroline dias da silva  caroline bersi dos santos  eduarda dos santos vargas  iara camargo sales  juanita silva pereira  leonardo de souza oliveira  lidiane dos santos borges  thais soares gomesadilson amorim brandaoponta poraivy pora  academicos de  agronomia e tecnologia do agronegocio juliana barbosa landfeldt  bianca duque guirardi  victor luiz peres de souza  wesley gavilan garcia  fernando silva ferreira  elmo pontes melo  valeria sun hwa galvaotres lagoascontroltech  academicos de engenharia de controle e automacao e engenharia da computacao paulo eduardo goncalves  fabio luis da silva cabanha  joao vitor de araujo  joel henrique lessi zanetta  lucas de azevedo onaga  natalia cruz silvamurilo miceno frigoreportar erroensinoifms ofertara 960 vagas em cursos de graduacaoserao oferecidas 17 opcoes de cursos em dez municipios para ingresso no 1o semestre do ano que vem.\n",
            "10.880368098159524\n",
            "o ingresso previsto dos estudantes selecionados ocorre ja neste primeiro semestre letivo.as inscricoes sao gratuitas e devem ser feitas ate o proximo domingo 24 pela pagina do candidato.ao se inscrever o candidato deve optar concorrer a uma das vagas disponiveis cabendo e ele certificarse de que cumpre os requisitos estabelecidos para a vaga que deseja concorrer conforme a politica de cotas.o candidato deve ainda informar um endereco de email valido para o envio do comprovante de inscricao e  eventuais informacoes relativas ao processo seletivo.as regras estao disponiveis no edital no 842018 publicado na central de selecao do ifms.requisitos  podem se inscrever neste processo seletivo candidatos que tenham participado das edicoes 2016 2017 ou 2018 do exame nacional do ensino medio enem.\n",
            "10.684049079754601\n",
            "a divulgacao dos candidatos aptos a matricula e lista de espera apos envio da documentacao exigida e realizacao das bancas de hetoroidentificacao esta prevista para 20 de agosto.vagas remanescentes na graduacao do ifmscampuscursoturnovagasaquidauanaengenharia civilintegral06rede de computadoresnoturno20sistema para internetnoturno21campo grandeengenharia eletricanoturnocadastro de reservaengenharia mecanicanoturno02sistemas para internetmatutino01sistemas para internetnoturnocadastro de reservacorumbaanalise e desenvolvimento de sistemasmatutino11analise e desenvolvimento de sistemasnoturnocadastro de reservaprocessos metalurgicosnoturno01coximalimentosnoturno32engenharia de pescanoturno21quimicanoturno29sistemas para internetnoturno22douradosjogos digitaisnoturno13jardimarquitetura e urbanismointegral15computacaonoturno21naviraiagronomiaintegralcadastro de reservaanalise e desenvolvimento de sistemasnoturno04nova andradinaagronomiaintegralcadastro de reservaanalise e desenvolvimento de sistemasnoturno01producao de graos matutino29ponta poraagronomia integral02gestao do agronegocionoturno08tres lagoasanalise e desenvolvimento de sistemasnoturno04automacao industrialnoturnocadastro de reservaengenharia da computacaointegral02engenharia de controle e automacaointegralcadastro de reservareportar errograduacaoinscricao para portador de diploma e transferencia vai ate tercafeirasao ofertadas 441 vagas em 17 opcoes de cursos nos dez municipios onde o ifms tem campus.\n",
            "10.536809815950921\n",
            "os pesos por area de conhecimento para o calculo da nota de cada um dos cursos ofertados pelo ifms estao dispostos no edital.em caso de duvidas o contato deve ser feito pelo endereco eletronico selecao.graduacaoifms.edu.br.oferta de vagas  2o semestrecampuscursoturnovagasaquidauanaengenharia civil  integral 14redes de computadores  noturno30sistema para internet  noturno26campo grandesistemas para internet  matutino06tres lagoasanalise e desenvolvimento de sistemas  noturno03automacao industrial  noturno19engenharia de controle e automacao  integral07engenharia de computacao  integral05 vagas prioritariamente para cotistas autodeclarados pretos pardos indigenas ou quilombolas candidatos com deficiencia e que tenham cursado integralmente o ensino medio em escolas publicas.\n",
            "10.527607361963199\n",
            "ha vagas ofertadas exclusivamente a candidatos que cursaram o todo o ensino medio na rede publica de ensino.a selecao e aberta aqueles que participaram do exame nacional do ensino medio enem de 2013 em diante tendo obtido nota acima de zero na redacao e nas provas das demais areas do conhecimento.as regras do processo seletivo estao disponiveis no edital publicado na central de selecao do ifms.inscricoes  podem ser feitas ate 17 de julho na pagina do candidato.\n",
            "10.475460122699387\n",
            "em ao menos uma das edicoes o candidato deve ter obtido nota acima de zero em todas as provas redacao e areas do conhecimento.a inscricao deve ser feita com cpf do proprio candidato para que a consulta do arquivo de notas do enem seja possivel.selecao  sera feita com base na nota total mais alta alcancada pelo candidato nas edicoes 2017 2018 e 2019 do enem.a nota total e o resultado da soma das notas das provas nas areas de conhecimento e de redacao juntamente com o percentual do bonus da cota local.\n",
            "10.39570552147239\n",
            "por isso e obrigatorio que a inscricao seja realizada com o cpf do proprio candidato para que a consulta da nota seja possivel.as vagas estao distribuidas nos municipios de aquidauana 120 vagas campo grande 160 corumba 80  coxim 160 dourados 40  jardim 40 navirai 40 e tres lagoas 120. acao afirmativa  metade das vagas ofertadas e destinada a candidatos que cursaram todas as series do ensino medio em escola publica.\n",
            "10.184049079754605\n",
            "as inscricoes sao gratuitas e devem ser feitas na pagina do candidato da central de selecao onde tambem esta disponivel o edital de abertura do sisu 2020 com as regras da selecao para vagas remanescentes.ao se inscrever o candidato deve optar por concorrer a uma das vagas disponiveis cabendo e ele certificarse de que cumpre os requisitos estabelecidos para a vaga que deseja concorrer conforme a politica de cotas.requisitos  podem se inscrever neste processo seletivo candidatos que tenham participado das edicoes 2017 2018 ou 2019 do exame nacional do ensino medio enem.\n",
            "10.12269938650307\n",
            "sao ofertadas 17 opcoes de cursos superiores entre bacharelados licenciaturas e tecnologias alimentos agronomia analise e desenvolvimento de sistemas arquitetura e urbanismo automacao industrial computacao engenharia civil engenharia da computacao engenharia de controle e automacao engenharia da computacao engenharia mecanica engenharia de pesca jogos digitais processos metalurgicos quimica redes de computadores e sistemas para internet.\n",
            "10.021472392638035\n",
            "o resultado preliminar do processo seletivo esta previsto para 17 de setembro.vagas ofertadas pelo ifmscampicursoturnoportador de diplomatransferencia internatransferencia externareingressoaquidauanatecnologia em sistema para internetnoturno05050505tecnologia em redes de computadoresnoturno03030303campo grandetecnologia em sistemas para internetmatutino10101010coximengenharia de pescanoturno10101010licenciatura em quimicanoturno10101010tecnologia em sistemas para internetnoturno10101010douradostecnologia em jogos digitaisnoturno10101010jardimlicenciatura em computacaonoturno10101010bacharelado em arquitetura e urbanismointegral10101010naviraitecnologia em analise e desenvolvimento de sistemasnoturno10051005bacharelado em agronomiaintegral010101nova andradinabacharelado em agronomiaintegral050505tecnologia em analise e desenvolvimento de sistemasnoturno020201tecnologia em producao de graosmatutino050502ponta poratecnologia em agronegocionoturno05100505bacharelado em agronomiaintegral05100505tres lagoastecnologia em analise e desenvolvimento de sistemasnoturno05010505tecnologia em automacao industrialnoturno02020305engenharia de controle e automacaointegral03030302engenharia de computacaointegral030505reportar erroensino superiordivulgado resultado para ingresso na graduacaovagas sao para portadores de diploma reingresso e transferencias interna e externa.\n",
            "9.757668711656445\n",
            "confira a lista completa dos 100 novos campiregiaounidade da federacaonovas unidadesmunicipiosnordestetotal 38ba8santo estevao ribeira do pombal itabuna macaubas pocoes salvador ruy barbosa e remansope6goiana santa cruz do capibaribe recife araripina aguas belas e bezerrosce6fortaleza 2 cascavel mauriti campos sales e lavras de mangabeirama4chapadinha colinas balsas e amarante do maranhaopb3mamanguape sape e queimadasrn3touros sao miguel e umarizalpi3barras esperantina e altosal3girau do ponciano mata grande e maceiose2japaratuba e aracajusultotal 13pr5maringa araucaria cianorte cambe e toledors5cacapava do sul sao luiz gonzaga sao leopoldo porto alegre e gramadosc3tijucas campos novos e mafrasudestetotal 27sp12sao paulo jardim angela e cidade tiradentes osasco santos diadema ribeirao preto sumare franco da rocha cotia carapicuiba sao vicente e mauamg8joao monlevade itajuba sete lagoas caratinga sao joao nepomuceno belo horizonte minas novas e bom despachorj6rio de janeiro cidade de deus e complexo do alemao mage belford roxo teresopolis e sao goncaloes1muniz freirenortetotal 12pa5barcarena redencao tailandia alenquer e viseuam2santo antonio do ica e manicorero1buritisto1tocantinopolisac1feijoap1tartarugalzinhorr1rorainopoliscentrooestetotal 10go3cavalcante porangatu e quirinopolismt3agua boa colniza e canaranadf2sol nascente e sobradinhoms2paranaiba e amambaireportar errograduacaosisu abre inscricoes com 320 vagas para o ifmsinteressados devem se inscrever ate o proximo dia 25. oferta e nos municipios de aquidauana campo grande e tres lagoastweettweetcompartilhar no whatsapp      por laura silveirapublicado    22012024 09h01ultima modificacao    22012024 09h48o sistema de selecao unificada sisu abre nesta segundafeira 22 o prazo de inscricoes.\n",
            "9.748466257668712\n",
            "vagas ofertadas pelo ifms na graduacaocampuscursoturnoportador de diplomatransferencia internatransferencia externareingressoaquidauanaengenharia civilintegral02redes de computadoresnoturno050505sistemas para internetnoturno03030303campo grandeengenharia eletricanoturno010101engenharia mecanicanoturno010101sistemas para internetmatutino03sistemas para internetnoturno03corumbaanalise e desenvolvimento de sistemasmatutino05010110analise e desenvolvimento de sistemasnoturno05010110coximalimentosnoturno03030305engenharia de pescanoturno101010quimicanoturno05050505sistemas para internetnoturno10101010douradosjogos digitaisnoturno02020202jardimarquitetura e urbanismointegral10030205computacaonoturno1512naviraiagronomiaintegral01010101analise e desenvolvimento de sistemasnoturno04040410nova andradinaagronomiaintegral050505analise e desenvolvimento de sistemasnoturno050505producao de graosmatutino101010ponta poraagronegocionoturno05051005agronomia integral05051005tres lagoasanalise e desenvolvimento de sistemasnoturno02021005automacao industrialnoturno04030410engenharia da computacaointegral04021010engenharia de controle e automacaointegral04021010reportar erroensino superiorabertas 482 vagas em cursos de graduacaovagas sao destinadas a portadores de diploma transferencias interna e externa e reingresso.\n",
            "9.598159509202453\n",
            "em termos de empregabilidade e muito importante ter saido de um curso nota 5 na avaliacao do mec avalia o coordenador do curso jonathas medina.para os estudantes ainda segundo o coordenador a avaliacao sera um importante diferencial na carreira.\n",
            "9.269938650306749\n",
            "ainda ha cotas aos candidatos autodeclarados pretos pardos e indigenas e a pessoas com deficiencia.o ifms tambem possui a opcao do bonus local voltado aos candidatos residentes nas areas de abrangencia dos campi que tem direito de acrescimo de 20 na nota do enem.cronograma  a divulgacao da primeira chamada esta prevista para o dia 22 de fevereiro sendo que os convocados deverao fazer a matricula entre os dias 24 de fevereiro e 8 de marco.no dia 23 de fevereiro sera publicada a convocacao para a banca de heteroidentificacao que sera realizada nos dias 24 e 25 com objetivo de confirmar a autodeclaracao dos candidatos pretos e pardos.\n",
            "9.082822085889573\n",
            "ainda ha cotas aos candidatos autodeclarados pretos pardos e indigenas e a pessoas com deficiencia.o ifms tambem possui a opcao do bonus local voltado aos candidatos residentes nas areas de abrangencia dos campi que tem direito a acrescimo de 20 na nota do enem.cronograma  a divulgacao da primeira chamada esta prevista para o dia 22 de fevereiro sendo que os convocados deverao fazer a matricula entre os dias 24 de fevereiro e 8 de marco.no dia 23 de fevereiro sera publicada a convocacao para a banca de heteroidentificacao que sera realizada nos dias 24 e 25 com objetivo de confirmar a autodeclaracao dos candidatos pretos e pardos.\n",
            "9.082822085889573\n",
            "ainda ha cotas aos candidatos autodeclarados pretos pardos e indigenas e a pessoas com deficiencia.o ifms tambem possui a opcao do bonus local voltado aos candidatos residentes nas areas de abrangencia dos campi que tem direito de acrescimo de 20 na nota do enem.cronograma  a divulgacao da primeira chamada esta prevista para o dia 22 de fevereiro sendo que os convocados deverao fazer a matricula entre os dias 24 de fevereiro e 8 de marco.no dia 23 de fevereiro sera publicada a convocacao para a banca de heteroidentificacao que sera realizada nos dias 24 e 25 com objetivo de confirmar a autodeclaracao dos candidatos pretos e pardos.\n",
            "9.082822085889573\n",
            "selecao  sera feita com base na nota total mais alta alcancada pelo candidato nas edicoes do enem realizadas a partir de 2013. os pesos por area de conhecimento para o calculo da nota em cada um dos cursos ofertados estao disponiveis no item 5 do edital de abertura do processo seletivo publicado na central de selecao.\n",
            "9.05521472392638\n",
            "em termos de empregabilidade e muito importante ter saido de um curso nota 5 na avaliacao do mec avalia.avaliacao  os criterios de avaliacao abrangem as tres dimensoes previstas no instrumento de avaliacao de cursos de graduacao do mec organizacao didaticopedagogica corpo docente e tutorial e infraestrutura.\n",
            "9.049079754601225\n",
            "foi o caso da engenharia de computacao ofertada em tres lagoas e da agronomia oferecida em navirai que obtiveram conceito 4.mais informacoes sobre os cursos oferecidos pelo ifms podem ser obtidas na pagina graduacao.reportar errotransparenciarelatorio traz os resultados institucionais de 2022parte da prestacao de contas anual relatorio de gestao e um dos principais instrumentos de comunicacao entre o ifms e a sociedadetweettweetcompartilhar no whatsapp      por osvaldo satopublicado    24042023 11h39ultima modificacao    24042023 11h39esta disponivel para consulta o relatorio de gestao rg do ano de 2022 do instituto federal de mato grosso do sul ifms.\n",
            "9.0\n",
            "acao afirmativa cotas  metade das vagas se destina aqueles que cursaram todas as series do ensino medio em escola publica devendo o candidato manifestar o interesse em concorrer como beneficiario de acao afirmativa na inscricao.das vagas reservadas 50 sao para estudantes com renda familiar bruta igual ou inferior a um salario minimo e meio per capita sendo que sera garantido aos candidatos autodeclarados pretos pardos e indigenas e as pessoas com deficiencia a mesma proporcao de vagas relativa a soma desses publicos na populacao de mato grosso do sul.\n",
            "8.93558282208589\n",
            "acao afirmativa cotas  metade das vagas se destina aqueles que cursaram todas as series do ensino medio em escola publica devendo o candidato manifestar o interesse em concorrer como beneficiario de acao afirmativa na inscricao.das vagas reservadas 50 sao para estudantes com renda familiar bruta igual ou inferior a um salario minimo e meio per capita sendo que sera garantido aos candidatos autodeclarados pretos pardos e indigenas e as pessoas com deficiencia a mesma proporcao de vagas relativa a soma desses publicos na populacao de mato grosso do sul.\n",
            "8.93558282208589\n",
            "tambem foram repassadas orientacoes referentes as reunioes a serem realizadas com docentes discentes e visita a infraestrutura para assim obter a nota mais fidedigna possivel com relacao a realidade do curso.o primeiro conceito 5 de um curso de graduacao do ifms e tambem as notas 4 obtidas recentemente sao resultado dos esforcos das equipes dos campi e da aproximacao da proreitoria de ensino com os coordenadores bibliotecarios e demais servidores que atuam nesses cursos.\n",
            "8.935582822085887\n",
            "o profissional formado pelo ifms pode projetar coordenar analisar fiscalizar assessorar supervisionar e especificar projetos agroindustriais e do agronegocio realizar vistorias pericias avaliacoes laudos e pareceres tecnicos produzir conservar e comercializar alimentos fibras e outros produtos agropecuarios entre outras.mais informacoes sobre os cursos oferecidos pelo ifms podem ser obtidas na pagina graduacao.reportar erroextensaopublicado resultado para eventos empreendedorismo e inovacaoas 11 propostas aprovadas receberao fomento para sua realizacao e bolsas para os estudantes envolvidostweettweetcompartilhar no whatsapp      por osvaldo satopublicado    25082022 08h04ultima modificacao    25082022 08h04itens relacionadosaberta selecao de eventos de extensao empreendedorismo e inovacaoo instituto federal de mato grosso do sul ifms publicou nesta quartafeira 24 o resultado final da selecao de propostas para a realizacao de eventos de extensao atividades de empreendedorismo e inovacao.\n",
            "8.932515337423313\n",
            "ja o ifmaker nos utilizamos para fazer prototipos de jogos de tabuleiro na disciplina de game design antes mesmo de os estudantes comecarem a programar qualquer jogo.gamelab e um dos espacos inovadores utilizados para atividades do curso  foto rodrigo devigoestudantes podem procurar a tecnoif para receber orientacoes quanto a abertura de empresas  foto rodrigo devigoifmaker tambem e um dos espacos de destaque no campus segundo coordenador  foto rodrigo devigocampus dourados esta com incricoes abertas para 40 vagas no curso de jogos digitais  foto ascomifmscurso em evolucao  joao marcos troquez 21 esta no penultimo semestre de jogos digitais.\n",
            "8.733128834355826\n",
            "o edital com todas as regras esta publicado na central de selecao.saiba mais sobre o ensino superior do ifms na pagina dos cursos de graduacao.reportar errosisu 2024ofertadas 320 vagas para cursos de graduacao no 2o semestreselecao tem vagas para os campi aquidauana campo grande e tres lagoas.\n",
            "8.585889570552148\n",
            "alem disso a empresa podera promover a capacitacao do setor atraves de pequenos cursos palestras e dias de campo detalha leonardo.alem da aguape tambem receberao fomento as equipes abaixobedigital de campo grande que propoe auxiliar na transformacao digital de empresasinovarq de jardim que quer contribuir com projetos arquitetonicos e paisagisticos de micro e pequenas empresas e beneficiarios do programa minha casa minha vidaagromec em navirai que pretende auxiliar no mapeamento agricola de produtores da regiao alem do manejo e conservacao do solo e aguaivy pora em ponta pora que prestara consultoria rural em melhoramento da producao agricola e animalcontroltech de tres lagoas que visa atuar em processos comerciais e industriais nos eixos de automacao e programacao.elas foram selecionadas por meio de processo coordenado pelas unidades locais da incubadora mista e social de empresas do ifms tecnoif a partir da avaliacao de mercado para atuacao da empresa a ser constituida e dos impactos diretos e indiretos que o empreendimento podera ter nas comunidades interna e externa.empresa junior  apos estabelecida nao tera mais ligacao com a unidade local da tecnoif passando a ter atuacao independente.\n",
            "8.56748466257669\n",
            "no caso do reingresso as inscricoes serao avaliadas por meio do coeficiente de rendimento.na avaliacao exceto para as inscricoes de reingresso sera verificado se as unidades curriculares cursadas na instituicao de origem atendem ao conteudo programatico das unidades curriculares do curso em que o candidato deseja ingressar no ifms.\n",
            "8.530674846625766\n",
            "no caso do reingresso as inscricoes serao avaliadas por meio do coeficiente de rendimento.na avaliacao exceto para as inscricoes de reingresso sera verificado se as unidades curriculares cursadas na instituicao de origem atendem ao conteudo programatico das unidades curriculares do curso em que o candidato deseja ingressar no ifms.\n",
            "8.530674846625766\n",
            "para reingresso o criterio foi o coeficiente de rendimento cr dos estudantes.o resultado final e as instrucoes para a matricula online e manifestacao de interesse nas vagas serao publicados no dia 23 de setembro na central de selecao do ifms onde estao disponiveis todas as regras e o cronograma do processo seletivo.reportar erroensino superiorabertas mais de 400 vagas para graduacao em dez municipiosvagas sao para portadores de diploma reingresso e transferencias interna e externa.\n",
            "8.506134969325155\n",
            "os interessados deverao apresentar os seguintes documentos no ato da inscricaorequerimento de inscricao em duas viascopia e original do rg e do cpfcopia e original do diploma de ensino superior portador de diplomacomprovante de matricula recente transferencia externahistorico academicoescolar com carga horaria e nota e ementa das disciplinas.ja os interessados nas 88 vagas para transferencia interna deverao apresentar originais e copias do rg cpf historico escolar e uma carta pessoal informando os motivos da transferencia.selecao  sera feita por meio da analise dos documentos apresentados.\n",
            "8.481595092024541\n",
            "os interessados deverao apresentar os seguintes documentos no ato da inscricaorequerimento de inscricao em duas viascopia e original do rg e do cpfcopia e original do diploma de ensino superior portador de diplomacomprovante de matricula recente transferencia externahistorico academicoescolar com carga horaria e nota e ementa das disciplinas.ja os interessados nas 88 vagas para transferencia interna deverao apresentar originais e copias do rg cpf historico escolar e uma carta pessoal informando os motivos da transferencia.selecao  sera feita por meio da analise dos documentos apresentados.\n",
            "8.481595092024541\n",
            "selecao  sera feita com base na nota total mais alta alcancada pelo candidato nas edicoes do enem realizadas a partir de 2011. o peso para cada area de conhecimento utilizado para o calculo da nota total dos cursos ofertados esta disponivel no item 5 do edital de abertura publicado na central de selecao.\n",
            "8.401840490797545\n",
            "as opcoes sao agronegocio agronomia alimentos analise e desenvolvimento de sistemas arquitetura e urbanismo automacao industrial computacao engenharia civil engenharia da computacao engenharia de controle e automacao engenharia eletrica engenharia mecanica engenharia de pesca jogos digitais producao de graos quimica redes de computadores e sistemas para internet.\n",
            "8.349693251533742\n",
            "o investimento sera de r 25 milhoes em cada municipio sendo r 15 milhoes para construcao dos campi e r 10 milhoes destinados a mobiliario e equipamentos.para a reitora do ifms elaine cassiano presente na cerimonia a definicao dos municipios contemplados com os dois novos campi esta alinhada ao estudo feito pelo ifms que buscou orientar a expansao da rede federal no estado de forma a permitir que as novas unidades possam ser sustentaveis a longo prazo.estes campi servirao como catalisadores para o desenvolvimento economico e social beneficiando diretamente cerca de 42 mil habitantes em paranaiba e fortalecendo uma das regioes mais desfavorecidas de mato grosso do sul em amambai afirma a reitora elaine cassiano.embora a decisao final dos locais para os novos campi tenha sido do governo federal e importante destacar que amambai e paranaiba fazem parte do estudo de expansao realizado pelo ifms.\n",
            "8.319018404907979\n",
            "selecao  sera feita com base na nota total mais alta alcancada pelo candidato nas edicoes do enem realizadas a partir de 2011. os pesos por area de conhecimento para o calculo da nota em cada um dos cursos ofertados esta disponivel no item 5 do edital de abertura publicado na central de selecao.\n",
            "8.309815950920244\n",
            "reportar errograduacao tres lagoaspublicado resultado de heteroidentificacao e convocacao para matriculacandidatos aptos a matricula e em lista de espera devem realizar solicitacao online ate o proximo dia 30tweettweetcompartilhar no whatsapp      por vinicius vieirapublicado    16072021 09h15ultima modificacao    16072021 09h15o instituto federal de mato grosso do sul ifms publicou nessa quintafeira 15 o resultado da banca de heteroidentificacao e a relacao de aptos a matricula e em lista de espera dos cursos de graduacao ofertados pelo campus tres lagoas no segundo semestre letivo.\n",
            "8.303680981595093\n",
            "o preenchimento das vagas so podera ser realizado por candidatos classificados e convocados que possuam certificado de conclusao do ensino medio ou equivalente.ha reserva de vagas para candidatos autodeclarados pretos pardos indigenas ou quilombolas candidatos com deficiencia e que tenham cursado integralmente o ensino medio em escolas publicas.o edital de abertura e demais documentos estao disponiveis na central de selecao do ifms.a inscricao e gratuita e deve ser realizada exclusivamente pela pagina do candidato.\n",
            "8.25766871165644\n",
            "esse trabalho conjunto levou ao conceito 5.segundo mainardi alem de conhecerem laboratorios e projetos de pesquisa e extensao desenvolvidos no campus tres lagoas os avaliadores analisaram in loco o corpo docente e o projeto pedagogico do curso que em 2022 foi reestruturado para atendar a demandas regionais do mundo do trabalho e a curricularizacao da extensao.outro destaque da avaliacao de acordo com o coordenador do curso foi a participacao dos estudantes.\n",
            "8.242331288343557\n",
            "as opcoes sao os cursos superiores de bacharelado licenciatura e tecnologia em alimentos agronomia analise e desenvolvimento de sistemas arquitetura e urbanismo computacao engenharia civil engenharia da computacao engenharia mecanica engenharia de pesca gestao do agronegocio jogos digitais processos metalurgicos producao de graos quimica redes de computadores e sistemas para internet.\n",
            "8.214723926380366\n",
            "as opcoes sao os cursos superiores de bacharelado licenciatura e tecnologia em alimentos agronomia analise e desenvolvimento de sistemas arquitetura e urbanismo computacao engenharia civil engenharia da computacao engenharia mecanica engenharia de pesca gestao do agronegocio jogos digitais processos metalurgicos producao de graos quimica redes de computadores e sistemas para internet.\n",
            "8.214723926380366\n",
            "a avaliacao ocorrera a partir da verificacao se as unidades curriculares cursadas na instituicao de origem ou curso atendem ao conteudo programatico do curso que o candidato deseja ingressar no ifms.\n",
            "8.162576687116564\n",
            "inscricoes ate 17 de julhotweettweetcompartilhar no whatsapp      por vinicius vieirapublicado    07072023 15h24ultima modificacao    07072023 15h24o instituto federal de mato grosso do sul ifms esta com inscricoes abertas para 581 vagas remanescentes na graduacao oferecidas nos campi aquidauana campo grande corumba coxim dourados jardim navirai e tres lagoas.\n",
            "8.039877300613497\n",
            "sera verificado se as unidades curriculares cursadas na instituicao de origem ou curso atendem ao conteudo programatico do curso que o candidato deseja ingressar no ifms.alem da similaridade de conteudos tambem sera observada a carga horaria das unidades curriculares.\n",
            "7.993865030674847\n",
            "foi tirada na ocasiao em que professores e estudantes se reuniram para celebrar a conquista de um novo conceito maximo na avaliacao dos cursos de graduacao realizada pelo ministerio da educacao mec por meio do instituto nacional de estudos e pesquisas educacionais anisio teixeira inep.os cursos avaliados foram o bacharelado em arquitetura e urbanismo ofertado no campus jardim e a engenharia de controle e automacao oferecida no campus tres lagoas.\n",
            "7.972392638036812\n",
            "inscricoes deverao ser feitas entre 22 e 25 de janeiro na pagina do sisu.tweettweetcompartilhar no whatsapp      por osvaldo satopublicado    04122018 10h03ultima modificacao    20122018 08h48o instituto federal de mato grosso do sul ifms publicou nesta tercafeira 4 o edital que abre mil vagas nos cursos de graduacao oferecidos gratuitamente pela instituicao em dez municipios.\n",
            "7.9447852760736195\n",
            "tambem em 2022 foram concluidas as obras das areas de convivencia dos campi aquidauana dourados e ponta pora o ifmaker e o barracao do centro de recondicionamento de computadores crc de dourados e os laboratorios de nova andradina.foram investidos ainda mais de r 6 milhoes da area da tecnologia da informacao com a aquisicao de novos computadores ampliacao de laboratorios e seguranca da rede e de dados do ifms.o documento apresenta ainda os esforcos da proreitoria de ensino proen para que em 2023 os campi campo grande dourados nova andradina e tres lagoas iniciassem a oferta da alimentacao escolar.relatorio de gestao 2022  o documento foi elaborado por uma comissao instituida pela portaria ifms no 1.2482022 com participacao de representantes de todos os setores e unidades do ifms.\n",
            "7.8650306748466265\n",
            "as vagas sao ofertadas em aquidauana campo grande corumba coxim dourados jardim navirai nova andradina ponta pora e tres lagoas com ingresso no segundo semestre de 2021. para participar o candidato precisa ter obtido nota acima de zero na redacao e nas provas das demais areas do conhecimento.\n",
            "7.837423312883434\n",
            "para reingresso sera avaliado o coeficiente de rendimento cr.nao serao considerados estagio atividades complementares ou trabalho de conclusao de curso tccdepois de avaliadas as inscricoes serao classificadas em ordem decrescente considerando a seguinte ordem maior pontuacao conforme unidades curriculares aproveitadas ou cr nos casos de reingressomenor numero de unidades curriculares a serem cursadas nos periodos anteriores ao que o candidato foi enquadradomaior media aritmetica de todas as unidades curriculares aproveitadas emaior idade.\n",
            "7.837423312883434\n",
            "os enderecos e horarios de atendimento constam no edital de abertura do processo seletivo.os portadores de diploma e interessados em transferencia externa deverao apresentarrequerimento de inscricao em duas viascopias e originais do rg e cpfcopia e original do diploma de ensino superior portador de diplomacomprovante de matricula recente transferencia externahistorico academicoescolar com cargas horarias das disciplinas e notas e ementa das disciplinas.para transferencia interna e necessario apresentar originais e copias do rg cpf historico escolar e uma carta pessoal informando os motivos da transferencia.selecao  a documentacao sera analisada por comissoes formadas por tres servidores do ifms.\n",
            "7.539877300613497\n",
            "a alteracao do prazo originalmente previsto para encerrar no dia 24 de janeiro foi divulgado pelo ministerio da educacao mec na tarde dessa segundafeira 20.neste ano o site do sisu foi reformulado para facilitar a busca por cursos e vagas e permitir inscricoes por meio do celular ou tablet.acoes afirmativas  metade das vagas ofertadas pelo ifms e reservada aos candidatos que cursaram todo o ensino medio na rede publica.\n",
            "7.4815950920245395\n",
            "sao elas a criacao da coordenacao das bibliotecas que sao estruturas importantes para as avaliacoes do mec e a revisao de todos os projetos pedagogicos de cursos conclui.cursos avaliados  o primeiro curso do ifms a obter conceito maximo na avaliacao do mec foi a licenciatura em computacao do campus jardim.\n",
            "7.291411042944785\n",
            "serao feitas audiencias publicas com as comunidades para a definicao dos cursos que serao oferecidos dentro dos eixos identificados afirma o proreitor de desenvolvimento institucional fernando silveira.isso ira nos permitir alinhar a oferta educacional as demandas especificas de cada regiao garantindo que a expansao do ifms contribua efetivamente para o desenvolvimento local e regional e que os campi tenham sustentabilidade avalia o proreitor de desenvolvimento institucional fernando silveira.segundo fernando uma vez definidos os eixos a gestao pro tempore dos novos campi devera conduzir audiencias publicas nos municipios e respectivas regioes para a definicao dos cursos a serem ofertados.estamos comprometidos em tornar o processo de expansao o mais inclusivo e representativo possivel.\n",
            "7.26993865030675\n",
            "confira a distribuicao das vagas por curso e unidade na tabela ao final deste texto.podem concorrer aqueles que participaram do exame nacional do ensino medio enem desde 2012 e que obtiveram nota acima de zero na prova de redacao.\n",
            "7.205521472392637\n",
            "as aulas terao inicio no dia 24 de julho.vagas residuais  caso as vagas remanescentes nao sejam preenchidas de acordo com o cronograma do edital o ifms ira divulgar a relacao de vagas residuais no dia 3 de agosto.qualquer cidadao que tenha o ensino medio completo podera se inscrever para as vagas residuais entre 7 e 11 de agosto.\n",
            "6.895705521472393\n",
            "entre os documentos que precisam ser enviados digitalizados estaorequerimento de matricula devidamente preenchido e assinado pelo candidato constando o numero do cpf do candidatodocumento oficial de idenficacao com fotodocumento que comprove estar em dia com o servico militar para os brasileiros entre 19 e 45 anos de idadeuma foto 3x4 recentehistorico escolar certificado de conclusao do ensino medio ou curso equivalente certificado de conclusao com base nas notas do enem ou ainda certificado do exame nacional para certificacao de competencias de jovens e adultos encceja.e obrigatorio que a inscricao seja realizada no cpf do proprio candidato.\n",
            "6.871165644171777\n",
            "o edital de abertura com as normas do processo seletivo esta publicado na central de selecao do ifms.inscricoes  devem ser feitas entre 9 e 20 de maio na pagina do candidato.o interessado deve informar um endereco de email valido para que o ifms envie tanto o comprovante de inscricao quanto eventuais informacoes relativas ao processo seletivo.no ato da inscricao tambem e preciso autorizar a consulta do resultado obtido no enem junto ao instituto nacional de estudos e pesquisas educacionais anisio teixeira inep.\n",
            "6.800613496932517\n",
            "nao e obrigatorio para participar da selecao mas e necessario para poder pontuar e definir a classificacao do candidato.ja para a transferencia interna e reingresso na instituicao sao necessarios os seguintes arquivos tambem digitalizadosrg ou outro documento oficial de identificacao com fotocpf caso nao conste a numeracao no documento oficial de identificacaohistorico escolarcarta pessoal informando os motivos para solicitar a transferencia interna.selecao  sera feita por uma comissao especifica com base na documentacao apresentada pelos candidatos.\n",
            "6.794478527607362\n",
            "o preenchimento das vagas so podera ser realizado por candidatos classificados e convocados que possuam certificado de conclusao do ensino medio ou equivalente.ha reserva de vagas para autodeclarados pretos pardos indigenas ou quilombolas candidatos com deficiencia e que tenham cursado integralmente o ensino medio em escolas publicas.a inscricao e gratuita e devera ser realizada entre 15 de abril e 6 de maio exclusivamente pela pagina docandidato da central de selecao.\n",
            "6.757668711656441\n",
            "a partir dai realizamos uma serie de acoes que tem possibilitado resultados nunca alcancados pelo ifms celebra a proreitora de ensino claudia fernandes.preparacao dos campi  as notas obtidas pelos cursos de graduacao do ifms na avaliacao da proreitora de ensino claudia fernandes sao resultado de um trabalho conjunto.\n",
            "6.680981595092025\n",
            "outro requisito e ter o certificado de conclusao do ensino medio ou concluir o ensino medio ate 12 de julho.confira o edital de abertura do processo seletivo publicado na central de selecao do ifms.acao afirmativa cotas  metade das vagas e para quem estudou todo o ensino medio em escola publica.\n",
            "6.61042944785276\n",
            "os resultados foram divulgados nesta semana.foi necessario envolvimento de todo corpo docente da equipe tecnica da gestao institucional e dos estudantes nao apenas durante o periodo proximo da avaliacao mas em todo percurso explica a coordenadora do curso de arquitetura e urbanismo monica prado.jardim  a coordenadora do bacharelado em arquitetura e urbanismo monica prado explica que o processo de avaliacao comecou antes da visita com o envio de documentos apresentacoes e reunioes com os respresentantes do mec.houve uma apresentacao documental detalhada que se intensificou nos ultimos meses.\n",
            "6.604294478527609\n",
            "a partir do proximo ano a oportunidade de estagio tambem se estendera aos alunos dos cursos tecnicos explicou a reitora do ifms elaine cassiano presidente do crie.o convenio disponibilizara aos participantes a oportunidade de conhecer o planejamento estrategico do ms trazendo pessoas que possam contribuir para as areas voltadas ao desenvolvimento do estado oferecendo uma visao diferenciada do setor publico o aprendizado dos conteudos relacionados ao estagio e a compreensao do ms no contexto nacional completou o governador reinaldo azambuja.tambem participaram da assinatura do convenio o diretorpresidente da fundect marcio de araujo os reitores laercio carvalho uems marcelo turine ufms lino sanabria pro tempore da ufgd padre jose marinoni ucdb e taner bitencourt anhanguerauniderp e a diretorapresidente da fapec nilde brun.selecao  a primeira selecao de estagiarios sera realizada em 2021 com 125 vagas e validade de 12 meses pela fundacao de apoio a pesquisa ao ensino e a cultura fapec.os participantes receberao treinamento e passarao por avaliacoes mensais.\n",
            "6.5214723926380405\n",
            "poderao se matricular estudantes dos cursos de pedagogia psicologia assistencia social enfermagem fisioterapia administracao contabilidade informatica direito economia engenharia civil engenharia eletrica engenharia de producao engenharia da computacao engenharia de software arquitetura relacoes internacionais letras ciencias politicas design grafico comunicacao social marketing publicidade e propaganda relacoes publicas gestao publica e jornalismo.crie  criado em agosto de 2017 o conselho de reitores de instituicoes de ensino superior de mato grosso do sul e uma iniciativa que une as principais universidades do estado.\n",
            "6.487730061349692\n",
            "o objetivo e fortalecer as instituicoes publicas e privadas aumentando a troca de experiencias e possibilitando o desenvolvimento da educacao em mato grosso do sul.atualmente o conselho e presidido pela reitora do ifms elaine cassiano e tem como vicepresidente o reitor da uems laercio carvalho.colaboracao cleyton lutzreportar erroensino superiorinscricoes para cursos de graduacao seguem ate marcosao oferecidas 404 vagas para portadores de diploma reingresso e transferencias interna e externa.\n",
            "6.478527607361963\n",
            "aproximadamente 46 estudantes participaram na entrevista com os avaliadores do mec e o feedback  deles foi de que o ifms tem excelentes professores e otima infraestrutura destaca o coordenador da engenharia de controle e automacao edson italo mainardi junior.tres lagoas  os avaliadores do curso de engenharia de controle e automacao tambem destacaram a questao da infraestrutura principalmente das salas de aula.\n",
            "6.398773006134968\n",
            "inscricoes terao inicio em 22 de janeirotweettweetcompartilhar no whatsapp      por juliana aragaopublicado    09012024 09h37ultima modificacao    09012024 09h37o instituto federal de mato grosso do sul ifms esta com 320 vagas abertas para cursos gratuitos de graduacao com ingresso no 2o semestre deste ano.\n",
            "6.386503067484663\n",
            "e obrigatorio que seja realizada no cpf do proprio candidato para que a consulta da nota seja possivel.a selecao dos candidatos sera efetuada exclusivamente com base na nota total mais alta alcancada pelo candidato nas edicoes do enem.\n",
            "6.365030674846626\n",
            "confira a relacao de cursos vagas e municipios.as inscricoes devem ser feitas ate sextafeira 18 exclusivamente na pagina do sisu.o edital com todas as regras do processo seletivo esta publicado na central de selecao do ifms.acoes afirmativas cotas  a opcao pelas acoes afirmativas devera ser feita no ato da inscricao.\n",
            "6.346625766871165\n",
            "candidatos inscritos na ampla concorrencia podem ter um bonus de 20 sobre a nota do enem devendo residir e ser domiciliado na area de abrangencia do campus onde concorre a vaga conforme a relacao dos municipios contemplados disponivel no edital do processo seletivo.de acordo com o cronograma retificado do processo seletivo o resultado preliminar esta previsto para 24 de fevereiro.\n",
            "6.30674846625767\n",
            "quem ganha com esse trabalho conjunto sao os estudantes com graduacoes de excelente qualidade ressalta a reitora elaine cassiano.essa sequencia de quatro conceitos 5 na graduacao do ifms demonstra total sintonia entre os coordenadores dos cursos nos campi e a proreitoria de ensino que realizou uma serie de acoes especificas no sentido de orientalos para receber os avaliadores do mec ressalta a reitora elaine cassiano.a gestora maxima da instituicao tambem aponta outro fator que contribuiu para as avaliacoes maximas.outro ponto que merece destaque e a criacao da coordenacao das bibliotecas que tem dado um suporte fundamental durante as avaliacoes.\n",
            "6.288343558282208\n",
            "poderao ter acrescimo de 20 na nota geral do enem aqueles que sejam residentes e domiciliados na area de abrangencia do campus onde concorre a vaga.o candidato devera optar pela modalidade de cota local no momento da inscricao.cronograma  a primeira chamada sera publicada no dia 30 de janeiro na pagina do sisu mesma data em que comeca o prazo para os candidatos nao selecionados manifestarem interesse em participar da lista de espera.\n",
            "6.266871165644171\n",
            "alem disso os estudantes do curso participam das atividades propostas pela instituicao usufruem de toda infraestrutura e em conjunto com os servidores foram pecachave nesse processo pois com a participacao ativa em tudo que o ifms oferece tiveram propriedade para apresentar a dinamica cotidiana institucional relata.alem da analise da documentacao e do corpo docente o relatorio do mec destacou a infraestrutura fisica do campus que esta com um novo bloco de salas de aula e laboratorios em construcao.\n",
            "6.223926380368097\n",
            "cronograma  no dia 15 de julho sera divulgada a relacao de candidatos aptos a matricula e em lista de espera.entre 16 e 30 de julho sera aberto o periodo para matricula dos candidatos aptos e tambem para manifestacao de interesse dos candidatos da lista de espera.o inicio das aulas esta previsto para 4 de agosto.reportar errotres lagoascandidatos da graduacao sao convocados para heteroidentificacaoprocedimento deve ser realizado por autodeclarados pretos ou pardos ate dia 5 de julho.\n",
            "6.217791411042944\n",
            "nao e obrigatorio para participar da selecao mas e necessario para poder pontuar e definir a classificacao do candidato.ja para a transferencia interna e reingresso sao necessarios os seguintes arquivos tambem digitalizadosrg ou outro documento oficial de identificacao com fotocpf caso nao conste a numeracao no documento oficial de identificacaohistorico escolarcarta pessoal informando os motivos para solicitar a transferencia interna.selecao  sera feita por uma comissao especifica com base na documentacao apresentada pelos candidatos.\n",
            "6.180981595092025\n",
            "cada equipe podera receber ate r 16 mil para preincubacao.tweettweetcompartilhar no whatsapp      por vinicius vieirapublicado    24062020 08h05ultima modificacao    24062020 08h21itens relacionadospublicado edital de fomento a criacao de empresas junioreso instituto federal de mato grosso do sul ifms divulgou na segundafeira 22 a relacao preliminar de propostas inscritas no edital que preve a preincubacao de empresas juniores na tecnoif incubadora de empresas da instituicao.foram selecionados projetos em sete dos dez campi do ifms.\n",
            "6.180981595092023\n",
            "as inscricoes devem ser feitas pela pagina do candidato ate esta quartafeira 17.ja para ingresso no 2o semestre o ifms esta com 320 vagas abertas para aquidauana campo grande e tres lagoas por meio do sistema de selecao unificada sisu.\n",
            "6.153374233128835\n",
            "ele e aluno do ifms desde a inauguracao do campus dourados quando entrou na primeira turma do curso tecnico integrado em informatica para internet.atualmente joao cursa um semestre na licenciatura em design de jogos digitais do campus mirandela do instituto politecnico de braganca ipb em portugal gracas a um programa de mobilidade internacional para o qual foi selecionado pelo ifms.\n",
            "6.141104294478527\n",
            "nao e obrigatorio para participar da selecao mas e necessario para poder pontuar e definir a classificacao do candidato.ja para a transferencia interna e reingresso sao necessarios os seguintes arquivos tambem digitalizadosrg ou outro documento oficial de identificacao com fotocpf caso nao conste a numeracao no documento oficial de identificacaohistorico escolarcarta pessoal informando os motivos para solicitar a transferencia interna.selecao  sera feita com base na documentacao apresentada pelos candidatos.\n",
            "6.128834355828221\n",
            "o ingresso sera feito pelo sistema de selecao unificada sisu.sao ofertadas 17 opcoes de cursos entre superiores de tecnologia licenciaturas e bacharelados nos municipios de aquidauana campo grande corumba coxim dourados jardim navirai nova andradina ponta pora e tres lagoas.\n",
            "6.042944785276074\n",
            "conforme comunicado da proreitoria de ensino proen o prazo seguira aberto ate a reorganizacao dos calendarios academicos dos campi que ofertam vagas os quais deverao ser alterados devido ao movimento grevista de servidores.a selecao sera efetuada com base na nota total mais alta alcancada pelo candidato nas edicoes do enem.\n",
            "6.030674846625766\n",
            "prazo termina na segunda 25.tweettweetcompartilhar no whatsapp      por cleyton lutzpublicado    19072022 14h10ultima modificacao    25072022 08h39o instituto federal de mato grosso do sul ifms esta com inscricoes abertas para 318 vagas residuais em cursos de graduacao ofertados em nove municipios.\n",
            "6.024539877300613\n",
            "o diretor de graduacao do ifms rodrigo cardoso explica que nas duas ocasioes foi reforcada a importancia do processo avaliativo para a instituicao e principalmente para o campus e o curso.na capacitacao foram abordados todos os indicadores referentes a cada uma das tres dimensoes de forma que o coordenador de curso pudesse compreender quais documentos deveriam ser anexados para a comprovacao das evidencias a serem verificadas pelos avaliadores.\n",
            "5.993865030674846\n",
            "o resultado foi positivo tambem em navirai e tres lagoas onde os bacharelados em agronomia e engenharia de computacao respectivamente obtiveram conceito 4.na area da pesquisa foram investidos mais de r 520 mil no custeio de projetos e pagamento de bolsas a estudantes alem dos r 496 mil aplicados na ampliacao da infraestrutura dos laboratorios de ciencia e tecnologia com objetivo de estimular a producao cientifica na instituicao.com a retomada da semana de ciencia e tecnologia sct de forma presencial nos dez campi o ifms registrou mais de 640 trabalhos apresentados nas feiras de ciencia e tecnologia numero 73 maior do que no ano anterior.\n",
            "5.926380368098161\n",
            "o edital de abertura com as normas do processo seletivo esta publicado na central de selecao do ifms.inscricoes  devem ser feitas ate 20 de maio na pagina do candidato da central de selecao.e necessario informar um endereco de email valido para que o ifms envie tanto o comprovante de inscricao quanto eventuais informacoes relativas ao processo seletivo.\n",
            "5.846625766871167\n",
            "no instituto federal de mato grosso do sul ifms sao oferecidas 320 vagas para cursos gratuitos de graduacao com ingresso no 2o semestre deste ano.\n",
            "5.803680981595092\n",
            "nas cotas metade das vagas ofertadas e reservada a candidatos que cursaram todo o ensino medio na rede publica enquanto que as demais se destinam a ampla concorrencia.dentro dessas vagas reservadas parte delas sao para os que comprovarem renda familiar per capita igual ou inferior a um salario minimo e meio aos que se autodeclararem pretos pardos ou indigenas e a pessoas com deficiencia.\n",
            "5.730061349693253\n"
          ]
        }
      ],
      "source": [
        "from collections import defaultdict\n",
        "from heapq import nlargest\n",
        "\n",
        "sentencas_importantes = defaultdict(int)\n",
        "\n",
        "#popula o dicionário com o índice da sentença (key) e a soma da frequência de cada palavra presente na sentença (value)\n",
        "for i, sentenca in enumerate(sentencas):\n",
        "    for palavra in word_tokenize(sentenca.lower()):\n",
        "        if palavra in palavras_peso:\n",
        "            sentencas_importantes[i] += palavras_peso[palavra]\n",
        "\n",
        "#4 sentenças mais importantes\n",
        "selecao_sentencas = nlargest(213, sentencas_importantes, sentencas_importantes.get)\n",
        "\n",
        "sumario = \"\"\n",
        "\n",
        "#Imprimindo sentencas selecionadas e criando sumario\n",
        "for i in selecao_sentencas:\n",
        "    print(sentencas[i])\n",
        "    print(sentencas_importantes[i])\n",
        "    sumario += sentencas[i] + \" \"\n",
        "\n",
        "\n",
        "\n",
        "#Imprimindo todas as sentencas e seus valores\n",
        "#for i, sentenca in enumerate(sentencas):\n",
        "#    print(sentenca)\n",
        "#    print(sentencas_importantes[i])\n",
        "\n"
      ]
    },
    {
      "cell_type": "markdown",
      "metadata": {
        "id": "efU10Wy0rTdo"
      },
      "source": [
        "Estruturando o peso para entrada na Rede Neural"
      ]
    },
    {
      "cell_type": "code",
      "execution_count": 34,
      "metadata": {
        "id": "GWbdJDUTrYJ0"
      },
      "outputs": [],
      "source": [
        "# Sentenças com valores maiores ou igual que 15 = estudante\n",
        "# Sentenças com valores entre 5 e 15 = curso\n",
        "# Sentenças com valores menores que 5 = instituicao\n",
        "\n",
        "sentencas_classificacao = []\n",
        "i = 0\n",
        "\n",
        "for i in range(len(sentencas_importantes)):\n",
        "  if sentencas_importantes[i] >= 15:\n",
        "      sentencas_classificacao.append(\"estudante\")\n",
        "\n",
        "  elif sentencas_importantes[i] >= 5 and sentencas_importantes[i] < 15:\n",
        "      sentencas_classificacao.append(\"curso\")\n",
        "\n",
        "  elif sentencas_importantes[i] < 5:\n",
        "      sentencas_classificacao.append(\"instituicao\")"
      ]
    },
    {
      "cell_type": "markdown",
      "metadata": {
        "id": "38_DCg1hH_3n"
      },
      "source": [
        "# **REDE NEURAL COM SAM**"
      ]
    },
    {
      "cell_type": "markdown",
      "metadata": {
        "id": "kB3h6SHTIDob"
      },
      "source": [
        "Construindo o vocabulário do modelo"
      ]
    },
    {
      "cell_type": "code",
      "execution_count": 35,
      "metadata": {
        "id": "4JWVr0dyUBY1"
      },
      "outputs": [],
      "source": [
        "from sklearn.preprocessing import LabelEncoder\n",
        "from keras.preprocessing.text import Tokenizer\n",
        "from keras.preprocessing.sequence import pad_sequences\n",
        "\n",
        "\n",
        "x = sentencas\n",
        "y = sentencas_classificacao\n",
        "\n",
        "labelencoder = LabelEncoder()\n",
        "y = labelencoder.fit_transform(y)\n",
        "\n",
        "words = [' o ', ' ao ', ' aos ' ,' os ', ' a ', ' as ', ' e ', ' um ', ' uma ', ' ele ', ' ela ', ' eles ', ' elas ',\n",
        "        ' do ', ' da ', ' dos ', ' das ', ' de ', ' no ', ' na ', ' nos ', ' nas ', ' pelo ',\n",
        "        ' pela ', ' pelos ', ' pelas ', ' num ', ' numa ', ' nuns ', ' numas ', ' dum ',\n",
        "        ' duma ', ' duns ', ' dumas ']\n",
        "\n",
        "x_filter = []\n",
        "\n",
        "for title in x:\n",
        "    for word in words:\n",
        "        title = title.replace(word, ' ')\n",
        "    x_filter.append(title)\n",
        "\n",
        "tokenizer = Tokenizer()\n",
        "tokenizer.fit_on_texts(x_filter)\n",
        "\n",
        "vocab = len(tokenizer.word_docs) + 1\n",
        "\n",
        "x = tokenizer.texts_to_sequences(x_filter)\n",
        "\n",
        "max_length = max([len(z) for z in x]) #identifica maior string para o preenchimento de zeros na lista de entrada para a rede\n",
        "\n",
        "x = pad_sequences(x, maxlen=max_length, padding='post')\n"
      ]
    },
    {
      "cell_type": "markdown",
      "metadata": {
        "id": "Vnnbdgh5cbJn"
      },
      "source": [
        "Base de treinamento e teste"
      ]
    },
    {
      "cell_type": "code",
      "execution_count": 36,
      "metadata": {
        "id": "SkCHlOtycaD7"
      },
      "outputs": [],
      "source": [
        "from sklearn.model_selection import train_test_split\n",
        "\n",
        "x_train, x_test, y_train, y_test = train_test_split(x, y, test_size=0.33, random_state = 40)\n"
      ]
    },
    {
      "cell_type": "markdown",
      "metadata": {
        "id": "rCHeoZMkcn7R"
      },
      "source": [
        "Teste com Algoritmo Naive Bayes (Baseline)"
      ]
    },
    {
      "cell_type": "code",
      "execution_count": 37,
      "metadata": {
        "colab": {
          "base_uri": "https://localhost:8080/"
        },
        "id": "nSabrPiUcph5",
        "outputId": "a7408354-938a-4458-d87f-ed82d438edef"
      },
      "outputs": [
        {
          "output_type": "execute_result",
          "data": {
            "text/plain": [
              "0.6923076923076923"
            ]
          },
          "metadata": {},
          "execution_count": 37
        }
      ],
      "source": [
        "from sklearn.naive_bayes import GaussianNB\n",
        "\n",
        "naivebayes = GaussianNB()\n",
        "naivebayes.fit(x_train, y_train)\n",
        "naivebayes.score(x_test, y_test)"
      ]
    },
    {
      "cell_type": "markdown",
      "metadata": {
        "id": "D02YK7ISetcg"
      },
      "source": [
        "Teste com um Algoritmo de Rede Neural"
      ]
    },
    {
      "cell_type": "code",
      "execution_count": 38,
      "metadata": {
        "colab": {
          "base_uri": "https://localhost:8080/"
        },
        "id": "q9lVKIefevee",
        "outputId": "8ead07e1-fb77-4abd-872d-55bc29059b43"
      },
      "outputs": [
        {
          "output_type": "stream",
          "name": "stdout",
          "text": [
            "Epoch 1/100\n",
            "11/11 [==============================] - 1s 34ms/step - loss: 1.9426 - accuracy: 0.3196 - val_loss: 1.8921 - val_accuracy: 0.5740\n",
            "Epoch 2/100\n",
            "11/11 [==============================] - 0s 14ms/step - loss: 1.8545 - accuracy: 0.5367 - val_loss: 1.8123 - val_accuracy: 0.5740\n",
            "Epoch 3/100\n"
          ]
        },
        {
          "output_type": "stream",
          "name": "stderr",
          "text": [
            "/usr/local/lib/python3.10/dist-packages/keras/src/engine/training.py:3103: UserWarning: You are saving your model as an HDF5 file via `model.save()`. This file format is considered legacy. We recommend using instead the native Keras format, e.g. `model.save('my_model.keras')`.\n",
            "  saving_api.save_model(\n"
          ]
        },
        {
          "output_type": "stream",
          "name": "stdout",
          "text": [
            "11/11 [==============================] - 0s 14ms/step - loss: 1.7685 - accuracy: 0.5513 - val_loss: 1.7306 - val_accuracy: 0.5740\n",
            "Epoch 4/100\n",
            "11/11 [==============================] - 0s 14ms/step - loss: 1.6875 - accuracy: 0.5425 - val_loss: 1.6477 - val_accuracy: 0.5740\n",
            "Epoch 5/100\n",
            "11/11 [==============================] - 0s 13ms/step - loss: 1.5957 - accuracy: 0.5425 - val_loss: 1.5623 - val_accuracy: 0.5740\n",
            "Epoch 6/100\n",
            "11/11 [==============================] - 0s 14ms/step - loss: 1.5097 - accuracy: 0.5425 - val_loss: 1.4773 - val_accuracy: 0.5740\n",
            "Epoch 7/100\n",
            "11/11 [==============================] - 0s 14ms/step - loss: 1.4254 - accuracy: 0.5425 - val_loss: 1.3960 - val_accuracy: 0.5740\n",
            "Epoch 8/100\n",
            "11/11 [==============================] - 0s 17ms/step - loss: 1.3526 - accuracy: 0.5425 - val_loss: 1.3199 - val_accuracy: 0.5740\n",
            "Epoch 9/100\n",
            "11/11 [==============================] - 0s 14ms/step - loss: 1.2738 - accuracy: 0.5425 - val_loss: 1.2519 - val_accuracy: 0.5740\n",
            "Epoch 10/100\n",
            "11/11 [==============================] - 0s 14ms/step - loss: 1.2085 - accuracy: 0.5455 - val_loss: 1.1918 - val_accuracy: 0.5740\n",
            "Epoch 11/100\n",
            "11/11 [==============================] - 0s 15ms/step - loss: 1.1332 - accuracy: 0.5484 - val_loss: 1.1394 - val_accuracy: 0.5740\n",
            "Epoch 12/100\n",
            "11/11 [==============================] - 0s 14ms/step - loss: 1.0881 - accuracy: 0.5513 - val_loss: 1.0943 - val_accuracy: 0.5740\n",
            "Epoch 13/100\n",
            "11/11 [==============================] - 0s 15ms/step - loss: 1.0411 - accuracy: 0.5513 - val_loss: 1.0550 - val_accuracy: 0.5740\n",
            "Epoch 14/100\n",
            "11/11 [==============================] - 0s 17ms/step - loss: 1.0032 - accuracy: 0.5572 - val_loss: 1.0215 - val_accuracy: 0.5740\n",
            "Epoch 15/100\n",
            "11/11 [==============================] - 0s 15ms/step - loss: 0.9543 - accuracy: 0.5806 - val_loss: 0.9902 - val_accuracy: 0.5740\n",
            "Epoch 16/100\n",
            "11/11 [==============================] - 0s 14ms/step - loss: 0.9168 - accuracy: 0.5748 - val_loss: 0.9620 - val_accuracy: 0.5740\n",
            "Epoch 17/100\n",
            "11/11 [==============================] - 0s 15ms/step - loss: 0.8727 - accuracy: 0.6217 - val_loss: 0.9357 - val_accuracy: 0.5740\n",
            "Epoch 18/100\n",
            "11/11 [==============================] - 0s 15ms/step - loss: 0.8518 - accuracy: 0.6598 - val_loss: 0.9107 - val_accuracy: 0.5740\n",
            "Epoch 19/100\n",
            "11/11 [==============================] - 0s 16ms/step - loss: 0.8146 - accuracy: 0.6862 - val_loss: 0.8880 - val_accuracy: 0.6095\n",
            "Epoch 20/100\n",
            "11/11 [==============================] - 0s 16ms/step - loss: 0.7783 - accuracy: 0.7155 - val_loss: 0.8656 - val_accuracy: 0.6095\n",
            "Epoch 21/100\n",
            "11/11 [==============================] - 0s 15ms/step - loss: 0.7609 - accuracy: 0.7566 - val_loss: 0.8446 - val_accuracy: 0.6627\n",
            "Epoch 22/100\n",
            "11/11 [==============================] - 0s 17ms/step - loss: 0.7134 - accuracy: 0.7889 - val_loss: 0.8255 - val_accuracy: 0.6923\n",
            "Epoch 23/100\n",
            "11/11 [==============================] - 0s 14ms/step - loss: 0.6700 - accuracy: 0.8182 - val_loss: 0.8046 - val_accuracy: 0.6923\n",
            "Epoch 24/100\n",
            "11/11 [==============================] - 0s 17ms/step - loss: 0.6552 - accuracy: 0.8240 - val_loss: 0.7861 - val_accuracy: 0.7219\n",
            "Epoch 25/100\n",
            "11/11 [==============================] - 0s 28ms/step - loss: 0.6223 - accuracy: 0.8211 - val_loss: 0.7677 - val_accuracy: 0.7278\n",
            "Epoch 26/100\n",
            "11/11 [==============================] - 0s 25ms/step - loss: 0.5740 - accuracy: 0.8856 - val_loss: 0.7491 - val_accuracy: 0.7278\n",
            "Epoch 27/100\n",
            "11/11 [==============================] - 0s 26ms/step - loss: 0.5765 - accuracy: 0.8622 - val_loss: 0.7335 - val_accuracy: 0.7456\n",
            "Epoch 28/100\n",
            "11/11 [==============================] - 0s 20ms/step - loss: 0.5388 - accuracy: 0.8915 - val_loss: 0.7176 - val_accuracy: 0.7456\n",
            "Epoch 29/100\n",
            "11/11 [==============================] - 0s 28ms/step - loss: 0.5009 - accuracy: 0.9296 - val_loss: 0.7028 - val_accuracy: 0.7751\n",
            "Epoch 30/100\n",
            "11/11 [==============================] - 0s 23ms/step - loss: 0.4820 - accuracy: 0.9238 - val_loss: 0.6882 - val_accuracy: 0.7811\n",
            "Epoch 31/100\n",
            "11/11 [==============================] - 0s 28ms/step - loss: 0.4560 - accuracy: 0.9501 - val_loss: 0.6741 - val_accuracy: 0.7929\n",
            "Epoch 32/100\n",
            "11/11 [==============================] - 0s 25ms/step - loss: 0.4301 - accuracy: 0.9443 - val_loss: 0.6605 - val_accuracy: 0.7929\n",
            "Epoch 33/100\n",
            "11/11 [==============================] - 0s 27ms/step - loss: 0.4088 - accuracy: 0.9355 - val_loss: 0.6467 - val_accuracy: 0.7929\n",
            "Epoch 34/100\n",
            "11/11 [==============================] - 0s 23ms/step - loss: 0.4014 - accuracy: 0.9472 - val_loss: 0.6361 - val_accuracy: 0.7929\n",
            "Epoch 35/100\n",
            "11/11 [==============================] - 0s 28ms/step - loss: 0.3744 - accuracy: 0.9589 - val_loss: 0.6257 - val_accuracy: 0.8107\n",
            "Epoch 36/100\n",
            "11/11 [==============================] - 0s 21ms/step - loss: 0.3594 - accuracy: 0.9648 - val_loss: 0.6156 - val_accuracy: 0.8107\n",
            "Epoch 37/100\n",
            "11/11 [==============================] - 0s 15ms/step - loss: 0.3332 - accuracy: 0.9677 - val_loss: 0.6058 - val_accuracy: 0.8107\n",
            "Epoch 38/100\n",
            "11/11 [==============================] - 0s 14ms/step - loss: 0.3306 - accuracy: 0.9677 - val_loss: 0.5960 - val_accuracy: 0.8107\n",
            "Epoch 39/100\n",
            "11/11 [==============================] - 0s 13ms/step - loss: 0.3165 - accuracy: 0.9619 - val_loss: 0.5871 - val_accuracy: 0.7929\n",
            "Epoch 40/100\n",
            "11/11 [==============================] - 0s 14ms/step - loss: 0.2903 - accuracy: 0.9795 - val_loss: 0.5782 - val_accuracy: 0.8047\n",
            "Epoch 41/100\n",
            "11/11 [==============================] - 0s 13ms/step - loss: 0.2937 - accuracy: 0.9648 - val_loss: 0.5704 - val_accuracy: 0.8047\n",
            "Epoch 42/100\n",
            "11/11 [==============================] - 0s 17ms/step - loss: 0.2604 - accuracy: 0.9824 - val_loss: 0.5629 - val_accuracy: 0.8166\n",
            "Epoch 43/100\n",
            "11/11 [==============================] - 0s 15ms/step - loss: 0.2607 - accuracy: 0.9765 - val_loss: 0.5557 - val_accuracy: 0.8166\n",
            "Epoch 44/100\n",
            "11/11 [==============================] - 0s 14ms/step - loss: 0.2397 - accuracy: 0.9824 - val_loss: 0.5490 - val_accuracy: 0.8107\n",
            "Epoch 45/100\n",
            "11/11 [==============================] - 0s 14ms/step - loss: 0.2357 - accuracy: 0.9765 - val_loss: 0.5424 - val_accuracy: 0.8107\n",
            "Epoch 46/100\n",
            "11/11 [==============================] - 0s 14ms/step - loss: 0.2227 - accuracy: 0.9883 - val_loss: 0.5363 - val_accuracy: 0.8107\n",
            "Epoch 47/100\n",
            "11/11 [==============================] - 0s 14ms/step - loss: 0.2133 - accuracy: 0.9853 - val_loss: 0.5311 - val_accuracy: 0.7988\n",
            "Epoch 48/100\n",
            "11/11 [==============================] - 0s 15ms/step - loss: 0.2020 - accuracy: 0.9883 - val_loss: 0.5260 - val_accuracy: 0.7988\n",
            "Epoch 49/100\n",
            "11/11 [==============================] - 0s 14ms/step - loss: 0.1933 - accuracy: 0.9765 - val_loss: 0.5207 - val_accuracy: 0.7988\n",
            "Epoch 50/100\n",
            "11/11 [==============================] - 0s 15ms/step - loss: 0.1977 - accuracy: 0.9824 - val_loss: 0.5156 - val_accuracy: 0.7988\n",
            "Epoch 51/100\n",
            "11/11 [==============================] - 0s 15ms/step - loss: 0.1742 - accuracy: 0.9883 - val_loss: 0.5112 - val_accuracy: 0.7988\n",
            "Epoch 52/100\n",
            "11/11 [==============================] - 0s 15ms/step - loss: 0.1832 - accuracy: 0.9853 - val_loss: 0.5061 - val_accuracy: 0.8047\n",
            "Epoch 53/100\n",
            "11/11 [==============================] - 0s 14ms/step - loss: 0.1673 - accuracy: 0.9912 - val_loss: 0.5032 - val_accuracy: 0.7988\n",
            "Epoch 54/100\n",
            "11/11 [==============================] - 0s 14ms/step - loss: 0.1594 - accuracy: 0.9912 - val_loss: 0.4996 - val_accuracy: 0.8107\n",
            "Epoch 55/100\n",
            "11/11 [==============================] - 0s 16ms/step - loss: 0.1571 - accuracy: 0.9941 - val_loss: 0.4956 - val_accuracy: 0.8225\n",
            "Epoch 56/100\n",
            "11/11 [==============================] - 0s 14ms/step - loss: 0.1511 - accuracy: 0.9824 - val_loss: 0.4925 - val_accuracy: 0.8107\n",
            "Epoch 57/100\n",
            "11/11 [==============================] - 0s 14ms/step - loss: 0.1453 - accuracy: 0.9912 - val_loss: 0.4890 - val_accuracy: 0.8107\n",
            "Epoch 58/100\n",
            "11/11 [==============================] - 0s 13ms/step - loss: 0.1382 - accuracy: 0.9824 - val_loss: 0.4855 - val_accuracy: 0.7988\n",
            "Epoch 59/100\n",
            "11/11 [==============================] - 0s 14ms/step - loss: 0.1384 - accuracy: 0.9824 - val_loss: 0.4819 - val_accuracy: 0.7988\n",
            "Epoch 60/100\n",
            "11/11 [==============================] - 0s 13ms/step - loss: 0.1193 - accuracy: 0.9971 - val_loss: 0.4786 - val_accuracy: 0.8166\n",
            "Epoch 61/100\n",
            "11/11 [==============================] - 0s 14ms/step - loss: 0.1204 - accuracy: 0.9971 - val_loss: 0.4761 - val_accuracy: 0.8166\n",
            "Epoch 62/100\n",
            "11/11 [==============================] - 0s 16ms/step - loss: 0.1260 - accuracy: 0.9824 - val_loss: 0.4738 - val_accuracy: 0.8284\n",
            "Epoch 63/100\n",
            "11/11 [==============================] - 0s 13ms/step - loss: 0.1155 - accuracy: 0.9912 - val_loss: 0.4714 - val_accuracy: 0.8107\n",
            "Epoch 64/100\n",
            "11/11 [==============================] - 0s 14ms/step - loss: 0.1122 - accuracy: 0.9941 - val_loss: 0.4692 - val_accuracy: 0.8166\n",
            "Epoch 65/100\n",
            "11/11 [==============================] - 0s 14ms/step - loss: 0.1048 - accuracy: 0.9941 - val_loss: 0.4677 - val_accuracy: 0.8166\n",
            "Epoch 66/100\n",
            "11/11 [==============================] - 0s 14ms/step - loss: 0.1025 - accuracy: 0.9971 - val_loss: 0.4652 - val_accuracy: 0.8166\n",
            "Epoch 67/100\n",
            "11/11 [==============================] - 0s 13ms/step - loss: 0.1099 - accuracy: 0.9883 - val_loss: 0.4640 - val_accuracy: 0.8107\n",
            "Epoch 68/100\n",
            "11/11 [==============================] - 0s 13ms/step - loss: 0.1034 - accuracy: 0.9941 - val_loss: 0.4621 - val_accuracy: 0.8225\n",
            "Epoch 69/100\n",
            "11/11 [==============================] - 0s 15ms/step - loss: 0.0940 - accuracy: 0.9941 - val_loss: 0.4614 - val_accuracy: 0.8107\n",
            "Epoch 70/100\n",
            "11/11 [==============================] - 0s 18ms/step - loss: 0.0918 - accuracy: 1.0000 - val_loss: 0.4597 - val_accuracy: 0.8225\n",
            "Epoch 71/100\n",
            "11/11 [==============================] - 0s 15ms/step - loss: 0.0917 - accuracy: 0.9883 - val_loss: 0.4581 - val_accuracy: 0.8225\n",
            "Epoch 72/100\n",
            "11/11 [==============================] - 0s 16ms/step - loss: 0.0887 - accuracy: 0.9883 - val_loss: 0.4567 - val_accuracy: 0.8107\n",
            "Epoch 73/100\n",
            "11/11 [==============================] - 0s 14ms/step - loss: 0.0892 - accuracy: 0.9941 - val_loss: 0.4556 - val_accuracy: 0.8107\n",
            "Epoch 74/100\n",
            "11/11 [==============================] - 0s 14ms/step - loss: 0.0841 - accuracy: 1.0000 - val_loss: 0.4551 - val_accuracy: 0.8107\n",
            "Epoch 75/100\n",
            "11/11 [==============================] - 0s 15ms/step - loss: 0.0769 - accuracy: 1.0000 - val_loss: 0.4531 - val_accuracy: 0.8107\n",
            "Epoch 76/100\n",
            "11/11 [==============================] - 0s 14ms/step - loss: 0.0770 - accuracy: 0.9971 - val_loss: 0.4514 - val_accuracy: 0.8225\n",
            "Epoch 77/100\n",
            "11/11 [==============================] - 0s 16ms/step - loss: 0.0759 - accuracy: 0.9912 - val_loss: 0.4503 - val_accuracy: 0.8107\n",
            "Epoch 78/100\n",
            "11/11 [==============================] - 0s 14ms/step - loss: 0.0725 - accuracy: 0.9971 - val_loss: 0.4492 - val_accuracy: 0.8107\n",
            "Epoch 79/100\n",
            "11/11 [==============================] - 0s 15ms/step - loss: 0.0698 - accuracy: 0.9941 - val_loss: 0.4477 - val_accuracy: 0.8107\n",
            "Epoch 80/100\n",
            "11/11 [==============================] - 0s 14ms/step - loss: 0.0647 - accuracy: 0.9971 - val_loss: 0.4472 - val_accuracy: 0.8166\n",
            "Epoch 81/100\n",
            "11/11 [==============================] - 0s 16ms/step - loss: 0.0687 - accuracy: 0.9971 - val_loss: 0.4462 - val_accuracy: 0.8166\n",
            "Epoch 82/100\n",
            "11/11 [==============================] - 0s 14ms/step - loss: 0.0632 - accuracy: 1.0000 - val_loss: 0.4454 - val_accuracy: 0.8166\n",
            "Epoch 83/100\n",
            "11/11 [==============================] - 0s 15ms/step - loss: 0.0596 - accuracy: 1.0000 - val_loss: 0.4447 - val_accuracy: 0.8166\n",
            "Epoch 84/100\n",
            "11/11 [==============================] - 0s 15ms/step - loss: 0.0647 - accuracy: 0.9941 - val_loss: 0.4442 - val_accuracy: 0.8166\n",
            "Epoch 85/100\n",
            "11/11 [==============================] - 0s 16ms/step - loss: 0.0523 - accuracy: 0.9941 - val_loss: 0.4427 - val_accuracy: 0.8225\n",
            "Epoch 86/100\n",
            "11/11 [==============================] - 0s 15ms/step - loss: 0.0619 - accuracy: 0.9971 - val_loss: 0.4424 - val_accuracy: 0.8166\n",
            "Epoch 87/100\n",
            "11/11 [==============================] - 0s 19ms/step - loss: 0.0623 - accuracy: 0.9941 - val_loss: 0.4411 - val_accuracy: 0.8343\n",
            "Epoch 88/100\n",
            "11/11 [==============================] - 0s 14ms/step - loss: 0.0587 - accuracy: 0.9971 - val_loss: 0.4411 - val_accuracy: 0.8284\n",
            "Epoch 89/100\n",
            "11/11 [==============================] - 0s 15ms/step - loss: 0.0537 - accuracy: 0.9971 - val_loss: 0.4412 - val_accuracy: 0.8284\n",
            "Epoch 90/100\n",
            "11/11 [==============================] - 0s 16ms/step - loss: 0.0537 - accuracy: 0.9971 - val_loss: 0.4410 - val_accuracy: 0.8225\n",
            "Epoch 91/100\n",
            "11/11 [==============================] - 0s 15ms/step - loss: 0.0569 - accuracy: 0.9912 - val_loss: 0.4404 - val_accuracy: 0.8225\n",
            "Epoch 92/100\n",
            "11/11 [==============================] - 0s 15ms/step - loss: 0.0529 - accuracy: 1.0000 - val_loss: 0.4406 - val_accuracy: 0.8225\n",
            "Epoch 93/100\n",
            "11/11 [==============================] - 0s 16ms/step - loss: 0.0451 - accuracy: 0.9971 - val_loss: 0.4402 - val_accuracy: 0.8343\n",
            "Epoch 94/100\n",
            "11/11 [==============================] - 0s 15ms/step - loss: 0.0542 - accuracy: 0.9971 - val_loss: 0.4407 - val_accuracy: 0.8343\n",
            "Epoch 95/100\n",
            "11/11 [==============================] - 0s 18ms/step - loss: 0.0498 - accuracy: 0.9941 - val_loss: 0.4417 - val_accuracy: 0.8225\n",
            "Epoch 96/100\n",
            "11/11 [==============================] - 0s 19ms/step - loss: 0.0415 - accuracy: 1.0000 - val_loss: 0.4428 - val_accuracy: 0.8225\n",
            "Epoch 97/100\n",
            "11/11 [==============================] - 0s 24ms/step - loss: 0.0425 - accuracy: 1.0000 - val_loss: 0.4423 - val_accuracy: 0.8225\n",
            "Epoch 98/100\n",
            "11/11 [==============================] - 0s 21ms/step - loss: 0.0477 - accuracy: 0.9941 - val_loss: 0.4407 - val_accuracy: 0.8225\n",
            "Epoch 99/100\n",
            "11/11 [==============================] - 0s 20ms/step - loss: 0.0472 - accuracy: 1.0000 - val_loss: 0.4400 - val_accuracy: 0.8225\n",
            "Epoch 100/100\n",
            "11/11 [==============================] - 0s 21ms/step - loss: 0.0448 - accuracy: 1.0000 - val_loss: 0.4405 - val_accuracy: 0.8225\n",
            "6/6 [==============================] - 0s 6ms/step - loss: 0.4411 - accuracy: 0.8343\n",
            "[0.4411281645298004, 0.834319531917572]\n"
          ]
        }
      ],
      "source": [
        "from keras.models import Sequential\n",
        "from keras.layers import Dense, Embedding, GlobalMaxPooling1D, Dropout\n",
        "from keras.callbacks import ModelCheckpoint\n",
        "from sklearn.metrics import confusion_matrix\n",
        "import numpy as np\n",
        "\n",
        "model = Sequential()\n",
        "model.add(Embedding(input_dim=vocab, output_dim=80, input_length=max_length, trainable = True))\n",
        "model.add(GlobalMaxPooling1D())\n",
        "model.add(Dropout(0.3))\n",
        "model.add(Dense(units = 7, activation = 'softmax'))\n",
        "model.compile(optimizer = 'adam', loss = 'sparse_categorical_crossentropy', metrics = ['accuracy'])\n",
        "\n",
        "mc = ModelCheckpoint('weights.best.hdf5', monitor='val_accuracy', save_best_only=True, mode='max')\n",
        "\n",
        "model.fit(x_train, y_train, validation_data = (x_test, y_test), batch_size = 32, epochs = 100, callbacks = [mc])\n",
        "\n",
        "model.load_weights('weights.best.hdf5')\n",
        "print(model.evaluate(x_test, y_test))\n",
        "\n",
        "y_pred = np.argmax(model(x_test), axis=-1)\n",
        "\n",
        "matrix = confusion_matrix(y_test, y_pred)\n",
        "\n"
      ]
    },
    {
      "cell_type": "markdown",
      "metadata": {
        "id": "MeILnfuHy5aK"
      },
      "source": [
        "# **Cálculo da Métrica Rouge - Utilizada na Avaliação de SAM**"
      ]
    },
    {
      "cell_type": "markdown",
      "metadata": {
        "id": "HML5Cxay0Pa5"
      },
      "source": [
        "Instalando pacotes"
      ]
    },
    {
      "cell_type": "code",
      "execution_count": 18,
      "metadata": {
        "colab": {
          "base_uri": "https://localhost:8080/"
        },
        "id": "dN1hGspP0VIO",
        "outputId": "1c51bed7-e95b-4a12-96e1-06128ce3238a"
      },
      "outputs": [
        {
          "output_type": "stream",
          "name": "stdout",
          "text": [
            "Collecting evaluate\n",
            "  Downloading evaluate-0.4.2-py3-none-any.whl (84 kB)\n",
            "\u001b[2K     \u001b[90m━━━━━━━━━━━━━━━━━━━━━━━━━━━━━━━━━━━━━━━━\u001b[0m \u001b[32m84.1/84.1 kB\u001b[0m \u001b[31m2.1 MB/s\u001b[0m eta \u001b[36m0:00:00\u001b[0m\n",
            "\u001b[?25hCollecting datasets>=2.0.0 (from evaluate)\n",
            "  Downloading datasets-2.19.1-py3-none-any.whl (542 kB)\n",
            "\u001b[2K     \u001b[90m━━━━━━━━━━━━━━━━━━━━━━━━━━━━━━━━━━━━━━━━\u001b[0m \u001b[32m542.0/542.0 kB\u001b[0m \u001b[31m14.2 MB/s\u001b[0m eta \u001b[36m0:00:00\u001b[0m\n",
            "\u001b[?25hRequirement already satisfied: numpy>=1.17 in /usr/local/lib/python3.10/dist-packages (from evaluate) (1.25.2)\n",
            "Collecting dill (from evaluate)\n",
            "  Downloading dill-0.3.8-py3-none-any.whl (116 kB)\n",
            "\u001b[2K     \u001b[90m━━━━━━━━━━━━━━━━━━━━━━━━━━━━━━━━━━━━━━━━\u001b[0m \u001b[32m116.3/116.3 kB\u001b[0m \u001b[31m16.7 MB/s\u001b[0m eta \u001b[36m0:00:00\u001b[0m\n",
            "\u001b[?25hRequirement already satisfied: pandas in /usr/local/lib/python3.10/dist-packages (from evaluate) (2.0.3)\n",
            "Requirement already satisfied: requests>=2.19.0 in /usr/local/lib/python3.10/dist-packages (from evaluate) (2.31.0)\n",
            "Requirement already satisfied: tqdm>=4.62.1 in /usr/local/lib/python3.10/dist-packages (from evaluate) (4.66.4)\n",
            "Collecting xxhash (from evaluate)\n",
            "  Downloading xxhash-3.4.1-cp310-cp310-manylinux_2_17_x86_64.manylinux2014_x86_64.whl (194 kB)\n",
            "\u001b[2K     \u001b[90m━━━━━━━━━━━━━━━━━━━━━━━━━━━━━━━━━━━━━━━━\u001b[0m \u001b[32m194.1/194.1 kB\u001b[0m \u001b[31m25.1 MB/s\u001b[0m eta \u001b[36m0:00:00\u001b[0m\n",
            "\u001b[?25hCollecting multiprocess (from evaluate)\n",
            "  Downloading multiprocess-0.70.16-py310-none-any.whl (134 kB)\n",
            "\u001b[2K     \u001b[90m━━━━━━━━━━━━━━━━━━━━━━━━━━━━━━━━━━━━━━━━\u001b[0m \u001b[32m134.8/134.8 kB\u001b[0m \u001b[31m15.8 MB/s\u001b[0m eta \u001b[36m0:00:00\u001b[0m\n",
            "\u001b[?25hRequirement already satisfied: fsspec[http]>=2021.05.0 in /usr/local/lib/python3.10/dist-packages (from evaluate) (2023.6.0)\n",
            "Requirement already satisfied: huggingface-hub>=0.7.0 in /usr/local/lib/python3.10/dist-packages (from evaluate) (0.20.3)\n",
            "Requirement already satisfied: packaging in /usr/local/lib/python3.10/dist-packages (from evaluate) (24.0)\n",
            "Requirement already satisfied: filelock in /usr/local/lib/python3.10/dist-packages (from datasets>=2.0.0->evaluate) (3.14.0)\n",
            "Requirement already satisfied: pyarrow>=12.0.0 in /usr/local/lib/python3.10/dist-packages (from datasets>=2.0.0->evaluate) (14.0.2)\n",
            "Requirement already satisfied: pyarrow-hotfix in /usr/local/lib/python3.10/dist-packages (from datasets>=2.0.0->evaluate) (0.6)\n",
            "Requirement already satisfied: aiohttp in /usr/local/lib/python3.10/dist-packages (from datasets>=2.0.0->evaluate) (3.9.5)\n",
            "Collecting huggingface-hub>=0.7.0 (from evaluate)\n",
            "  Downloading huggingface_hub-0.23.0-py3-none-any.whl (401 kB)\n",
            "\u001b[2K     \u001b[90m━━━━━━━━━━━━━━━━━━━━━━━━━━━━━━━━━━━━━━━━\u001b[0m \u001b[32m401.2/401.2 kB\u001b[0m \u001b[31m38.7 MB/s\u001b[0m eta \u001b[36m0:00:00\u001b[0m\n",
            "\u001b[?25hRequirement already satisfied: pyyaml>=5.1 in /usr/local/lib/python3.10/dist-packages (from datasets>=2.0.0->evaluate) (6.0.1)\n",
            "Requirement already satisfied: typing-extensions>=3.7.4.3 in /usr/local/lib/python3.10/dist-packages (from huggingface-hub>=0.7.0->evaluate) (4.11.0)\n",
            "Requirement already satisfied: charset-normalizer<4,>=2 in /usr/local/lib/python3.10/dist-packages (from requests>=2.19.0->evaluate) (3.3.2)\n",
            "Requirement already satisfied: idna<4,>=2.5 in /usr/local/lib/python3.10/dist-packages (from requests>=2.19.0->evaluate) (3.7)\n",
            "Requirement already satisfied: urllib3<3,>=1.21.1 in /usr/local/lib/python3.10/dist-packages (from requests>=2.19.0->evaluate) (2.0.7)\n",
            "Requirement already satisfied: certifi>=2017.4.17 in /usr/local/lib/python3.10/dist-packages (from requests>=2.19.0->evaluate) (2024.2.2)\n",
            "Requirement already satisfied: python-dateutil>=2.8.2 in /usr/local/lib/python3.10/dist-packages (from pandas->evaluate) (2.8.2)\n",
            "Requirement already satisfied: pytz>=2020.1 in /usr/local/lib/python3.10/dist-packages (from pandas->evaluate) (2023.4)\n",
            "Requirement already satisfied: tzdata>=2022.1 in /usr/local/lib/python3.10/dist-packages (from pandas->evaluate) (2024.1)\n",
            "Requirement already satisfied: aiosignal>=1.1.2 in /usr/local/lib/python3.10/dist-packages (from aiohttp->datasets>=2.0.0->evaluate) (1.3.1)\n",
            "Requirement already satisfied: attrs>=17.3.0 in /usr/local/lib/python3.10/dist-packages (from aiohttp->datasets>=2.0.0->evaluate) (23.2.0)\n",
            "Requirement already satisfied: frozenlist>=1.1.1 in /usr/local/lib/python3.10/dist-packages (from aiohttp->datasets>=2.0.0->evaluate) (1.4.1)\n",
            "Requirement already satisfied: multidict<7.0,>=4.5 in /usr/local/lib/python3.10/dist-packages (from aiohttp->datasets>=2.0.0->evaluate) (6.0.5)\n",
            "Requirement already satisfied: yarl<2.0,>=1.0 in /usr/local/lib/python3.10/dist-packages (from aiohttp->datasets>=2.0.0->evaluate) (1.9.4)\n",
            "Requirement already satisfied: async-timeout<5.0,>=4.0 in /usr/local/lib/python3.10/dist-packages (from aiohttp->datasets>=2.0.0->evaluate) (4.0.3)\n",
            "Requirement already satisfied: six>=1.5 in /usr/local/lib/python3.10/dist-packages (from python-dateutil>=2.8.2->pandas->evaluate) (1.16.0)\n",
            "Installing collected packages: xxhash, dill, multiprocess, huggingface-hub, datasets, evaluate\n",
            "  Attempting uninstall: huggingface-hub\n",
            "    Found existing installation: huggingface-hub 0.20.3\n",
            "    Uninstalling huggingface-hub-0.20.3:\n",
            "      Successfully uninstalled huggingface-hub-0.20.3\n",
            "Successfully installed datasets-2.19.1 dill-0.3.8 evaluate-0.4.2 huggingface-hub-0.23.0 multiprocess-0.70.16 xxhash-3.4.1\n"
          ]
        }
      ],
      "source": [
        "pip install evaluate"
      ]
    },
    {
      "cell_type": "code",
      "execution_count": 39,
      "metadata": {
        "colab": {
          "base_uri": "https://localhost:8080/"
        },
        "id": "CjxulcvD05WK",
        "outputId": "aafb2a84-0635-4330-da49-46b60aefebe3"
      },
      "outputs": [
        {
          "output_type": "stream",
          "name": "stdout",
          "text": [
            "Requirement already satisfied: rouge_score in /usr/local/lib/python3.10/dist-packages (0.1.2)\n",
            "Requirement already satisfied: absl-py in /usr/local/lib/python3.10/dist-packages (from rouge_score) (1.4.0)\n",
            "Requirement already satisfied: nltk in /usr/local/lib/python3.10/dist-packages (from rouge_score) (3.8.1)\n",
            "Requirement already satisfied: numpy in /usr/local/lib/python3.10/dist-packages (from rouge_score) (1.25.2)\n",
            "Requirement already satisfied: six>=1.14.0 in /usr/local/lib/python3.10/dist-packages (from rouge_score) (1.16.0)\n",
            "Requirement already satisfied: click in /usr/local/lib/python3.10/dist-packages (from nltk->rouge_score) (8.1.7)\n",
            "Requirement already satisfied: joblib in /usr/local/lib/python3.10/dist-packages (from nltk->rouge_score) (1.4.2)\n",
            "Requirement already satisfied: regex>=2021.8.3 in /usr/local/lib/python3.10/dist-packages (from nltk->rouge_score) (2023.12.25)\n",
            "Requirement already satisfied: tqdm in /usr/local/lib/python3.10/dist-packages (from nltk->rouge_score) (4.66.4)\n"
          ]
        }
      ],
      "source": [
        "pip install rouge_score"
      ]
    },
    {
      "cell_type": "code",
      "execution_count": 40,
      "metadata": {
        "colab": {
          "base_uri": "https://localhost:8080/"
        },
        "id": "ZFyfDsY8SVXj",
        "outputId": "946facf0-8313-48f0-d010-8af9ee83f9e4"
      },
      "outputs": [
        {
          "output_type": "stream",
          "name": "stdout",
          "text": [
            "Requirement already satisfied: rouge in /usr/local/lib/python3.10/dist-packages (1.0.1)\n",
            "Requirement already satisfied: six in /usr/local/lib/python3.10/dist-packages (from rouge) (1.16.0)\n"
          ]
        }
      ],
      "source": [
        "pip install rouge"
      ]
    },
    {
      "cell_type": "markdown",
      "metadata": {
        "id": "MEOl746i0dmM"
      },
      "source": [
        "Executando métrica - Rouge\n",
        "\n",
        "Nota: \"f\" significa f1_score, \"p\" significa precisão e \"r\" significa recall."
      ]
    },
    {
      "cell_type": "code",
      "source": [
        "#Análise para o texto tradicional\n",
        "\n",
        "from rouge import Rouge\n",
        "rouge_scorer = Rouge()\n",
        "\n",
        "scores = rouge_scorer.get_scores(\n",
        "    hyps=sumario,\n",
        "    refs=texto,\n",
        "    avg=True\n",
        ")\n",
        "\n",
        "scores"
      ],
      "metadata": {
        "colab": {
          "base_uri": "https://localhost:8080/"
        },
        "id": "7r0khA53TaYm",
        "outputId": "39d81970-3182-4938-fc75-6008a398b286"
      },
      "execution_count": 41,
      "outputs": [
        {
          "output_type": "execute_result",
          "data": {
            "text/plain": [
              "{'rouge-1': {'r': 0.29228317778283636,\n",
              "  'p': 0.38968133535660093,\n",
              "  'f': 0.33402705025287227},\n",
              " 'rouge-2': {'r': 0.2373168397025256,\n",
              "  'p': 0.3299887375857479,\n",
              "  'f': 0.27608359972482316},\n",
              " 'rouge-l': {'r': 0.2909173685408605,\n",
              "  'p': 0.3878603945371775,\n",
              "  'f': 0.33246617616338214}}"
            ]
          },
          "metadata": {},
          "execution_count": 41
        }
      ]
    },
    {
      "cell_type": "code",
      "execution_count": 42,
      "metadata": {
        "colab": {
          "base_uri": "https://localhost:8080/"
        },
        "id": "_K84qGhyzAf3",
        "outputId": "4151642b-2fc8-499d-a7fe-7ad245a7d62b"
      },
      "outputs": [
        {
          "output_type": "execute_result",
          "data": {
            "text/plain": [
              "{'rouge-1': {'r': 0.8459167950693375,\n",
              "  'p': 0.9996965098634294,\n",
              "  'f': 0.9164000506752746},\n",
              " 'rouge-2': {'r': 0.7891462715887697,\n",
              "  'p': 0.9870994164021706,\n",
              "  'f': 0.8770924259209061},\n",
              " 'rouge-l': {'r': 0.8459167950693375,\n",
              "  'p': 0.9996965098634294,\n",
              "  'f': 0.9164000506752746}}"
            ]
          },
          "metadata": {},
          "execution_count": 42
        }
      ],
      "source": [
        "#Análise para o texto normalizado\n",
        "\n",
        "from rouge import Rouge\n",
        "rouge_scorer = Rouge()\n",
        "\n",
        "scores_normalizado = rouge_scorer.get_scores(\n",
        "    hyps=sumario,\n",
        "    refs=texto_normalizado,\n",
        "    avg=True\n",
        ")\n",
        "\n",
        "scores_normalizado\n"
      ]
    }
  ],
  "metadata": {
    "colab": {
      "provenance": [],
      "include_colab_link": true
    },
    "kernelspec": {
      "display_name": "Python 3",
      "name": "python3"
    },
    "language_info": {
      "name": "python"
    }
  },
  "nbformat": 4,
  "nbformat_minor": 0
}